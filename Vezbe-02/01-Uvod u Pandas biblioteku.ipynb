{
 "cells": [
  {
   "cell_type": "markdown",
   "id": "e1096665",
   "metadata": {},
   "source": [
    "# Uvod u biblioteku Pandas"
   ]
  },
  {
   "cell_type": "markdown",
   "id": "7b09b998",
   "metadata": {},
   "source": [
    "**Pandas** je Python biblioteka koja je namenjena radu sa tabelarnim podacima. Na [ovom](https://pandas.pydata.org/) linku se nalazi zvanična stranica, a [ovde](http://pandas.pydata.org/pandas-docs/stable/getting_started/10min.html) se može pronaći koristan tutorijal."
   ]
  },
  {
   "cell_type": "markdown",
   "id": "2ae7e6ac",
   "metadata": {},
   "source": [
    "Osnovne strukture podataka koje koristi biblioteka Pandas su:\n",
    "\n",
    "- jednodimenziona struktura **Series**\n",
    "- dvodimenziona struktura **DataFrame**\n",
    "\n",
    "U pitanju su strukture podataka kojima se predstavljaju strukturni podaci koji imaju obeležja po jednoj, odnosno dve dimenzije."
   ]
  },
  {
   "cell_type": "code",
   "execution_count": 1,
   "id": "f67bb268",
   "metadata": {},
   "outputs": [],
   "source": [
    "import pandas as pd\n",
    "import numpy as np\n",
    "import matplotlib.pyplot as plt\n",
    "%matplotlib inline"
   ]
  },
  {
   "cell_type": "markdown",
   "id": "9c378c8a",
   "metadata": {},
   "source": [
    "# Series objekti"
   ]
  },
  {
   "cell_type": "markdown",
   "id": "7f0d89a9",
   "metadata": {},
   "source": [
    "**Series** je struktura podataka koja odgovara jednodimenzionom nizu sa pridruženim obeležjima (indeksima)."
   ]
  },
  {
   "cell_type": "code",
   "execution_count": 2,
   "id": "a3c26384",
   "metadata": {},
   "outputs": [
    {
     "name": "stdout",
     "output_type": "stream",
     "text": [
      "0    (1, 3)\n",
      "1    (2, 4)\n",
      "2    (6, 4)\n",
      "3    (5, 7)\n",
      "dtype: object\n"
     ]
    }
   ],
   "source": [
    "points = pd.Series([(1, 3), (2, 4), (6, 4), (5, 7)])\n",
    "print(points)"
   ]
  },
  {
   "cell_type": "code",
   "execution_count": 3,
   "id": "f7a5db1d",
   "metadata": {},
   "outputs": [
    {
     "name": "stdout",
     "output_type": "stream",
     "text": [
      "Vrednosti:  [(1, 3) (2, 4) (6, 4) (5, 7)]\n"
     ]
    }
   ],
   "source": [
    "print('Vrednosti: ', points.values)"
   ]
  },
  {
   "cell_type": "code",
   "execution_count": 4,
   "id": "a558f68a",
   "metadata": {},
   "outputs": [
    {
     "name": "stdout",
     "output_type": "stream",
     "text": [
      "Indeksi:  RangeIndex(start=0, stop=4, step=1)\n"
     ]
    }
   ],
   "source": [
    "print('Indeksi: ', points.index)"
   ]
  },
  {
   "cell_type": "markdown",
   "id": "4365d619",
   "metadata": {},
   "source": [
    "Indeks objekta Series je podrazumevano sekvenca celobrojnih vrednosti. U opštem slučaju se parametrom `index` prilikom konstrukcije serije može eksplicitno zadati index."
   ]
  },
  {
   "cell_type": "code",
   "execution_count": 5,
   "id": "37bd6fc0",
   "metadata": {},
   "outputs": [
    {
     "name": "stdout",
     "output_type": "stream",
     "text": [
      "A    (1, 3)\n",
      "B    (2, 4)\n",
      "C    (6, 4)\n",
      "D    (5, 7)\n",
      "dtype: object\n"
     ]
    }
   ],
   "source": [
    "points = pd.Series([(1, 3), (2, 4), (6, 4), (5, 7)], index=['A', 'B', 'C', 'D'])\n",
    "print(points)"
   ]
  },
  {
   "cell_type": "code",
   "execution_count": 6,
   "id": "02afb7ce",
   "metadata": {},
   "outputs": [
    {
     "name": "stdout",
     "output_type": "stream",
     "text": [
      "Indeksi:  Index(['A', 'B', 'C', 'D'], dtype='object')\n"
     ]
    }
   ],
   "source": [
    "print('Indeksi: ', points.index)"
   ]
  },
  {
   "cell_type": "markdown",
   "id": "a741d7f5",
   "metadata": {},
   "source": [
    "Elementi serije i njihovi indeksi se mogu zadati i u formi rečnika. "
   ]
  },
  {
   "cell_type": "code",
   "execution_count": 7,
   "id": "d14d78b7",
   "metadata": {},
   "outputs": [
    {
     "name": "stdout",
     "output_type": "stream",
     "text": [
      "A    (1, 3)\n",
      "B    (2, 4)\n",
      "C    (6, 4)\n",
      "D    (5, 7)\n",
      "dtype: object\n"
     ]
    }
   ],
   "source": [
    "points = pd.Series({'A' : (1, 3), 'B' : (2, 4), 'C' : (6, 4), 'D' : (5, 7)})\n",
    "print(points)"
   ]
  },
  {
   "cell_type": "markdown",
   "id": "540f4196",
   "metadata": {},
   "source": [
    "Korišćenjem funkcije `reindex` se može izvršiti preraspodela elemenata serije."
   ]
  },
  {
   "cell_type": "code",
   "execution_count": 8,
   "id": "569b0580",
   "metadata": {},
   "outputs": [
    {
     "data": {
      "text/plain": [
       "B    (2, 4)\n",
       "D    (5, 7)\n",
       "A    (1, 3)\n",
       "C    (6, 4)\n",
       "dtype: object"
      ]
     },
     "execution_count": 8,
     "metadata": {},
     "output_type": "execute_result"
    }
   ],
   "source": [
    "points.reindex(index=['B', 'D', 'A', 'C'])"
   ]
  },
  {
   "cell_type": "markdown",
   "id": "3742413a",
   "metadata": {},
   "source": [
    "## Indeksiranje i izdvajanje elemenata (eng. slicing)"
   ]
  },
  {
   "cell_type": "markdown",
   "id": "9f9ae8e8",
   "metadata": {},
   "source": [
    "Postoji više načina za pristup elementima objekta Series:\n",
    "\n",
    "1) Objekat Series ima kao atribute svaku od vrednosti indeksa elemenata, tako da se pojedinačnim elementima može pristupiti na taj način.\n",
    "\n",
    "2) Nad objektima Series se može primeniti operator indeksiranja \\[\\] koji očekuje vrednosti njihovog indeksa ili pozicije."
   ]
  },
  {
   "cell_type": "code",
   "execution_count": 9,
   "id": "f6d677a1",
   "metadata": {},
   "outputs": [
    {
     "name": "stdout",
     "output_type": "stream",
     "text": [
      "(6, 4)\n"
     ]
    }
   ],
   "source": [
    "print(points.C)"
   ]
  },
  {
   "cell_type": "code",
   "execution_count": 10,
   "id": "a5690db1",
   "metadata": {},
   "outputs": [
    {
     "name": "stdout",
     "output_type": "stream",
     "text": [
      "(6, 4)\n"
     ]
    }
   ],
   "source": [
    "print(points['C'])"
   ]
  },
  {
   "cell_type": "code",
   "execution_count": 11,
   "id": "59927c5b",
   "metadata": {},
   "outputs": [
    {
     "name": "stdout",
     "output_type": "stream",
     "text": [
      "B    (2, 4)\n",
      "C    (6, 4)\n",
      "dtype: object\n"
     ]
    }
   ],
   "source": [
    "print(points[['B', 'C']])"
   ]
  },
  {
   "cell_type": "code",
   "execution_count": 12,
   "id": "7a38e6c9",
   "metadata": {},
   "outputs": [
    {
     "name": "stdout",
     "output_type": "stream",
     "text": [
      "A    (1, 3)\n",
      "C    (6, 4)\n",
      "dtype: object\n"
     ]
    }
   ],
   "source": [
    "print(points[::2])"
   ]
  },
  {
   "cell_type": "markdown",
   "id": "c228aecb",
   "metadata": {},
   "source": [
    "# DataFrame objekti"
   ]
  },
  {
   "cell_type": "markdown",
   "id": "2fc30d1d",
   "metadata": {},
   "source": [
    "**DataFrame** je struktura podataka koja odgovara tabeli sa pridruženim obeležjima redovima i kolonama. **Svaka kolona i svaka vrsta objekta DataFrame je jedan Series objekat.**"
   ]
  },
  {
   "cell_type": "markdown",
   "id": "cb00103d",
   "metadata": {},
   "source": [
    "Ukoliko se ne učitavaju iz datoteke, podaci se u strukturu DataFrame smeštaju iz mape ili matrice."
   ]
  },
  {
   "cell_type": "markdown",
   "id": "47c07102",
   "metadata": {},
   "source": [
    "Sledeći primer demonstira kreiranje objekta DataFrame navođenjem imena kolona i vrednosti koje one sadrže."
   ]
  },
  {
   "cell_type": "code",
   "execution_count": 13,
   "id": "c8258fab",
   "metadata": {},
   "outputs": [],
   "source": [
    "data = pd.DataFrame({\n",
    "    'name' : ['A', 'B', 'C', 'D'],\n",
    "    'x_value' : [1, 2, 6, 5],\n",
    "    'y_value' : [3, 4, 4, 7]\n",
    "})"
   ]
  },
  {
   "cell_type": "code",
   "execution_count": 14,
   "id": "82eea78d",
   "metadata": {},
   "outputs": [
    {
     "data": {
      "text/html": [
       "<div>\n",
       "<style scoped>\n",
       "    .dataframe tbody tr th:only-of-type {\n",
       "        vertical-align: middle;\n",
       "    }\n",
       "\n",
       "    .dataframe tbody tr th {\n",
       "        vertical-align: top;\n",
       "    }\n",
       "\n",
       "    .dataframe thead th {\n",
       "        text-align: right;\n",
       "    }\n",
       "</style>\n",
       "<table border=\"1\" class=\"dataframe\">\n",
       "  <thead>\n",
       "    <tr style=\"text-align: right;\">\n",
       "      <th></th>\n",
       "      <th>name</th>\n",
       "      <th>x_value</th>\n",
       "      <th>y_value</th>\n",
       "    </tr>\n",
       "  </thead>\n",
       "  <tbody>\n",
       "    <tr>\n",
       "      <th>0</th>\n",
       "      <td>A</td>\n",
       "      <td>1</td>\n",
       "      <td>3</td>\n",
       "    </tr>\n",
       "    <tr>\n",
       "      <th>1</th>\n",
       "      <td>B</td>\n",
       "      <td>2</td>\n",
       "      <td>4</td>\n",
       "    </tr>\n",
       "    <tr>\n",
       "      <th>2</th>\n",
       "      <td>C</td>\n",
       "      <td>6</td>\n",
       "      <td>4</td>\n",
       "    </tr>\n",
       "    <tr>\n",
       "      <th>3</th>\n",
       "      <td>D</td>\n",
       "      <td>5</td>\n",
       "      <td>7</td>\n",
       "    </tr>\n",
       "  </tbody>\n",
       "</table>\n",
       "</div>"
      ],
      "text/plain": [
       "  name  x_value  y_value\n",
       "0    A        1        3\n",
       "1    B        2        4\n",
       "2    C        6        4\n",
       "3    D        5        7"
      ]
     },
     "execution_count": 14,
     "metadata": {},
     "output_type": "execute_result"
    }
   ],
   "source": [
    "data"
   ]
  },
  {
   "cell_type": "markdown",
   "id": "afa49a99",
   "metadata": {},
   "source": [
    "Strukturu DataFrame možemo kreirati i navođenjem vrsta. Tada posebnim argumentom `columns` navodimo značenja vrednosti koje se navode."
   ]
  },
  {
   "cell_type": "code",
   "execution_count": 15,
   "id": "a10cb290",
   "metadata": {},
   "outputs": [],
   "source": [
    "data = pd.DataFrame([['A', 1, 3], ['B', 2, 4], ['C', 6, 4], ['D', 5, 7]], columns=['name', 'x_value', 'y_value'])"
   ]
  },
  {
   "cell_type": "code",
   "execution_count": 16,
   "id": "0823ea6e",
   "metadata": {},
   "outputs": [
    {
     "data": {
      "text/html": [
       "<div>\n",
       "<style scoped>\n",
       "    .dataframe tbody tr th:only-of-type {\n",
       "        vertical-align: middle;\n",
       "    }\n",
       "\n",
       "    .dataframe tbody tr th {\n",
       "        vertical-align: top;\n",
       "    }\n",
       "\n",
       "    .dataframe thead th {\n",
       "        text-align: right;\n",
       "    }\n",
       "</style>\n",
       "<table border=\"1\" class=\"dataframe\">\n",
       "  <thead>\n",
       "    <tr style=\"text-align: right;\">\n",
       "      <th></th>\n",
       "      <th>name</th>\n",
       "      <th>x_value</th>\n",
       "      <th>y_value</th>\n",
       "    </tr>\n",
       "  </thead>\n",
       "  <tbody>\n",
       "    <tr>\n",
       "      <th>0</th>\n",
       "      <td>A</td>\n",
       "      <td>1</td>\n",
       "      <td>3</td>\n",
       "    </tr>\n",
       "    <tr>\n",
       "      <th>1</th>\n",
       "      <td>B</td>\n",
       "      <td>2</td>\n",
       "      <td>4</td>\n",
       "    </tr>\n",
       "    <tr>\n",
       "      <th>2</th>\n",
       "      <td>C</td>\n",
       "      <td>6</td>\n",
       "      <td>4</td>\n",
       "    </tr>\n",
       "    <tr>\n",
       "      <th>3</th>\n",
       "      <td>D</td>\n",
       "      <td>5</td>\n",
       "      <td>7</td>\n",
       "    </tr>\n",
       "  </tbody>\n",
       "</table>\n",
       "</div>"
      ],
      "text/plain": [
       "  name  x_value  y_value\n",
       "0    A        1        3\n",
       "1    B        2        4\n",
       "2    C        6        4\n",
       "3    D        5        7"
      ]
     },
     "execution_count": 16,
     "metadata": {},
     "output_type": "execute_result"
    }
   ],
   "source": [
    "data"
   ]
  },
  {
   "cell_type": "markdown",
   "id": "b3ce168f",
   "metadata": {},
   "source": [
    "Vrednosti i indeksi objekta DataFrame se mogu, takođe, očitati korišćenjem svojstava `values` i `index`."
   ]
  },
  {
   "cell_type": "code",
   "execution_count": 17,
   "id": "77269184",
   "metadata": {},
   "outputs": [
    {
     "name": "stdout",
     "output_type": "stream",
     "text": [
      "Vrednosti:\n",
      " [['A' 1 3]\n",
      " ['B' 2 4]\n",
      " ['C' 6 4]\n",
      " ['D' 5 7]]\n"
     ]
    }
   ],
   "source": [
    "print('Vrednosti:\\n', data.values)"
   ]
  },
  {
   "cell_type": "code",
   "execution_count": 18,
   "id": "2b34b61c",
   "metadata": {},
   "outputs": [
    {
     "name": "stdout",
     "output_type": "stream",
     "text": [
      "Indeksi redova:  RangeIndex(start=0, stop=4, step=1)\n"
     ]
    }
   ],
   "source": [
    "print('Indeksi redova: ', data.index)           "
   ]
  },
  {
   "cell_type": "markdown",
   "id": "1aa90638",
   "metadata": {},
   "source": [
    "Osim svojstava <code>values</code> i <code>index</code> koje imaju Series objekti, DataFrame objekti imaju i svojstvo <code>columns</code>."
   ]
  },
  {
   "cell_type": "code",
   "execution_count": 19,
   "id": "0d2599f1",
   "metadata": {},
   "outputs": [
    {
     "name": "stdout",
     "output_type": "stream",
     "text": [
      "Indeksi kolona:  Index(['name', 'x_value', 'y_value'], dtype='object')\n"
     ]
    }
   ],
   "source": [
    "print('Indeksi kolona: ', data.columns)"
   ]
  },
  {
   "cell_type": "markdown",
   "id": "87739b19",
   "metadata": {},
   "source": [
    "Za indeks objekta DataFrame može se eksplicitno postaviti i neka postojeća kolona tj. ne moramo se osloniti na podrazumevano ponašanje biblioteke i dodavanje numeričkog indeks. U te svrhe može se iskoristiti funkcija `set_index`."
   ]
  },
  {
   "cell_type": "markdown",
   "id": "79a37318",
   "metadata": {},
   "source": [
    "Postavljanje neke od kolona za indeks redova"
   ]
  },
  {
   "cell_type": "code",
   "execution_count": 20,
   "id": "20f26ad2",
   "metadata": {},
   "outputs": [
    {
     "data": {
      "text/html": [
       "<div>\n",
       "<style scoped>\n",
       "    .dataframe tbody tr th:only-of-type {\n",
       "        vertical-align: middle;\n",
       "    }\n",
       "\n",
       "    .dataframe tbody tr th {\n",
       "        vertical-align: top;\n",
       "    }\n",
       "\n",
       "    .dataframe thead th {\n",
       "        text-align: right;\n",
       "    }\n",
       "</style>\n",
       "<table border=\"1\" class=\"dataframe\">\n",
       "  <thead>\n",
       "    <tr style=\"text-align: right;\">\n",
       "      <th></th>\n",
       "      <th>x_value</th>\n",
       "      <th>y_value</th>\n",
       "    </tr>\n",
       "    <tr>\n",
       "      <th>name</th>\n",
       "      <th></th>\n",
       "      <th></th>\n",
       "    </tr>\n",
       "  </thead>\n",
       "  <tbody>\n",
       "    <tr>\n",
       "      <th>A</th>\n",
       "      <td>1</td>\n",
       "      <td>3</td>\n",
       "    </tr>\n",
       "    <tr>\n",
       "      <th>B</th>\n",
       "      <td>2</td>\n",
       "      <td>4</td>\n",
       "    </tr>\n",
       "    <tr>\n",
       "      <th>C</th>\n",
       "      <td>6</td>\n",
       "      <td>4</td>\n",
       "    </tr>\n",
       "    <tr>\n",
       "      <th>D</th>\n",
       "      <td>5</td>\n",
       "      <td>7</td>\n",
       "    </tr>\n",
       "  </tbody>\n",
       "</table>\n",
       "</div>"
      ],
      "text/plain": [
       "      x_value  y_value\n",
       "name                  \n",
       "A           1        3\n",
       "B           2        4\n",
       "C           6        4\n",
       "D           5        7"
      ]
     },
     "execution_count": 20,
     "metadata": {},
     "output_type": "execute_result"
    }
   ],
   "source": [
    "data.set_index('name', inplace=True)      #II nacin: data = data.set_index('name')\n",
    "data"
   ]
  },
  {
   "cell_type": "markdown",
   "id": "76162b8f",
   "metadata": {},
   "source": [
    "Prilikom kreiranja objekta DataFrame indeksi vrsta i kolona se mogu eksplicitno zadati na sledeći način:"
   ]
  },
  {
   "cell_type": "code",
   "execution_count": 21,
   "id": "13f68f40",
   "metadata": {},
   "outputs": [
    {
     "data": {
      "text/html": [
       "<div>\n",
       "<style scoped>\n",
       "    .dataframe tbody tr th:only-of-type {\n",
       "        vertical-align: middle;\n",
       "    }\n",
       "\n",
       "    .dataframe tbody tr th {\n",
       "        vertical-align: top;\n",
       "    }\n",
       "\n",
       "    .dataframe thead th {\n",
       "        text-align: right;\n",
       "    }\n",
       "</style>\n",
       "<table border=\"1\" class=\"dataframe\">\n",
       "  <thead>\n",
       "    <tr style=\"text-align: right;\">\n",
       "      <th></th>\n",
       "      <th>x_value</th>\n",
       "      <th>y_value</th>\n",
       "    </tr>\n",
       "  </thead>\n",
       "  <tbody>\n",
       "    <tr>\n",
       "      <th>A</th>\n",
       "      <td>1</td>\n",
       "      <td>3</td>\n",
       "    </tr>\n",
       "    <tr>\n",
       "      <th>B</th>\n",
       "      <td>2</td>\n",
       "      <td>4</td>\n",
       "    </tr>\n",
       "    <tr>\n",
       "      <th>C</th>\n",
       "      <td>6</td>\n",
       "      <td>4</td>\n",
       "    </tr>\n",
       "    <tr>\n",
       "      <th>D</th>\n",
       "      <td>5</td>\n",
       "      <td>7</td>\n",
       "    </tr>\n",
       "  </tbody>\n",
       "</table>\n",
       "</div>"
      ],
      "text/plain": [
       "   x_value  y_value\n",
       "A        1        3\n",
       "B        2        4\n",
       "C        6        4\n",
       "D        5        7"
      ]
     },
     "execution_count": 21,
     "metadata": {},
     "output_type": "execute_result"
    }
   ],
   "source": [
    "data = pd.DataFrame([[1, 3], [2, 4], [6, 4], [5, 7]], columns=['x_value', 'y_value'], index=['A', 'B', 'C', 'D'])\n",
    "data"
   ]
  },
  {
   "cell_type": "markdown",
   "id": "9f84be1b",
   "metadata": {},
   "source": [
    "## Indeksiranje i izdvajanje elemenata (eng. slicing)"
   ]
  },
  {
   "cell_type": "markdown",
   "id": "311bf11a",
   "metadata": {},
   "source": [
    "Postoji više načina za pristup elementima DataFrame objekta:\n",
    "\n",
    "1) DataFrame objekat ima kao atribute svaku od vrednosti indeksa kolona (naziva kolona), tako da se kolonama može direktno pristupiti na taj način.\n",
    "\n",
    "2) Nad DataFrame objektima se može primeniti operator indeksiranja \\[\\] (koji razlikujemo od operatora isecanja) za pristup kolonama zadavanjem vrednosti njihovog indeksa kolona (naziva kolona).\n",
    "\n",
    "3) DataFrame objekat ima atribute <code>loc</code> i <code>iloc</code> - tzv. objekate indeksere (~iterator) koji se koriste za pristup pojedinačnim elementima i izdvajanje delova DataFrame objekta.\n",
    "\n",
    "- <code>loc</code> je **label-based** indekser, što znači da se pomoću njega vrši indeksiranje zadavanjem labela (obeležja, indeksa) redova i kolona \n",
    "- <code>iloc</code> je **integer position-based**, sto znači da se pomoću njega vrši indeksiranje zadavanjem pozicija redova i kolona (pozicije se broje počev od 0) \n",
    "\n",
    "4) Pristup pojedinačnim elementima se takođe može izvršiti svođenjem na rad sa Series objektima - tako što se na način (1) ili (2) pristupi odgovarajućoj koloni, a zatim traženom elementu te kolone."
   ]
  },
  {
   "cell_type": "code",
   "execution_count": 22,
   "id": "58b0633e",
   "metadata": {},
   "outputs": [
    {
     "name": "stdout",
     "output_type": "stream",
     "text": [
      "<class 'pandas.core.indexing._LocIndexer'>\n"
     ]
    }
   ],
   "source": [
    "print(type(data.loc))"
   ]
  },
  {
   "cell_type": "code",
   "execution_count": 23,
   "id": "287e6f09",
   "metadata": {},
   "outputs": [
    {
     "name": "stdout",
     "output_type": "stream",
     "text": [
      "<class 'pandas.core.indexing._iLocIndexer'>\n"
     ]
    }
   ],
   "source": [
    "print(type(data.iloc))"
   ]
  },
  {
   "cell_type": "markdown",
   "id": "9f05d8c7",
   "metadata": {},
   "source": [
    "### Različiti načini za pristup pojedinačnim elementima"
   ]
  },
  {
   "cell_type": "code",
   "execution_count": 24,
   "id": "d9dd27f4",
   "metadata": {},
   "outputs": [
    {
     "name": "stdout",
     "output_type": "stream",
     "text": [
      "1\n"
     ]
    }
   ],
   "source": [
    "print(data.loc['A', 'x_value'])"
   ]
  },
  {
   "cell_type": "code",
   "execution_count": 25,
   "id": "4003e85a",
   "metadata": {},
   "outputs": [
    {
     "name": "stdout",
     "output_type": "stream",
     "text": [
      "1\n"
     ]
    }
   ],
   "source": [
    "print(data.iloc[0, 0])"
   ]
  },
  {
   "cell_type": "code",
   "execution_count": 26,
   "id": "36e5bf34",
   "metadata": {},
   "outputs": [
    {
     "name": "stdout",
     "output_type": "stream",
     "text": [
      "1\n"
     ]
    }
   ],
   "source": [
    "print(data['x_value']['A'])"
   ]
  },
  {
   "cell_type": "markdown",
   "id": "6bcce005",
   "metadata": {},
   "source": [
    "### Različiti načini za izdvajanje pojedinačnih kolona"
   ]
  },
  {
   "cell_type": "code",
   "execution_count": 27,
   "id": "6496151f",
   "metadata": {},
   "outputs": [
    {
     "name": "stdout",
     "output_type": "stream",
     "text": [
      "A    1\n",
      "B    2\n",
      "C    6\n",
      "D    5\n",
      "Name: x_value, dtype: int64\n"
     ]
    }
   ],
   "source": [
    "print(data.x_value)"
   ]
  },
  {
   "cell_type": "code",
   "execution_count": 28,
   "id": "c861387f",
   "metadata": {},
   "outputs": [
    {
     "name": "stdout",
     "output_type": "stream",
     "text": [
      "A    1\n",
      "B    2\n",
      "C    6\n",
      "D    5\n",
      "Name: x_value, dtype: int64\n"
     ]
    }
   ],
   "source": [
    "print(data['x_value'])"
   ]
  },
  {
   "cell_type": "code",
   "execution_count": 29,
   "id": "c327f211",
   "metadata": {},
   "outputs": [
    {
     "name": "stdout",
     "output_type": "stream",
     "text": [
      "A    1\n",
      "B    2\n",
      "C    6\n",
      "D    5\n",
      "Name: x_value, dtype: int64\n"
     ]
    }
   ],
   "source": [
    "print(data.iloc[:, 0])"
   ]
  },
  {
   "cell_type": "code",
   "execution_count": 30,
   "id": "6ad5a905",
   "metadata": {},
   "outputs": [
    {
     "name": "stdout",
     "output_type": "stream",
     "text": [
      "A    1\n",
      "B    2\n",
      "C    6\n",
      "D    5\n",
      "Name: x_value, dtype: int64\n"
     ]
    }
   ],
   "source": [
    "print(data.loc[:, 'x_value'])"
   ]
  },
  {
   "cell_type": "markdown",
   "id": "38482078",
   "metadata": {},
   "source": [
    "### Različiti načini za izdvajanje pojedinačnih redova"
   ]
  },
  {
   "cell_type": "code",
   "execution_count": 31,
   "id": "8332a308",
   "metadata": {},
   "outputs": [
    {
     "name": "stdout",
     "output_type": "stream",
     "text": [
      "x_value    1\n",
      "y_value    3\n",
      "Name: A, dtype: int64\n"
     ]
    }
   ],
   "source": [
    "print(data.iloc[0, :]) "
   ]
  },
  {
   "cell_type": "code",
   "execution_count": 32,
   "id": "c1f8cac1",
   "metadata": {},
   "outputs": [
    {
     "name": "stdout",
     "output_type": "stream",
     "text": [
      "x_value    1\n",
      "y_value    3\n",
      "Name: A, dtype: int64\n"
     ]
    }
   ],
   "source": [
    "print(data.iloc[0])"
   ]
  },
  {
   "cell_type": "code",
   "execution_count": 33,
   "id": "d36bc4f8",
   "metadata": {},
   "outputs": [
    {
     "name": "stdout",
     "output_type": "stream",
     "text": [
      "x_value    1\n",
      "y_value    3\n",
      "Name: A, dtype: int64\n"
     ]
    }
   ],
   "source": [
    "print(data.loc['A', :])"
   ]
  },
  {
   "cell_type": "code",
   "execution_count": 34,
   "id": "53af3fe3",
   "metadata": {},
   "outputs": [
    {
     "name": "stdout",
     "output_type": "stream",
     "text": [
      "x_value    1\n",
      "y_value    3\n",
      "Name: A, dtype: int64\n"
     ]
    }
   ],
   "source": [
    "print(data.loc['A'])"
   ]
  },
  {
   "cell_type": "markdown",
   "id": "c7fc00ff",
   "metadata": {},
   "source": [
    "### Izdvajanje elemenata (razno)"
   ]
  },
  {
   "cell_type": "markdown",
   "id": "9ef35d6a",
   "metadata": {},
   "source": [
    "Pregled prvih nekoliko redova je moguć uz korišćenje funkcije `head`, a pregled poslednjih nekoliko redova uz korišćenje funkcije `tail`. Nekoliko nasumičnih redova se može dobiti korišćenjem funkcije `sample`."
   ]
  },
  {
   "cell_type": "code",
   "execution_count": 35,
   "id": "989c097b",
   "metadata": {},
   "outputs": [
    {
     "data": {
      "text/html": [
       "<div>\n",
       "<style scoped>\n",
       "    .dataframe tbody tr th:only-of-type {\n",
       "        vertical-align: middle;\n",
       "    }\n",
       "\n",
       "    .dataframe tbody tr th {\n",
       "        vertical-align: top;\n",
       "    }\n",
       "\n",
       "    .dataframe thead th {\n",
       "        text-align: right;\n",
       "    }\n",
       "</style>\n",
       "<table border=\"1\" class=\"dataframe\">\n",
       "  <thead>\n",
       "    <tr style=\"text-align: right;\">\n",
       "      <th></th>\n",
       "      <th>x_value</th>\n",
       "      <th>y_value</th>\n",
       "    </tr>\n",
       "  </thead>\n",
       "  <tbody>\n",
       "    <tr>\n",
       "      <th>A</th>\n",
       "      <td>1</td>\n",
       "      <td>3</td>\n",
       "    </tr>\n",
       "    <tr>\n",
       "      <th>B</th>\n",
       "      <td>2</td>\n",
       "      <td>4</td>\n",
       "    </tr>\n",
       "  </tbody>\n",
       "</table>\n",
       "</div>"
      ],
      "text/plain": [
       "   x_value  y_value\n",
       "A        1        3\n",
       "B        2        4"
      ]
     },
     "execution_count": 35,
     "metadata": {},
     "output_type": "execute_result"
    }
   ],
   "source": [
    "data.head(2)"
   ]
  },
  {
   "cell_type": "markdown",
   "id": "847b86a2",
   "metadata": {},
   "source": [
    "Poslednjih nekoliko redova"
   ]
  },
  {
   "cell_type": "code",
   "execution_count": 36,
   "id": "a621630d",
   "metadata": {},
   "outputs": [
    {
     "data": {
      "text/html": [
       "<div>\n",
       "<style scoped>\n",
       "    .dataframe tbody tr th:only-of-type {\n",
       "        vertical-align: middle;\n",
       "    }\n",
       "\n",
       "    .dataframe tbody tr th {\n",
       "        vertical-align: top;\n",
       "    }\n",
       "\n",
       "    .dataframe thead th {\n",
       "        text-align: right;\n",
       "    }\n",
       "</style>\n",
       "<table border=\"1\" class=\"dataframe\">\n",
       "  <thead>\n",
       "    <tr style=\"text-align: right;\">\n",
       "      <th></th>\n",
       "      <th>x_value</th>\n",
       "      <th>y_value</th>\n",
       "    </tr>\n",
       "  </thead>\n",
       "  <tbody>\n",
       "    <tr>\n",
       "      <th>C</th>\n",
       "      <td>6</td>\n",
       "      <td>4</td>\n",
       "    </tr>\n",
       "    <tr>\n",
       "      <th>D</th>\n",
       "      <td>5</td>\n",
       "      <td>7</td>\n",
       "    </tr>\n",
       "  </tbody>\n",
       "</table>\n",
       "</div>"
      ],
      "text/plain": [
       "   x_value  y_value\n",
       "C        6        4\n",
       "D        5        7"
      ]
     },
     "execution_count": 36,
     "metadata": {},
     "output_type": "execute_result"
    }
   ],
   "source": [
    "data.tail(2)"
   ]
  },
  {
   "cell_type": "code",
   "execution_count": null,
   "id": "f58382a0",
   "metadata": {},
   "outputs": [],
   "source": []
  },
  {
   "cell_type": "markdown",
   "id": "19f5e21d",
   "metadata": {},
   "source": [
    "Izdvajanje nekih kolona zadatih listom:"
   ]
  },
  {
   "cell_type": "code",
   "execution_count": 37,
   "id": "292bf16a",
   "metadata": {},
   "outputs": [
    {
     "data": {
      "text/html": [
       "<div>\n",
       "<style scoped>\n",
       "    .dataframe tbody tr th:only-of-type {\n",
       "        vertical-align: middle;\n",
       "    }\n",
       "\n",
       "    .dataframe tbody tr th {\n",
       "        vertical-align: top;\n",
       "    }\n",
       "\n",
       "    .dataframe thead th {\n",
       "        text-align: right;\n",
       "    }\n",
       "</style>\n",
       "<table border=\"1\" class=\"dataframe\">\n",
       "  <thead>\n",
       "    <tr style=\"text-align: right;\">\n",
       "      <th></th>\n",
       "      <th>x_value</th>\n",
       "      <th>y_value</th>\n",
       "    </tr>\n",
       "  </thead>\n",
       "  <tbody>\n",
       "    <tr>\n",
       "      <th>A</th>\n",
       "      <td>1</td>\n",
       "      <td>3</td>\n",
       "    </tr>\n",
       "    <tr>\n",
       "      <th>B</th>\n",
       "      <td>2</td>\n",
       "      <td>4</td>\n",
       "    </tr>\n",
       "    <tr>\n",
       "      <th>C</th>\n",
       "      <td>6</td>\n",
       "      <td>4</td>\n",
       "    </tr>\n",
       "    <tr>\n",
       "      <th>D</th>\n",
       "      <td>5</td>\n",
       "      <td>7</td>\n",
       "    </tr>\n",
       "  </tbody>\n",
       "</table>\n",
       "</div>"
      ],
      "text/plain": [
       "   x_value  y_value\n",
       "A        1        3\n",
       "B        2        4\n",
       "C        6        4\n",
       "D        5        7"
      ]
     },
     "execution_count": 37,
     "metadata": {},
     "output_type": "execute_result"
    }
   ],
   "source": [
    "data[['x_value', 'y_value']]"
   ]
  },
  {
   "cell_type": "markdown",
   "id": "742e1a55",
   "metadata": {},
   "source": [
    "Izdvajanje nekih redova zadatih pozicijama:"
   ]
  },
  {
   "cell_type": "code",
   "execution_count": 38,
   "id": "77b67284",
   "metadata": {},
   "outputs": [
    {
     "data": {
      "text/html": [
       "<div>\n",
       "<style scoped>\n",
       "    .dataframe tbody tr th:only-of-type {\n",
       "        vertical-align: middle;\n",
       "    }\n",
       "\n",
       "    .dataframe tbody tr th {\n",
       "        vertical-align: top;\n",
       "    }\n",
       "\n",
       "    .dataframe thead th {\n",
       "        text-align: right;\n",
       "    }\n",
       "</style>\n",
       "<table border=\"1\" class=\"dataframe\">\n",
       "  <thead>\n",
       "    <tr style=\"text-align: right;\">\n",
       "      <th></th>\n",
       "      <th>x_value</th>\n",
       "      <th>y_value</th>\n",
       "    </tr>\n",
       "  </thead>\n",
       "  <tbody>\n",
       "    <tr>\n",
       "      <th>A</th>\n",
       "      <td>1</td>\n",
       "      <td>3</td>\n",
       "    </tr>\n",
       "    <tr>\n",
       "      <th>C</th>\n",
       "      <td>6</td>\n",
       "      <td>4</td>\n",
       "    </tr>\n",
       "  </tbody>\n",
       "</table>\n",
       "</div>"
      ],
      "text/plain": [
       "   x_value  y_value\n",
       "A        1        3\n",
       "C        6        4"
      ]
     },
     "execution_count": 38,
     "metadata": {},
     "output_type": "execute_result"
    }
   ],
   "source": [
    "data.iloc[::2]"
   ]
  },
  {
   "cell_type": "markdown",
   "id": "d2de52b0",
   "metadata": {},
   "source": [
    "Izdvajanje elemenata koji ispunjavaju neki uslov:"
   ]
  },
  {
   "cell_type": "code",
   "execution_count": 39,
   "id": "b2ac5186",
   "metadata": {},
   "outputs": [
    {
     "data": {
      "text/html": [
       "<div>\n",
       "<style scoped>\n",
       "    .dataframe tbody tr th:only-of-type {\n",
       "        vertical-align: middle;\n",
       "    }\n",
       "\n",
       "    .dataframe tbody tr th {\n",
       "        vertical-align: top;\n",
       "    }\n",
       "\n",
       "    .dataframe thead th {\n",
       "        text-align: right;\n",
       "    }\n",
       "</style>\n",
       "<table border=\"1\" class=\"dataframe\">\n",
       "  <thead>\n",
       "    <tr style=\"text-align: right;\">\n",
       "      <th></th>\n",
       "      <th>x_value</th>\n",
       "      <th>y_value</th>\n",
       "    </tr>\n",
       "  </thead>\n",
       "  <tbody>\n",
       "    <tr>\n",
       "      <th>B</th>\n",
       "      <td>2</td>\n",
       "      <td>4</td>\n",
       "    </tr>\n",
       "    <tr>\n",
       "      <th>C</th>\n",
       "      <td>6</td>\n",
       "      <td>4</td>\n",
       "    </tr>\n",
       "  </tbody>\n",
       "</table>\n",
       "</div>"
      ],
      "text/plain": [
       "   x_value  y_value\n",
       "B        2        4\n",
       "C        6        4"
      ]
     },
     "execution_count": 39,
     "metadata": {},
     "output_type": "execute_result"
    }
   ],
   "source": [
    "data[data.x_value % 2 == 0]"
   ]
  },
  {
   "cell_type": "markdown",
   "id": "64b8130a",
   "metadata": {},
   "source": [
    "Važno je naglasiti da se primenom aritmetičkih, logičkih i relacionih operatora nad Series i DataFrame objektom dobija se novi objekat sa izvršenom odgovarajućom operacijom po elementima, uz očuvanje indeksa u rezultujućem objektu."
   ]
  },
  {
   "cell_type": "code",
   "execution_count": 40,
   "id": "9292fb95",
   "metadata": {},
   "outputs": [
    {
     "data": {
      "text/plain": [
       "A    False\n",
       "B     True\n",
       "C     True\n",
       "D    False\n",
       "Name: x_value, dtype: bool"
      ]
     },
     "execution_count": 40,
     "metadata": {},
     "output_type": "execute_result"
    }
   ],
   "source": [
    "data.x_value % 2 == 0"
   ]
  },
  {
   "cell_type": "code",
   "execution_count": null,
   "id": "9ac622e5",
   "metadata": {},
   "outputs": [],
   "source": []
  },
  {
   "cell_type": "markdown",
   "id": "4c424973",
   "metadata": {},
   "source": [
    "## Transformacije nad objektom DataFrame"
   ]
  },
  {
   "cell_type": "markdown",
   "id": "7754ae14",
   "metadata": {},
   "source": [
    "Većina funkcija za transformacije nad objektom DataFrame ima argument <code>axis</code> kojim se zadaje osa po kojoj će transformacija biti izvršena. DataFrame objekti imaju dve ose - **osu 0** koja predstavlja redove i **osu 1** koja predstavlja kolone. Za većinu funkcija podrazumevana vrednost argumenta <code>axis</code> je <code>0</code>."
   ]
  },
  {
   "cell_type": "markdown",
   "id": "09d39aaf",
   "metadata": {},
   "source": [
    "<img src=\"assets/dataframe_axis.png\" width=\"250\" align=left>"
   ]
  },
  {
   "cell_type": "markdown",
   "id": "ecbe3e85",
   "metadata": {},
   "source": [
    "Preraspodela duž vrsta zadavanjem redosleda novih indeksa se može realizovati na sledeći način:"
   ]
  },
  {
   "cell_type": "code",
   "execution_count": 41,
   "id": "f9bf0a5f",
   "metadata": {},
   "outputs": [
    {
     "data": {
      "text/html": [
       "<div>\n",
       "<style scoped>\n",
       "    .dataframe tbody tr th:only-of-type {\n",
       "        vertical-align: middle;\n",
       "    }\n",
       "\n",
       "    .dataframe tbody tr th {\n",
       "        vertical-align: top;\n",
       "    }\n",
       "\n",
       "    .dataframe thead th {\n",
       "        text-align: right;\n",
       "    }\n",
       "</style>\n",
       "<table border=\"1\" class=\"dataframe\">\n",
       "  <thead>\n",
       "    <tr style=\"text-align: right;\">\n",
       "      <th></th>\n",
       "      <th>x_value</th>\n",
       "      <th>y_value</th>\n",
       "    </tr>\n",
       "  </thead>\n",
       "  <tbody>\n",
       "    <tr>\n",
       "      <th>B</th>\n",
       "      <td>2</td>\n",
       "      <td>4</td>\n",
       "    </tr>\n",
       "    <tr>\n",
       "      <th>D</th>\n",
       "      <td>5</td>\n",
       "      <td>7</td>\n",
       "    </tr>\n",
       "    <tr>\n",
       "      <th>A</th>\n",
       "      <td>1</td>\n",
       "      <td>3</td>\n",
       "    </tr>\n",
       "    <tr>\n",
       "      <th>C</th>\n",
       "      <td>6</td>\n",
       "      <td>4</td>\n",
       "    </tr>\n",
       "  </tbody>\n",
       "</table>\n",
       "</div>"
      ],
      "text/plain": [
       "   x_value  y_value\n",
       "B        2        4\n",
       "D        5        7\n",
       "A        1        3\n",
       "C        6        4"
      ]
     },
     "execution_count": 41,
     "metadata": {},
     "output_type": "execute_result"
    }
   ],
   "source": [
    "data.reindex(['B', 'D', 'A', 'C'], axis=0)       "
   ]
  },
  {
   "cell_type": "markdown",
   "id": "64f21b4f",
   "metadata": {},
   "source": [
    "Slično, preraspodela duž kolona se može realizovati zadavanjem redosleda njihovih indeksa:"
   ]
  },
  {
   "cell_type": "code",
   "execution_count": 42,
   "id": "06ef5ab8",
   "metadata": {},
   "outputs": [
    {
     "data": {
      "text/html": [
       "<div>\n",
       "<style scoped>\n",
       "    .dataframe tbody tr th:only-of-type {\n",
       "        vertical-align: middle;\n",
       "    }\n",
       "\n",
       "    .dataframe tbody tr th {\n",
       "        vertical-align: top;\n",
       "    }\n",
       "\n",
       "    .dataframe thead th {\n",
       "        text-align: right;\n",
       "    }\n",
       "</style>\n",
       "<table border=\"1\" class=\"dataframe\">\n",
       "  <thead>\n",
       "    <tr style=\"text-align: right;\">\n",
       "      <th></th>\n",
       "      <th>y_value</th>\n",
       "      <th>x_value</th>\n",
       "    </tr>\n",
       "  </thead>\n",
       "  <tbody>\n",
       "    <tr>\n",
       "      <th>A</th>\n",
       "      <td>3</td>\n",
       "      <td>1</td>\n",
       "    </tr>\n",
       "    <tr>\n",
       "      <th>B</th>\n",
       "      <td>4</td>\n",
       "      <td>2</td>\n",
       "    </tr>\n",
       "    <tr>\n",
       "      <th>C</th>\n",
       "      <td>4</td>\n",
       "      <td>6</td>\n",
       "    </tr>\n",
       "    <tr>\n",
       "      <th>D</th>\n",
       "      <td>7</td>\n",
       "      <td>5</td>\n",
       "    </tr>\n",
       "  </tbody>\n",
       "</table>\n",
       "</div>"
      ],
      "text/plain": [
       "   y_value  x_value\n",
       "A        3        1\n",
       "B        4        2\n",
       "C        4        6\n",
       "D        7        5"
      ]
     },
     "execution_count": 42,
     "metadata": {},
     "output_type": "execute_result"
    }
   ],
   "source": [
    "data.reindex(['y_value', 'x_value'], axis=1)"
   ]
  },
  {
   "cell_type": "markdown",
   "id": "43dafae8",
   "metadata": {},
   "source": [
    "Vrednosti u objektu DataFrame je moguće sortirati po indeksu redova ili kolona."
   ]
  },
  {
   "cell_type": "markdown",
   "id": "38a0308c",
   "metadata": {},
   "source": [
    "Za sortiranje po indeksu vrsta koristi se funkcija `sort_index`."
   ]
  },
  {
   "cell_type": "code",
   "execution_count": 43,
   "id": "916f0e28",
   "metadata": {},
   "outputs": [
    {
     "data": {
      "text/html": [
       "<div>\n",
       "<style scoped>\n",
       "    .dataframe tbody tr th:only-of-type {\n",
       "        vertical-align: middle;\n",
       "    }\n",
       "\n",
       "    .dataframe tbody tr th {\n",
       "        vertical-align: top;\n",
       "    }\n",
       "\n",
       "    .dataframe thead th {\n",
       "        text-align: right;\n",
       "    }\n",
       "</style>\n",
       "<table border=\"1\" class=\"dataframe\">\n",
       "  <thead>\n",
       "    <tr style=\"text-align: right;\">\n",
       "      <th></th>\n",
       "      <th>x_value</th>\n",
       "      <th>y_value</th>\n",
       "    </tr>\n",
       "  </thead>\n",
       "  <tbody>\n",
       "    <tr>\n",
       "      <th>D</th>\n",
       "      <td>5</td>\n",
       "      <td>7</td>\n",
       "    </tr>\n",
       "    <tr>\n",
       "      <th>C</th>\n",
       "      <td>6</td>\n",
       "      <td>4</td>\n",
       "    </tr>\n",
       "    <tr>\n",
       "      <th>B</th>\n",
       "      <td>2</td>\n",
       "      <td>4</td>\n",
       "    </tr>\n",
       "    <tr>\n",
       "      <th>A</th>\n",
       "      <td>1</td>\n",
       "      <td>3</td>\n",
       "    </tr>\n",
       "  </tbody>\n",
       "</table>\n",
       "</div>"
      ],
      "text/plain": [
       "   x_value  y_value\n",
       "D        5        7\n",
       "C        6        4\n",
       "B        2        4\n",
       "A        1        3"
      ]
     },
     "execution_count": 43,
     "metadata": {},
     "output_type": "execute_result"
    }
   ],
   "source": [
    "data.sort_index(ascending=False)          "
   ]
  },
  {
   "cell_type": "markdown",
   "id": "09bf4e43",
   "metadata": {},
   "source": [
    "Sortiranje po vrednostima elemenata u specifičnoj koloni se postiže funkcijom `sort_values`. Ekvivalentno bi se moglo postići i za redove."
   ]
  },
  {
   "cell_type": "code",
   "execution_count": 44,
   "id": "669e6af9",
   "metadata": {},
   "outputs": [
    {
     "data": {
      "text/html": [
       "<div>\n",
       "<style scoped>\n",
       "    .dataframe tbody tr th:only-of-type {\n",
       "        vertical-align: middle;\n",
       "    }\n",
       "\n",
       "    .dataframe tbody tr th {\n",
       "        vertical-align: top;\n",
       "    }\n",
       "\n",
       "    .dataframe thead th {\n",
       "        text-align: right;\n",
       "    }\n",
       "</style>\n",
       "<table border=\"1\" class=\"dataframe\">\n",
       "  <thead>\n",
       "    <tr style=\"text-align: right;\">\n",
       "      <th></th>\n",
       "      <th>x_value</th>\n",
       "      <th>y_value</th>\n",
       "    </tr>\n",
       "  </thead>\n",
       "  <tbody>\n",
       "    <tr>\n",
       "      <th>A</th>\n",
       "      <td>1</td>\n",
       "      <td>3</td>\n",
       "    </tr>\n",
       "    <tr>\n",
       "      <th>B</th>\n",
       "      <td>2</td>\n",
       "      <td>4</td>\n",
       "    </tr>\n",
       "    <tr>\n",
       "      <th>D</th>\n",
       "      <td>5</td>\n",
       "      <td>7</td>\n",
       "    </tr>\n",
       "    <tr>\n",
       "      <th>C</th>\n",
       "      <td>6</td>\n",
       "      <td>4</td>\n",
       "    </tr>\n",
       "  </tbody>\n",
       "</table>\n",
       "</div>"
      ],
      "text/plain": [
       "   x_value  y_value\n",
       "A        1        3\n",
       "B        2        4\n",
       "D        5        7\n",
       "C        6        4"
      ]
     },
     "execution_count": 44,
     "metadata": {},
     "output_type": "execute_result"
    }
   ],
   "source": [
    "data.sort_values(by='x_value')            "
   ]
  },
  {
   "cell_type": "markdown",
   "id": "04ae7450",
   "metadata": {},
   "source": [
    "DataFrame strukturu je moguće i transponovati."
   ]
  },
  {
   "cell_type": "code",
   "execution_count": 45,
   "id": "122ef564",
   "metadata": {},
   "outputs": [
    {
     "data": {
      "text/html": [
       "<div>\n",
       "<style scoped>\n",
       "    .dataframe tbody tr th:only-of-type {\n",
       "        vertical-align: middle;\n",
       "    }\n",
       "\n",
       "    .dataframe tbody tr th {\n",
       "        vertical-align: top;\n",
       "    }\n",
       "\n",
       "    .dataframe thead th {\n",
       "        text-align: right;\n",
       "    }\n",
       "</style>\n",
       "<table border=\"1\" class=\"dataframe\">\n",
       "  <thead>\n",
       "    <tr style=\"text-align: right;\">\n",
       "      <th></th>\n",
       "      <th>A</th>\n",
       "      <th>B</th>\n",
       "      <th>C</th>\n",
       "      <th>D</th>\n",
       "    </tr>\n",
       "  </thead>\n",
       "  <tbody>\n",
       "    <tr>\n",
       "      <th>x_value</th>\n",
       "      <td>1</td>\n",
       "      <td>2</td>\n",
       "      <td>6</td>\n",
       "      <td>5</td>\n",
       "    </tr>\n",
       "    <tr>\n",
       "      <th>y_value</th>\n",
       "      <td>3</td>\n",
       "      <td>4</td>\n",
       "      <td>4</td>\n",
       "      <td>7</td>\n",
       "    </tr>\n",
       "  </tbody>\n",
       "</table>\n",
       "</div>"
      ],
      "text/plain": [
       "         A  B  C  D\n",
       "x_value  1  2  6  5\n",
       "y_value  3  4  4  7"
      ]
     },
     "execution_count": 45,
     "metadata": {},
     "output_type": "execute_result"
    }
   ],
   "source": [
    "data.T"
   ]
  },
  {
   "cell_type": "markdown",
   "id": "a01b148c",
   "metadata": {},
   "source": [
    "Elemente sadržane u objektu DataFrame, ukoliko to ima smisla, moguće je izvdojiti u višedimenzioni niz biblioteke `numpy`. U te svrhe se koristi funkcija `to_numpy`."
   ]
  },
  {
   "cell_type": "code",
   "execution_count": 46,
   "id": "fdb4c899",
   "metadata": {},
   "outputs": [
    {
     "data": {
      "text/plain": [
       "array([[1, 3],\n",
       "       [2, 4],\n",
       "       [6, 4],\n",
       "       [5, 7]])"
      ]
     },
     "execution_count": 46,
     "metadata": {},
     "output_type": "execute_result"
    }
   ],
   "source": [
    "data.to_numpy()"
   ]
  },
  {
   "cell_type": "markdown",
   "id": "c336f5b9",
   "metadata": {},
   "source": [
    "Strukture DataFrame je moguće proširivati dodavanjem novih redova ili kolona."
   ]
  },
  {
   "cell_type": "markdown",
   "id": "a512a204",
   "metadata": {},
   "source": [
    "Dodavanje novih kolona:"
   ]
  },
  {
   "cell_type": "code",
   "execution_count": 47,
   "id": "58756a5c",
   "metadata": {},
   "outputs": [],
   "source": [
    "data['color'] = ['blue', 'red', 'blue', 'blue']"
   ]
  },
  {
   "cell_type": "code",
   "execution_count": 48,
   "id": "554aea3e",
   "metadata": {},
   "outputs": [
    {
     "data": {
      "text/html": [
       "<div>\n",
       "<style scoped>\n",
       "    .dataframe tbody tr th:only-of-type {\n",
       "        vertical-align: middle;\n",
       "    }\n",
       "\n",
       "    .dataframe tbody tr th {\n",
       "        vertical-align: top;\n",
       "    }\n",
       "\n",
       "    .dataframe thead th {\n",
       "        text-align: right;\n",
       "    }\n",
       "</style>\n",
       "<table border=\"1\" class=\"dataframe\">\n",
       "  <thead>\n",
       "    <tr style=\"text-align: right;\">\n",
       "      <th></th>\n",
       "      <th>x_value</th>\n",
       "      <th>y_value</th>\n",
       "      <th>color</th>\n",
       "    </tr>\n",
       "  </thead>\n",
       "  <tbody>\n",
       "    <tr>\n",
       "      <th>A</th>\n",
       "      <td>1</td>\n",
       "      <td>3</td>\n",
       "      <td>blue</td>\n",
       "    </tr>\n",
       "    <tr>\n",
       "      <th>B</th>\n",
       "      <td>2</td>\n",
       "      <td>4</td>\n",
       "      <td>red</td>\n",
       "    </tr>\n",
       "    <tr>\n",
       "      <th>C</th>\n",
       "      <td>6</td>\n",
       "      <td>4</td>\n",
       "      <td>blue</td>\n",
       "    </tr>\n",
       "    <tr>\n",
       "      <th>D</th>\n",
       "      <td>5</td>\n",
       "      <td>7</td>\n",
       "      <td>blue</td>\n",
       "    </tr>\n",
       "  </tbody>\n",
       "</table>\n",
       "</div>"
      ],
      "text/plain": [
       "   x_value  y_value color\n",
       "A        1        3  blue\n",
       "B        2        4   red\n",
       "C        6        4  blue\n",
       "D        5        7  blue"
      ]
     },
     "execution_count": 48,
     "metadata": {},
     "output_type": "execute_result"
    }
   ],
   "source": [
    "data"
   ]
  },
  {
   "cell_type": "markdown",
   "id": "1f6ff081",
   "metadata": {},
   "source": [
    "Dodavanje novih redova:"
   ]
  },
  {
   "cell_type": "markdown",
   "id": "d68988b0",
   "metadata": {},
   "source": [
    "## Spajanje DataFrame objekata"
   ]
  },
  {
   "cell_type": "markdown",
   "id": "e82ce9a5",
   "metadata": {},
   "source": [
    "Postoji nekoliko funkcija/metoda koje se mogu koristiti za spajanje DataFrame objekata na različite načine:\n",
    "\n",
    "- <code>concat()</code> - vrši konkatenaciju (spajanje) Pandas objekata duž određene ose (po redovima ili kolonama) na osnovu indeksa (redova ili kolona) ili obično nadovezivanje ignorišući indekse \n",
    "\n",
    "- <code>join()</code> - vrši isključivo spajanje redova dva (ili više) DataFrame-a, i to na osnovu indeksa redova ili vrednosti u nekoj zadatoj koloni\n",
    "\n",
    "- <code>merge()</code> - vrši razne vrste 'database-style' spajanja DataFrame-ova"
   ]
  },
  {
   "cell_type": "markdown",
   "id": "a01f043f",
   "metadata": {},
   "source": [
    "### Funkcija concat "
   ]
  },
  {
   "cell_type": "code",
   "execution_count": 49,
   "id": "50594514",
   "metadata": {},
   "outputs": [
    {
     "data": {
      "text/html": [
       "<div>\n",
       "<style scoped>\n",
       "    .dataframe tbody tr th:only-of-type {\n",
       "        vertical-align: middle;\n",
       "    }\n",
       "\n",
       "    .dataframe tbody tr th {\n",
       "        vertical-align: top;\n",
       "    }\n",
       "\n",
       "    .dataframe thead th {\n",
       "        text-align: right;\n",
       "    }\n",
       "</style>\n",
       "<table border=\"1\" class=\"dataframe\">\n",
       "  <thead>\n",
       "    <tr style=\"text-align: right;\">\n",
       "      <th></th>\n",
       "      <th>x_value</th>\n",
       "      <th>y_value</th>\n",
       "    </tr>\n",
       "  </thead>\n",
       "  <tbody>\n",
       "    <tr>\n",
       "      <th>A</th>\n",
       "      <td>1</td>\n",
       "      <td>3</td>\n",
       "    </tr>\n",
       "    <tr>\n",
       "      <th>B</th>\n",
       "      <td>2</td>\n",
       "      <td>4</td>\n",
       "    </tr>\n",
       "    <tr>\n",
       "      <th>C</th>\n",
       "      <td>6</td>\n",
       "      <td>4</td>\n",
       "    </tr>\n",
       "    <tr>\n",
       "      <th>D</th>\n",
       "      <td>5</td>\n",
       "      <td>7</td>\n",
       "    </tr>\n",
       "  </tbody>\n",
       "</table>\n",
       "</div>"
      ],
      "text/plain": [
       "   x_value  y_value\n",
       "A        1        3\n",
       "B        2        4\n",
       "C        6        4\n",
       "D        5        7"
      ]
     },
     "execution_count": 49,
     "metadata": {},
     "output_type": "execute_result"
    }
   ],
   "source": [
    "df1 = data[['x_value', 'y_value']]\n",
    "df1 "
   ]
  },
  {
   "cell_type": "code",
   "execution_count": 50,
   "id": "557416b8",
   "metadata": {},
   "outputs": [
    {
     "data": {
      "text/plain": [
       "A    blue\n",
       "B     red\n",
       "C    blue\n",
       "D    blue\n",
       "Name: color, dtype: object"
      ]
     },
     "execution_count": 50,
     "metadata": {},
     "output_type": "execute_result"
    }
   ],
   "source": [
    "df2 = data['color']\n",
    "df2"
   ]
  },
  {
   "cell_type": "code",
   "execution_count": 51,
   "id": "c6c73969",
   "metadata": {},
   "outputs": [
    {
     "data": {
      "text/html": [
       "<div>\n",
       "<style scoped>\n",
       "    .dataframe tbody tr th:only-of-type {\n",
       "        vertical-align: middle;\n",
       "    }\n",
       "\n",
       "    .dataframe tbody tr th {\n",
       "        vertical-align: top;\n",
       "    }\n",
       "\n",
       "    .dataframe thead th {\n",
       "        text-align: right;\n",
       "    }\n",
       "</style>\n",
       "<table border=\"1\" class=\"dataframe\">\n",
       "  <thead>\n",
       "    <tr style=\"text-align: right;\">\n",
       "      <th></th>\n",
       "      <th>x_value</th>\n",
       "      <th>y_value</th>\n",
       "      <th>color</th>\n",
       "    </tr>\n",
       "  </thead>\n",
       "  <tbody>\n",
       "    <tr>\n",
       "      <th>A</th>\n",
       "      <td>1</td>\n",
       "      <td>3</td>\n",
       "      <td>blue</td>\n",
       "    </tr>\n",
       "    <tr>\n",
       "      <th>B</th>\n",
       "      <td>2</td>\n",
       "      <td>4</td>\n",
       "      <td>red</td>\n",
       "    </tr>\n",
       "    <tr>\n",
       "      <th>C</th>\n",
       "      <td>6</td>\n",
       "      <td>4</td>\n",
       "      <td>blue</td>\n",
       "    </tr>\n",
       "    <tr>\n",
       "      <th>D</th>\n",
       "      <td>5</td>\n",
       "      <td>7</td>\n",
       "      <td>blue</td>\n",
       "    </tr>\n",
       "  </tbody>\n",
       "</table>\n",
       "</div>"
      ],
      "text/plain": [
       "   x_value  y_value color\n",
       "A        1        3  blue\n",
       "B        2        4   red\n",
       "C        6        4  blue\n",
       "D        5        7  blue"
      ]
     },
     "execution_count": 51,
     "metadata": {},
     "output_type": "execute_result"
    }
   ],
   "source": [
    "pd.concat([df1, df2], axis=1)"
   ]
  },
  {
   "cell_type": "code",
   "execution_count": 52,
   "id": "08ce0b7c",
   "metadata": {},
   "outputs": [
    {
     "data": {
      "text/html": [
       "<div>\n",
       "<style scoped>\n",
       "    .dataframe tbody tr th:only-of-type {\n",
       "        vertical-align: middle;\n",
       "    }\n",
       "\n",
       "    .dataframe tbody tr th {\n",
       "        vertical-align: top;\n",
       "    }\n",
       "\n",
       "    .dataframe thead th {\n",
       "        text-align: right;\n",
       "    }\n",
       "</style>\n",
       "<table border=\"1\" class=\"dataframe\">\n",
       "  <thead>\n",
       "    <tr style=\"text-align: right;\">\n",
       "      <th></th>\n",
       "      <th>x_value</th>\n",
       "      <th>y_value</th>\n",
       "      <th>color</th>\n",
       "    </tr>\n",
       "  </thead>\n",
       "  <tbody>\n",
       "    <tr>\n",
       "      <th>A</th>\n",
       "      <td>1</td>\n",
       "      <td>3</td>\n",
       "      <td>blue</td>\n",
       "    </tr>\n",
       "    <tr>\n",
       "      <th>B</th>\n",
       "      <td>2</td>\n",
       "      <td>4</td>\n",
       "      <td>red</td>\n",
       "    </tr>\n",
       "    <tr>\n",
       "      <th>C</th>\n",
       "      <td>6</td>\n",
       "      <td>4</td>\n",
       "      <td>blue</td>\n",
       "    </tr>\n",
       "    <tr>\n",
       "      <th>D</th>\n",
       "      <td>5</td>\n",
       "      <td>7</td>\n",
       "      <td>blue</td>\n",
       "    </tr>\n",
       "  </tbody>\n",
       "</table>\n",
       "</div>"
      ],
      "text/plain": [
       "   x_value  y_value color\n",
       "A        1        3  blue\n",
       "B        2        4   red\n",
       "C        6        4  blue\n",
       "D        5        7  blue"
      ]
     },
     "execution_count": 52,
     "metadata": {},
     "output_type": "execute_result"
    }
   ],
   "source": [
    "df1 = data.iloc[:4]\n",
    "df1"
   ]
  },
  {
   "cell_type": "code",
   "execution_count": 53,
   "id": "1ff49b47",
   "metadata": {},
   "outputs": [
    {
     "data": {
      "text/html": [
       "<div>\n",
       "<style scoped>\n",
       "    .dataframe tbody tr th:only-of-type {\n",
       "        vertical-align: middle;\n",
       "    }\n",
       "\n",
       "    .dataframe tbody tr th {\n",
       "        vertical-align: top;\n",
       "    }\n",
       "\n",
       "    .dataframe thead th {\n",
       "        text-align: right;\n",
       "    }\n",
       "</style>\n",
       "<table border=\"1\" class=\"dataframe\">\n",
       "  <thead>\n",
       "    <tr style=\"text-align: right;\">\n",
       "      <th></th>\n",
       "      <th>x_value</th>\n",
       "      <th>y_value</th>\n",
       "      <th>color</th>\n",
       "    </tr>\n",
       "  </thead>\n",
       "  <tbody>\n",
       "    <tr>\n",
       "      <th>D</th>\n",
       "      <td>5</td>\n",
       "      <td>7</td>\n",
       "      <td>blue</td>\n",
       "    </tr>\n",
       "  </tbody>\n",
       "</table>\n",
       "</div>"
      ],
      "text/plain": [
       "   x_value  y_value color\n",
       "D        5        7  blue"
      ]
     },
     "execution_count": 53,
     "metadata": {},
     "output_type": "execute_result"
    }
   ],
   "source": [
    "df2 = data.iloc[-1:]\n",
    "df2"
   ]
  },
  {
   "cell_type": "code",
   "execution_count": 54,
   "id": "59c4beb2",
   "metadata": {},
   "outputs": [
    {
     "data": {
      "text/html": [
       "<div>\n",
       "<style scoped>\n",
       "    .dataframe tbody tr th:only-of-type {\n",
       "        vertical-align: middle;\n",
       "    }\n",
       "\n",
       "    .dataframe tbody tr th {\n",
       "        vertical-align: top;\n",
       "    }\n",
       "\n",
       "    .dataframe thead th {\n",
       "        text-align: right;\n",
       "    }\n",
       "</style>\n",
       "<table border=\"1\" class=\"dataframe\">\n",
       "  <thead>\n",
       "    <tr style=\"text-align: right;\">\n",
       "      <th></th>\n",
       "      <th>x_value</th>\n",
       "      <th>y_value</th>\n",
       "      <th>color</th>\n",
       "    </tr>\n",
       "  </thead>\n",
       "  <tbody>\n",
       "    <tr>\n",
       "      <th>A</th>\n",
       "      <td>1</td>\n",
       "      <td>3</td>\n",
       "      <td>blue</td>\n",
       "    </tr>\n",
       "    <tr>\n",
       "      <th>B</th>\n",
       "      <td>2</td>\n",
       "      <td>4</td>\n",
       "      <td>red</td>\n",
       "    </tr>\n",
       "    <tr>\n",
       "      <th>C</th>\n",
       "      <td>6</td>\n",
       "      <td>4</td>\n",
       "      <td>blue</td>\n",
       "    </tr>\n",
       "    <tr>\n",
       "      <th>D</th>\n",
       "      <td>5</td>\n",
       "      <td>7</td>\n",
       "      <td>blue</td>\n",
       "    </tr>\n",
       "    <tr>\n",
       "      <th>D</th>\n",
       "      <td>5</td>\n",
       "      <td>7</td>\n",
       "      <td>blue</td>\n",
       "    </tr>\n",
       "  </tbody>\n",
       "</table>\n",
       "</div>"
      ],
      "text/plain": [
       "   x_value  y_value color\n",
       "A        1        3  blue\n",
       "B        2        4   red\n",
       "C        6        4  blue\n",
       "D        5        7  blue\n",
       "D        5        7  blue"
      ]
     },
     "execution_count": 54,
     "metadata": {},
     "output_type": "execute_result"
    }
   ],
   "source": [
    "pd.concat([df1, df2])"
   ]
  },
  {
   "cell_type": "code",
   "execution_count": 55,
   "id": "649befab",
   "metadata": {},
   "outputs": [
    {
     "data": {
      "text/html": [
       "<div>\n",
       "<style scoped>\n",
       "    .dataframe tbody tr th:only-of-type {\n",
       "        vertical-align: middle;\n",
       "    }\n",
       "\n",
       "    .dataframe tbody tr th {\n",
       "        vertical-align: top;\n",
       "    }\n",
       "\n",
       "    .dataframe thead th {\n",
       "        text-align: right;\n",
       "    }\n",
       "</style>\n",
       "<table border=\"1\" class=\"dataframe\">\n",
       "  <thead>\n",
       "    <tr style=\"text-align: right;\">\n",
       "      <th></th>\n",
       "      <th>x_value</th>\n",
       "      <th>y_value</th>\n",
       "    </tr>\n",
       "  </thead>\n",
       "  <tbody>\n",
       "    <tr>\n",
       "      <th>A</th>\n",
       "      <td>1</td>\n",
       "      <td>3</td>\n",
       "    </tr>\n",
       "    <tr>\n",
       "      <th>B</th>\n",
       "      <td>2</td>\n",
       "      <td>4</td>\n",
       "    </tr>\n",
       "    <tr>\n",
       "      <th>C</th>\n",
       "      <td>6</td>\n",
       "      <td>4</td>\n",
       "    </tr>\n",
       "  </tbody>\n",
       "</table>\n",
       "</div>"
      ],
      "text/plain": [
       "   x_value  y_value\n",
       "A        1        3\n",
       "B        2        4\n",
       "C        6        4"
      ]
     },
     "execution_count": 55,
     "metadata": {},
     "output_type": "execute_result"
    }
   ],
   "source": [
    "df1 = data.iloc[:3, :2]\n",
    "df1"
   ]
  },
  {
   "cell_type": "code",
   "execution_count": 56,
   "id": "57d45fc0",
   "metadata": {},
   "outputs": [
    {
     "data": {
      "text/html": [
       "<div>\n",
       "<style scoped>\n",
       "    .dataframe tbody tr th:only-of-type {\n",
       "        vertical-align: middle;\n",
       "    }\n",
       "\n",
       "    .dataframe tbody tr th {\n",
       "        vertical-align: top;\n",
       "    }\n",
       "\n",
       "    .dataframe thead th {\n",
       "        text-align: right;\n",
       "    }\n",
       "</style>\n",
       "<table border=\"1\" class=\"dataframe\">\n",
       "  <thead>\n",
       "    <tr style=\"text-align: right;\">\n",
       "      <th></th>\n",
       "      <th>color</th>\n",
       "    </tr>\n",
       "  </thead>\n",
       "  <tbody>\n",
       "    <tr>\n",
       "      <th>C</th>\n",
       "      <td>blue</td>\n",
       "    </tr>\n",
       "    <tr>\n",
       "      <th>D</th>\n",
       "      <td>blue</td>\n",
       "    </tr>\n",
       "  </tbody>\n",
       "</table>\n",
       "</div>"
      ],
      "text/plain": [
       "  color\n",
       "C  blue\n",
       "D  blue"
      ]
     },
     "execution_count": 56,
     "metadata": {},
     "output_type": "execute_result"
    }
   ],
   "source": [
    "df2 = data[['color']][2:]            \n",
    "df2                                       "
   ]
  },
  {
   "cell_type": "code",
   "execution_count": 57,
   "id": "49ff7432",
   "metadata": {},
   "outputs": [
    {
     "data": {
      "text/html": [
       "<div>\n",
       "<style scoped>\n",
       "    .dataframe tbody tr th:only-of-type {\n",
       "        vertical-align: middle;\n",
       "    }\n",
       "\n",
       "    .dataframe tbody tr th {\n",
       "        vertical-align: top;\n",
       "    }\n",
       "\n",
       "    .dataframe thead th {\n",
       "        text-align: right;\n",
       "    }\n",
       "</style>\n",
       "<table border=\"1\" class=\"dataframe\">\n",
       "  <thead>\n",
       "    <tr style=\"text-align: right;\">\n",
       "      <th></th>\n",
       "      <th>x_value</th>\n",
       "      <th>y_value</th>\n",
       "      <th>color</th>\n",
       "    </tr>\n",
       "  </thead>\n",
       "  <tbody>\n",
       "    <tr>\n",
       "      <th>A</th>\n",
       "      <td>1.0</td>\n",
       "      <td>3.0</td>\n",
       "      <td>NaN</td>\n",
       "    </tr>\n",
       "    <tr>\n",
       "      <th>B</th>\n",
       "      <td>2.0</td>\n",
       "      <td>4.0</td>\n",
       "      <td>NaN</td>\n",
       "    </tr>\n",
       "    <tr>\n",
       "      <th>C</th>\n",
       "      <td>6.0</td>\n",
       "      <td>4.0</td>\n",
       "      <td>blue</td>\n",
       "    </tr>\n",
       "    <tr>\n",
       "      <th>D</th>\n",
       "      <td>NaN</td>\n",
       "      <td>NaN</td>\n",
       "      <td>blue</td>\n",
       "    </tr>\n",
       "  </tbody>\n",
       "</table>\n",
       "</div>"
      ],
      "text/plain": [
       "   x_value  y_value color\n",
       "A      1.0      3.0   NaN\n",
       "B      2.0      4.0   NaN\n",
       "C      6.0      4.0  blue\n",
       "D      NaN      NaN  blue"
      ]
     },
     "execution_count": 57,
     "metadata": {},
     "output_type": "execute_result"
    }
   ],
   "source": [
    "pd.concat([df1, df2], axis=1)"
   ]
  },
  {
   "cell_type": "markdown",
   "id": "6232c379",
   "metadata": {},
   "source": [
    "**NAPOMENA**: funkcija <code>concat()</code> podrazumevano vrši takozvano **spoljašnje spajanje (eng. OUTER JOIN)** - rezultat je unija DataFrame-ova (DataFrame koji sadrži uniju indeksa DataFrame-ova koji se spajaju, kako po osi po kojoj se vrši spajanje, tako i po drugoj osi). Polja koja nemaju pridruženu vrednost ni u jednom od DataFrame-ova koji se spajaju, popunjavaju se <code>NaN</code> vrednostima.       "
   ]
  },
  {
   "cell_type": "markdown",
   "id": "d0f1cd7b",
   "metadata": {},
   "source": [
    "### Metoda join"
   ]
  },
  {
   "cell_type": "markdown",
   "id": "fc55d495",
   "metadata": {},
   "source": [
    "Postoji nekoliko tipova spajanja tabela tj. DataFrame objekata:\n",
    "\n",
    "- **unutrašnje spajanje (eng. INNER JOIN)** - rezultat je presek dva DataFrame-a tj. DataFrame objekat koji sadrži samo redove za koje postoji poklapanje po vrednostima indeksa ili kolone po kojoj se vrši spajanje\n",
    "\n",
    "- **levo spoljašnje spajanje (eng. LEFT OUTER JOIN)** - rezultat je DataFrame objekat koji sadrži sve redove iz prvog (levog) DataFrame-a sa pridruženim vrednostima iz drugog (desnog) DataFrame-a ili NaN vrednostima ukoliko takve ne postoje\n",
    "\n",
    "- **desno spoljašnje spajanje (eng. RIGHT OUTER JOIN)** - rezultat je DataFrame objekat koji sadrži sve redove iz drugog (desnog) DataFrame-a sa pridruženim vrednostima iz prvog (levog) DataFrame-a ili NaN vrednostima ukoliko takve ne postoje\n",
    "\n",
    "- **potpuno spoljašnje spajanje (eng. FULL OUTER JOIN)** - rezultat je unija dva DataFrame-a tj. DataFrame objekat koji sadrži redove iz oba DataFrame-a sa pridruženim NaN vrednostima ukoliko njima odgovarajuća vrednost indeksa ili kolone po kojoj se vrši spajanje nije prisutna i u drugom DataFrame-u"
   ]
  },
  {
   "cell_type": "markdown",
   "id": "c6e81831",
   "metadata": {},
   "source": [
    "<img src=\"assets/join_variants.png\" width=\"350\" align=center>"
   ]
  },
  {
   "cell_type": "markdown",
   "id": "33f8212f",
   "metadata": {},
   "source": [
    "**NAPOMENA**: U slucaju da se spajanje redova vrši na osnovu indeksa, za primenu <code>join()</code> metoda potrebno je da DataFrame-ovi nemaju kolone koje se preklapaju! U suprotnom, DataFrame-ovi koji se spajaju moraju imati zajedničku samo tu jednu kolonu po kojoj se vrši spajanje."
   ]
  },
  {
   "cell_type": "code",
   "execution_count": 58,
   "id": "f29725bd",
   "metadata": {},
   "outputs": [
    {
     "data": {
      "text/html": [
       "<div>\n",
       "<style scoped>\n",
       "    .dataframe tbody tr th:only-of-type {\n",
       "        vertical-align: middle;\n",
       "    }\n",
       "\n",
       "    .dataframe tbody tr th {\n",
       "        vertical-align: top;\n",
       "    }\n",
       "\n",
       "    .dataframe thead th {\n",
       "        text-align: right;\n",
       "    }\n",
       "</style>\n",
       "<table border=\"1\" class=\"dataframe\">\n",
       "  <thead>\n",
       "    <tr style=\"text-align: right;\">\n",
       "      <th></th>\n",
       "      <th>x_value</th>\n",
       "      <th>y_value</th>\n",
       "    </tr>\n",
       "  </thead>\n",
       "  <tbody>\n",
       "    <tr>\n",
       "      <th>A</th>\n",
       "      <td>1</td>\n",
       "      <td>3</td>\n",
       "    </tr>\n",
       "    <tr>\n",
       "      <th>B</th>\n",
       "      <td>2</td>\n",
       "      <td>4</td>\n",
       "    </tr>\n",
       "    <tr>\n",
       "      <th>C</th>\n",
       "      <td>6</td>\n",
       "      <td>4</td>\n",
       "    </tr>\n",
       "  </tbody>\n",
       "</table>\n",
       "</div>"
      ],
      "text/plain": [
       "   x_value  y_value\n",
       "A        1        3\n",
       "B        2        4\n",
       "C        6        4"
      ]
     },
     "execution_count": 58,
     "metadata": {},
     "output_type": "execute_result"
    }
   ],
   "source": [
    "df1 = data.iloc[:3, :2]\n",
    "df1"
   ]
  },
  {
   "cell_type": "code",
   "execution_count": 59,
   "id": "b2136b25",
   "metadata": {},
   "outputs": [
    {
     "data": {
      "text/html": [
       "<div>\n",
       "<style scoped>\n",
       "    .dataframe tbody tr th:only-of-type {\n",
       "        vertical-align: middle;\n",
       "    }\n",
       "\n",
       "    .dataframe tbody tr th {\n",
       "        vertical-align: top;\n",
       "    }\n",
       "\n",
       "    .dataframe thead th {\n",
       "        text-align: right;\n",
       "    }\n",
       "</style>\n",
       "<table border=\"1\" class=\"dataframe\">\n",
       "  <thead>\n",
       "    <tr style=\"text-align: right;\">\n",
       "      <th></th>\n",
       "      <th>color</th>\n",
       "    </tr>\n",
       "  </thead>\n",
       "  <tbody>\n",
       "    <tr>\n",
       "      <th>C</th>\n",
       "      <td>blue</td>\n",
       "    </tr>\n",
       "    <tr>\n",
       "      <th>D</th>\n",
       "      <td>blue</td>\n",
       "    </tr>\n",
       "  </tbody>\n",
       "</table>\n",
       "</div>"
      ],
      "text/plain": [
       "  color\n",
       "C  blue\n",
       "D  blue"
      ]
     },
     "execution_count": 59,
     "metadata": {},
     "output_type": "execute_result"
    }
   ],
   "source": [
    "df2 = data[['color']][2:]            \n",
    "df2                                       "
   ]
  },
  {
   "cell_type": "code",
   "execution_count": 60,
   "id": "836b886c",
   "metadata": {},
   "outputs": [
    {
     "data": {
      "text/html": [
       "<div>\n",
       "<style scoped>\n",
       "    .dataframe tbody tr th:only-of-type {\n",
       "        vertical-align: middle;\n",
       "    }\n",
       "\n",
       "    .dataframe tbody tr th {\n",
       "        vertical-align: top;\n",
       "    }\n",
       "\n",
       "    .dataframe thead th {\n",
       "        text-align: right;\n",
       "    }\n",
       "</style>\n",
       "<table border=\"1\" class=\"dataframe\">\n",
       "  <thead>\n",
       "    <tr style=\"text-align: right;\">\n",
       "      <th></th>\n",
       "      <th>x_value</th>\n",
       "      <th>y_value</th>\n",
       "      <th>color</th>\n",
       "    </tr>\n",
       "  </thead>\n",
       "  <tbody>\n",
       "    <tr>\n",
       "      <th>C</th>\n",
       "      <td>6</td>\n",
       "      <td>4</td>\n",
       "      <td>blue</td>\n",
       "    </tr>\n",
       "  </tbody>\n",
       "</table>\n",
       "</div>"
      ],
      "text/plain": [
       "   x_value  y_value color\n",
       "C        6        4  blue"
      ]
     },
     "execution_count": 60,
     "metadata": {},
     "output_type": "execute_result"
    }
   ],
   "source": [
    "df1.join(df2, how='inner')"
   ]
  },
  {
   "cell_type": "code",
   "execution_count": 61,
   "id": "3f510fc1",
   "metadata": {},
   "outputs": [
    {
     "data": {
      "text/html": [
       "<div>\n",
       "<style scoped>\n",
       "    .dataframe tbody tr th:only-of-type {\n",
       "        vertical-align: middle;\n",
       "    }\n",
       "\n",
       "    .dataframe tbody tr th {\n",
       "        vertical-align: top;\n",
       "    }\n",
       "\n",
       "    .dataframe thead th {\n",
       "        text-align: right;\n",
       "    }\n",
       "</style>\n",
       "<table border=\"1\" class=\"dataframe\">\n",
       "  <thead>\n",
       "    <tr style=\"text-align: right;\">\n",
       "      <th></th>\n",
       "      <th>x_value</th>\n",
       "      <th>y_value</th>\n",
       "      <th>color</th>\n",
       "    </tr>\n",
       "  </thead>\n",
       "  <tbody>\n",
       "    <tr>\n",
       "      <th>A</th>\n",
       "      <td>1</td>\n",
       "      <td>3</td>\n",
       "      <td>NaN</td>\n",
       "    </tr>\n",
       "    <tr>\n",
       "      <th>B</th>\n",
       "      <td>2</td>\n",
       "      <td>4</td>\n",
       "      <td>NaN</td>\n",
       "    </tr>\n",
       "    <tr>\n",
       "      <th>C</th>\n",
       "      <td>6</td>\n",
       "      <td>4</td>\n",
       "      <td>blue</td>\n",
       "    </tr>\n",
       "  </tbody>\n",
       "</table>\n",
       "</div>"
      ],
      "text/plain": [
       "   x_value  y_value color\n",
       "A        1        3   NaN\n",
       "B        2        4   NaN\n",
       "C        6        4  blue"
      ]
     },
     "execution_count": 61,
     "metadata": {},
     "output_type": "execute_result"
    }
   ],
   "source": [
    "df1.join(df2, how='left')"
   ]
  },
  {
   "cell_type": "code",
   "execution_count": 62,
   "id": "cd60dea1",
   "metadata": {},
   "outputs": [
    {
     "data": {
      "text/html": [
       "<div>\n",
       "<style scoped>\n",
       "    .dataframe tbody tr th:only-of-type {\n",
       "        vertical-align: middle;\n",
       "    }\n",
       "\n",
       "    .dataframe tbody tr th {\n",
       "        vertical-align: top;\n",
       "    }\n",
       "\n",
       "    .dataframe thead th {\n",
       "        text-align: right;\n",
       "    }\n",
       "</style>\n",
       "<table border=\"1\" class=\"dataframe\">\n",
       "  <thead>\n",
       "    <tr style=\"text-align: right;\">\n",
       "      <th></th>\n",
       "      <th>x_value</th>\n",
       "      <th>y_value</th>\n",
       "      <th>color</th>\n",
       "    </tr>\n",
       "  </thead>\n",
       "  <tbody>\n",
       "    <tr>\n",
       "      <th>C</th>\n",
       "      <td>6.0</td>\n",
       "      <td>4.0</td>\n",
       "      <td>blue</td>\n",
       "    </tr>\n",
       "    <tr>\n",
       "      <th>D</th>\n",
       "      <td>NaN</td>\n",
       "      <td>NaN</td>\n",
       "      <td>blue</td>\n",
       "    </tr>\n",
       "  </tbody>\n",
       "</table>\n",
       "</div>"
      ],
      "text/plain": [
       "   x_value  y_value color\n",
       "C      6.0      4.0  blue\n",
       "D      NaN      NaN  blue"
      ]
     },
     "execution_count": 62,
     "metadata": {},
     "output_type": "execute_result"
    }
   ],
   "source": [
    "df1.join(df2, how='right')"
   ]
  },
  {
   "cell_type": "code",
   "execution_count": 63,
   "id": "6e7bdb9d",
   "metadata": {},
   "outputs": [
    {
     "data": {
      "text/html": [
       "<div>\n",
       "<style scoped>\n",
       "    .dataframe tbody tr th:only-of-type {\n",
       "        vertical-align: middle;\n",
       "    }\n",
       "\n",
       "    .dataframe tbody tr th {\n",
       "        vertical-align: top;\n",
       "    }\n",
       "\n",
       "    .dataframe thead th {\n",
       "        text-align: right;\n",
       "    }\n",
       "</style>\n",
       "<table border=\"1\" class=\"dataframe\">\n",
       "  <thead>\n",
       "    <tr style=\"text-align: right;\">\n",
       "      <th></th>\n",
       "      <th>x_value</th>\n",
       "      <th>y_value</th>\n",
       "      <th>color</th>\n",
       "    </tr>\n",
       "  </thead>\n",
       "  <tbody>\n",
       "    <tr>\n",
       "      <th>A</th>\n",
       "      <td>1.0</td>\n",
       "      <td>3.0</td>\n",
       "      <td>NaN</td>\n",
       "    </tr>\n",
       "    <tr>\n",
       "      <th>B</th>\n",
       "      <td>2.0</td>\n",
       "      <td>4.0</td>\n",
       "      <td>NaN</td>\n",
       "    </tr>\n",
       "    <tr>\n",
       "      <th>C</th>\n",
       "      <td>6.0</td>\n",
       "      <td>4.0</td>\n",
       "      <td>blue</td>\n",
       "    </tr>\n",
       "    <tr>\n",
       "      <th>D</th>\n",
       "      <td>NaN</td>\n",
       "      <td>NaN</td>\n",
       "      <td>blue</td>\n",
       "    </tr>\n",
       "  </tbody>\n",
       "</table>\n",
       "</div>"
      ],
      "text/plain": [
       "   x_value  y_value color\n",
       "A      1.0      3.0   NaN\n",
       "B      2.0      4.0   NaN\n",
       "C      6.0      4.0  blue\n",
       "D      NaN      NaN  blue"
      ]
     },
     "execution_count": 63,
     "metadata": {},
     "output_type": "execute_result"
    }
   ],
   "source": [
    "df1.join(df2, how='outer')"
   ]
  },
  {
   "cell_type": "markdown",
   "id": "008f0ee3",
   "metadata": {},
   "source": [
    "**NAPOMENA**: <code>concat(, axis=1)</code> = <code>join(, how='outer')</code>!"
   ]
  },
  {
   "cell_type": "markdown",
   "id": "f5075397",
   "metadata": {},
   "source": [
    "### Funkcija merge"
   ]
  },
  {
   "cell_type": "markdown",
   "id": "f25ee388",
   "metadata": {},
   "source": [
    "Za razliku od <code>join()</code> metoda, <code>merge()</code> funkcija može da se primeni nad DataFrame-ovima koji imaju kolone koje se preklapaju. Pored **'inner'**, **'left outer'**, **'right outer'** i **'full outer'** tipa spajanja, pomoću <code>merge()</code> funkcije može da vrši takozvani **unakrsni tip spajanja (eng. CROSS JOIN)** - rezultat je Dekartov proizvod DataFrame-ova (spaja se svaki red jednog DataFrame-a sa svakim redom drugog). "
   ]
  },
  {
   "cell_type": "code",
   "execution_count": 64,
   "id": "2b06f88c",
   "metadata": {},
   "outputs": [
    {
     "data": {
      "text/html": [
       "<div>\n",
       "<style scoped>\n",
       "    .dataframe tbody tr th:only-of-type {\n",
       "        vertical-align: middle;\n",
       "    }\n",
       "\n",
       "    .dataframe tbody tr th {\n",
       "        vertical-align: top;\n",
       "    }\n",
       "\n",
       "    .dataframe thead th {\n",
       "        text-align: right;\n",
       "    }\n",
       "</style>\n",
       "<table border=\"1\" class=\"dataframe\">\n",
       "  <thead>\n",
       "    <tr style=\"text-align: right;\">\n",
       "      <th></th>\n",
       "      <th>x_value</th>\n",
       "      <th>y_value</th>\n",
       "    </tr>\n",
       "  </thead>\n",
       "  <tbody>\n",
       "    <tr>\n",
       "      <th>A</th>\n",
       "      <td>1</td>\n",
       "      <td>3</td>\n",
       "    </tr>\n",
       "    <tr>\n",
       "      <th>B</th>\n",
       "      <td>2</td>\n",
       "      <td>4</td>\n",
       "    </tr>\n",
       "    <tr>\n",
       "      <th>C</th>\n",
       "      <td>6</td>\n",
       "      <td>4</td>\n",
       "    </tr>\n",
       "  </tbody>\n",
       "</table>\n",
       "</div>"
      ],
      "text/plain": [
       "   x_value  y_value\n",
       "A        1        3\n",
       "B        2        4\n",
       "C        6        4"
      ]
     },
     "execution_count": 64,
     "metadata": {},
     "output_type": "execute_result"
    }
   ],
   "source": [
    "df1 = data.iloc[:3, :2]\n",
    "df1"
   ]
  },
  {
   "cell_type": "code",
   "execution_count": 65,
   "id": "fddf8c2f",
   "metadata": {},
   "outputs": [
    {
     "data": {
      "text/html": [
       "<div>\n",
       "<style scoped>\n",
       "    .dataframe tbody tr th:only-of-type {\n",
       "        vertical-align: middle;\n",
       "    }\n",
       "\n",
       "    .dataframe tbody tr th {\n",
       "        vertical-align: top;\n",
       "    }\n",
       "\n",
       "    .dataframe thead th {\n",
       "        text-align: right;\n",
       "    }\n",
       "</style>\n",
       "<table border=\"1\" class=\"dataframe\">\n",
       "  <thead>\n",
       "    <tr style=\"text-align: right;\">\n",
       "      <th></th>\n",
       "      <th>y_value</th>\n",
       "      <th>color</th>\n",
       "    </tr>\n",
       "  </thead>\n",
       "  <tbody>\n",
       "    <tr>\n",
       "      <th>C</th>\n",
       "      <td>4</td>\n",
       "      <td>blue</td>\n",
       "    </tr>\n",
       "    <tr>\n",
       "      <th>D</th>\n",
       "      <td>7</td>\n",
       "      <td>blue</td>\n",
       "    </tr>\n",
       "  </tbody>\n",
       "</table>\n",
       "</div>"
      ],
      "text/plain": [
       "   y_value color\n",
       "C        4  blue\n",
       "D        7  blue"
      ]
     },
     "execution_count": 65,
     "metadata": {},
     "output_type": "execute_result"
    }
   ],
   "source": [
    "df2 = data[['y_value', 'color']][2:]            \n",
    "df2        "
   ]
  },
  {
   "cell_type": "code",
   "execution_count": 66,
   "id": "16bb781d",
   "metadata": {},
   "outputs": [
    {
     "data": {
      "text/html": [
       "<div>\n",
       "<style scoped>\n",
       "    .dataframe tbody tr th:only-of-type {\n",
       "        vertical-align: middle;\n",
       "    }\n",
       "\n",
       "    .dataframe tbody tr th {\n",
       "        vertical-align: top;\n",
       "    }\n",
       "\n",
       "    .dataframe thead th {\n",
       "        text-align: right;\n",
       "    }\n",
       "</style>\n",
       "<table border=\"1\" class=\"dataframe\">\n",
       "  <thead>\n",
       "    <tr style=\"text-align: right;\">\n",
       "      <th></th>\n",
       "      <th>x_value</th>\n",
       "      <th>y_value</th>\n",
       "      <th>color</th>\n",
       "    </tr>\n",
       "  </thead>\n",
       "  <tbody>\n",
       "    <tr>\n",
       "      <th>0</th>\n",
       "      <td>1.0</td>\n",
       "      <td>3</td>\n",
       "      <td>NaN</td>\n",
       "    </tr>\n",
       "    <tr>\n",
       "      <th>1</th>\n",
       "      <td>2.0</td>\n",
       "      <td>4</td>\n",
       "      <td>blue</td>\n",
       "    </tr>\n",
       "    <tr>\n",
       "      <th>2</th>\n",
       "      <td>6.0</td>\n",
       "      <td>4</td>\n",
       "      <td>blue</td>\n",
       "    </tr>\n",
       "    <tr>\n",
       "      <th>3</th>\n",
       "      <td>NaN</td>\n",
       "      <td>7</td>\n",
       "      <td>blue</td>\n",
       "    </tr>\n",
       "  </tbody>\n",
       "</table>\n",
       "</div>"
      ],
      "text/plain": [
       "   x_value  y_value color\n",
       "0      1.0        3   NaN\n",
       "1      2.0        4  blue\n",
       "2      6.0        4  blue\n",
       "3      NaN        7  blue"
      ]
     },
     "execution_count": 66,
     "metadata": {},
     "output_type": "execute_result"
    }
   ],
   "source": [
    "pd.merge(df1, df2, how='outer')         "
   ]
  },
  {
   "cell_type": "code",
   "execution_count": 67,
   "id": "955eea34",
   "metadata": {},
   "outputs": [
    {
     "data": {
      "text/html": [
       "<div>\n",
       "<style scoped>\n",
       "    .dataframe tbody tr th:only-of-type {\n",
       "        vertical-align: middle;\n",
       "    }\n",
       "\n",
       "    .dataframe tbody tr th {\n",
       "        vertical-align: top;\n",
       "    }\n",
       "\n",
       "    .dataframe thead th {\n",
       "        text-align: right;\n",
       "    }\n",
       "</style>\n",
       "<table border=\"1\" class=\"dataframe\">\n",
       "  <thead>\n",
       "    <tr style=\"text-align: right;\">\n",
       "      <th></th>\n",
       "      <th>x_value</th>\n",
       "      <th>y_value_x</th>\n",
       "      <th>y_value_y</th>\n",
       "      <th>color</th>\n",
       "    </tr>\n",
       "  </thead>\n",
       "  <tbody>\n",
       "    <tr>\n",
       "      <th>0</th>\n",
       "      <td>1</td>\n",
       "      <td>3</td>\n",
       "      <td>4</td>\n",
       "      <td>blue</td>\n",
       "    </tr>\n",
       "    <tr>\n",
       "      <th>1</th>\n",
       "      <td>1</td>\n",
       "      <td>3</td>\n",
       "      <td>7</td>\n",
       "      <td>blue</td>\n",
       "    </tr>\n",
       "    <tr>\n",
       "      <th>2</th>\n",
       "      <td>2</td>\n",
       "      <td>4</td>\n",
       "      <td>4</td>\n",
       "      <td>blue</td>\n",
       "    </tr>\n",
       "    <tr>\n",
       "      <th>3</th>\n",
       "      <td>2</td>\n",
       "      <td>4</td>\n",
       "      <td>7</td>\n",
       "      <td>blue</td>\n",
       "    </tr>\n",
       "    <tr>\n",
       "      <th>4</th>\n",
       "      <td>6</td>\n",
       "      <td>4</td>\n",
       "      <td>4</td>\n",
       "      <td>blue</td>\n",
       "    </tr>\n",
       "    <tr>\n",
       "      <th>5</th>\n",
       "      <td>6</td>\n",
       "      <td>4</td>\n",
       "      <td>7</td>\n",
       "      <td>blue</td>\n",
       "    </tr>\n",
       "  </tbody>\n",
       "</table>\n",
       "</div>"
      ],
      "text/plain": [
       "   x_value  y_value_x  y_value_y color\n",
       "0        1          3          4  blue\n",
       "1        1          3          7  blue\n",
       "2        2          4          4  blue\n",
       "3        2          4          7  blue\n",
       "4        6          4          4  blue\n",
       "5        6          4          7  blue"
      ]
     },
     "execution_count": 67,
     "metadata": {},
     "output_type": "execute_result"
    }
   ],
   "source": [
    "pd.merge(df1, df2, how='cross')"
   ]
  },
  {
   "cell_type": "code",
   "execution_count": 68,
   "id": "7d2fea5b",
   "metadata": {},
   "outputs": [
    {
     "data": {
      "text/html": [
       "<div>\n",
       "<style scoped>\n",
       "    .dataframe tbody tr th:only-of-type {\n",
       "        vertical-align: middle;\n",
       "    }\n",
       "\n",
       "    .dataframe tbody tr th {\n",
       "        vertical-align: top;\n",
       "    }\n",
       "\n",
       "    .dataframe thead th {\n",
       "        text-align: right;\n",
       "    }\n",
       "</style>\n",
       "<table border=\"1\" class=\"dataframe\">\n",
       "  <thead>\n",
       "    <tr style=\"text-align: right;\">\n",
       "      <th></th>\n",
       "      <th>x_value</th>\n",
       "      <th>y_value</th>\n",
       "    </tr>\n",
       "  </thead>\n",
       "  <tbody>\n",
       "    <tr>\n",
       "      <th>A</th>\n",
       "      <td>1</td>\n",
       "      <td>3</td>\n",
       "    </tr>\n",
       "    <tr>\n",
       "      <th>B</th>\n",
       "      <td>2</td>\n",
       "      <td>4</td>\n",
       "    </tr>\n",
       "    <tr>\n",
       "      <th>C</th>\n",
       "      <td>6</td>\n",
       "      <td>4</td>\n",
       "    </tr>\n",
       "  </tbody>\n",
       "</table>\n",
       "</div>"
      ],
      "text/plain": [
       "   x_value  y_value\n",
       "A        1        3\n",
       "B        2        4\n",
       "C        6        4"
      ]
     },
     "execution_count": 68,
     "metadata": {},
     "output_type": "execute_result"
    }
   ],
   "source": [
    "df1 = data.iloc[:3, :2]\n",
    "df1"
   ]
  },
  {
   "cell_type": "code",
   "execution_count": 69,
   "id": "b42cc0e8",
   "metadata": {},
   "outputs": [
    {
     "data": {
      "text/html": [
       "<div>\n",
       "<style scoped>\n",
       "    .dataframe tbody tr th:only-of-type {\n",
       "        vertical-align: middle;\n",
       "    }\n",
       "\n",
       "    .dataframe tbody tr th {\n",
       "        vertical-align: top;\n",
       "    }\n",
       "\n",
       "    .dataframe thead th {\n",
       "        text-align: right;\n",
       "    }\n",
       "</style>\n",
       "<table border=\"1\" class=\"dataframe\">\n",
       "  <thead>\n",
       "    <tr style=\"text-align: right;\">\n",
       "      <th></th>\n",
       "      <th>color</th>\n",
       "    </tr>\n",
       "  </thead>\n",
       "  <tbody>\n",
       "    <tr>\n",
       "      <th>C</th>\n",
       "      <td>blue</td>\n",
       "    </tr>\n",
       "    <tr>\n",
       "      <th>D</th>\n",
       "      <td>blue</td>\n",
       "    </tr>\n",
       "  </tbody>\n",
       "</table>\n",
       "</div>"
      ],
      "text/plain": [
       "  color\n",
       "C  blue\n",
       "D  blue"
      ]
     },
     "execution_count": 69,
     "metadata": {},
     "output_type": "execute_result"
    }
   ],
   "source": [
    "df2 = data[['color']][2:] \n",
    "df2"
   ]
  },
  {
   "cell_type": "code",
   "execution_count": 70,
   "id": "632c07da",
   "metadata": {},
   "outputs": [
    {
     "data": {
      "text/html": [
       "<div>\n",
       "<style scoped>\n",
       "    .dataframe tbody tr th:only-of-type {\n",
       "        vertical-align: middle;\n",
       "    }\n",
       "\n",
       "    .dataframe tbody tr th {\n",
       "        vertical-align: top;\n",
       "    }\n",
       "\n",
       "    .dataframe thead th {\n",
       "        text-align: right;\n",
       "    }\n",
       "</style>\n",
       "<table border=\"1\" class=\"dataframe\">\n",
       "  <thead>\n",
       "    <tr style=\"text-align: right;\">\n",
       "      <th></th>\n",
       "      <th>x_value</th>\n",
       "      <th>y_value</th>\n",
       "      <th>color</th>\n",
       "    </tr>\n",
       "  </thead>\n",
       "  <tbody>\n",
       "    <tr>\n",
       "      <th>A</th>\n",
       "      <td>1.0</td>\n",
       "      <td>3.0</td>\n",
       "      <td>NaN</td>\n",
       "    </tr>\n",
       "    <tr>\n",
       "      <th>B</th>\n",
       "      <td>2.0</td>\n",
       "      <td>4.0</td>\n",
       "      <td>NaN</td>\n",
       "    </tr>\n",
       "    <tr>\n",
       "      <th>C</th>\n",
       "      <td>6.0</td>\n",
       "      <td>4.0</td>\n",
       "      <td>blue</td>\n",
       "    </tr>\n",
       "    <tr>\n",
       "      <th>D</th>\n",
       "      <td>NaN</td>\n",
       "      <td>NaN</td>\n",
       "      <td>blue</td>\n",
       "    </tr>\n",
       "  </tbody>\n",
       "</table>\n",
       "</div>"
      ],
      "text/plain": [
       "   x_value  y_value color\n",
       "A      1.0      3.0   NaN\n",
       "B      2.0      4.0   NaN\n",
       "C      6.0      4.0  blue\n",
       "D      NaN      NaN  blue"
      ]
     },
     "execution_count": 70,
     "metadata": {},
     "output_type": "execute_result"
    }
   ],
   "source": [
    "df = pd.merge(df1, df2, how='outer', left_index=True, right_index=True)\n",
    "df"
   ]
  },
  {
   "cell_type": "markdown",
   "id": "1d7167df",
   "metadata": {},
   "source": [
    "**NAPOMENA**: <code>join()</code> = <code>merge(, left_index=True, right_index=True)</code>! "
   ]
  },
  {
   "cell_type": "markdown",
   "id": "385f967d",
   "metadata": {},
   "source": [
    "## Rad sa nedostajućim vrednostima"
   ]
  },
  {
   "cell_type": "code",
   "execution_count": 71,
   "id": "4425ea28",
   "metadata": {},
   "outputs": [
    {
     "data": {
      "text/html": [
       "<div>\n",
       "<style scoped>\n",
       "    .dataframe tbody tr th:only-of-type {\n",
       "        vertical-align: middle;\n",
       "    }\n",
       "\n",
       "    .dataframe tbody tr th {\n",
       "        vertical-align: top;\n",
       "    }\n",
       "\n",
       "    .dataframe thead th {\n",
       "        text-align: right;\n",
       "    }\n",
       "</style>\n",
       "<table border=\"1\" class=\"dataframe\">\n",
       "  <thead>\n",
       "    <tr style=\"text-align: right;\">\n",
       "      <th></th>\n",
       "      <th>x_value</th>\n",
       "      <th>y_value</th>\n",
       "      <th>color</th>\n",
       "      <th>d(_, (0, 0))</th>\n",
       "    </tr>\n",
       "  </thead>\n",
       "  <tbody>\n",
       "    <tr>\n",
       "      <th>A</th>\n",
       "      <td>1</td>\n",
       "      <td>3</td>\n",
       "      <td>blue</td>\n",
       "      <td>NaN</td>\n",
       "    </tr>\n",
       "    <tr>\n",
       "      <th>B</th>\n",
       "      <td>2</td>\n",
       "      <td>4</td>\n",
       "      <td>red</td>\n",
       "      <td>NaN</td>\n",
       "    </tr>\n",
       "    <tr>\n",
       "      <th>C</th>\n",
       "      <td>6</td>\n",
       "      <td>4</td>\n",
       "      <td>blue</td>\n",
       "      <td>NaN</td>\n",
       "    </tr>\n",
       "    <tr>\n",
       "      <th>D</th>\n",
       "      <td>5</td>\n",
       "      <td>7</td>\n",
       "      <td>blue</td>\n",
       "      <td>NaN</td>\n",
       "    </tr>\n",
       "  </tbody>\n",
       "</table>\n",
       "</div>"
      ],
      "text/plain": [
       "   x_value  y_value color  d(_, (0, 0))\n",
       "A        1        3  blue           NaN\n",
       "B        2        4   red           NaN\n",
       "C        6        4  blue           NaN\n",
       "D        5        7  blue           NaN"
      ]
     },
     "execution_count": 71,
     "metadata": {},
     "output_type": "execute_result"
    }
   ],
   "source": [
    "data = data.reindex(['x_value', 'y_value', 'color', 'd(_, (0, 0))'], axis=1)\n",
    "data"
   ]
  },
  {
   "cell_type": "code",
   "execution_count": 72,
   "id": "68f1acf0",
   "metadata": {},
   "outputs": [
    {
     "data": {
      "text/html": [
       "<div>\n",
       "<style scoped>\n",
       "    .dataframe tbody tr th:only-of-type {\n",
       "        vertical-align: middle;\n",
       "    }\n",
       "\n",
       "    .dataframe tbody tr th {\n",
       "        vertical-align: top;\n",
       "    }\n",
       "\n",
       "    .dataframe thead th {\n",
       "        text-align: right;\n",
       "    }\n",
       "</style>\n",
       "<table border=\"1\" class=\"dataframe\">\n",
       "  <thead>\n",
       "    <tr style=\"text-align: right;\">\n",
       "      <th></th>\n",
       "      <th>x_value</th>\n",
       "      <th>y_value</th>\n",
       "      <th>color</th>\n",
       "      <th>d(_, (0, 0))</th>\n",
       "    </tr>\n",
       "  </thead>\n",
       "  <tbody>\n",
       "    <tr>\n",
       "      <th>A</th>\n",
       "      <td>1.0</td>\n",
       "      <td>3.0</td>\n",
       "      <td>blue</td>\n",
       "      <td>NaN</td>\n",
       "    </tr>\n",
       "    <tr>\n",
       "      <th>B</th>\n",
       "      <td>2.0</td>\n",
       "      <td>4.0</td>\n",
       "      <td>red</td>\n",
       "      <td>NaN</td>\n",
       "    </tr>\n",
       "    <tr>\n",
       "      <th>C</th>\n",
       "      <td>6.0</td>\n",
       "      <td>4.0</td>\n",
       "      <td>blue</td>\n",
       "      <td>NaN</td>\n",
       "    </tr>\n",
       "    <tr>\n",
       "      <th>D</th>\n",
       "      <td>5.0</td>\n",
       "      <td>7.0</td>\n",
       "      <td>blue</td>\n",
       "      <td>NaN</td>\n",
       "    </tr>\n",
       "    <tr>\n",
       "      <th>F</th>\n",
       "      <td>NaN</td>\n",
       "      <td>NaN</td>\n",
       "      <td>NaN</td>\n",
       "      <td>NaN</td>\n",
       "    </tr>\n",
       "  </tbody>\n",
       "</table>\n",
       "</div>"
      ],
      "text/plain": [
       "   x_value  y_value color  d(_, (0, 0))\n",
       "A      1.0      3.0  blue           NaN\n",
       "B      2.0      4.0   red           NaN\n",
       "C      6.0      4.0  blue           NaN\n",
       "D      5.0      7.0  blue           NaN\n",
       "F      NaN      NaN   NaN           NaN"
      ]
     },
     "execution_count": 72,
     "metadata": {},
     "output_type": "execute_result"
    }
   ],
   "source": [
    "data_to_append = pd.DataFrame([[np.nan, np.nan, np.nan]],\n",
    "                              columns=['x_value', 'y_value', 'color'],\n",
    "                              index=['F'])\n",
    "data = pd.concat([data, data_to_append], axis=0)\n",
    "data"
   ]
  },
  {
   "cell_type": "markdown",
   "id": "bac3020d",
   "metadata": {},
   "source": [
    "Za proveru da li je vrednost nedostajuća ili ne može se koristiti funkcija `isna`."
   ]
  },
  {
   "cell_type": "code",
   "execution_count": 73,
   "id": "4cf84bcd",
   "metadata": {},
   "outputs": [
    {
     "data": {
      "text/html": [
       "<div>\n",
       "<style scoped>\n",
       "    .dataframe tbody tr th:only-of-type {\n",
       "        vertical-align: middle;\n",
       "    }\n",
       "\n",
       "    .dataframe tbody tr th {\n",
       "        vertical-align: top;\n",
       "    }\n",
       "\n",
       "    .dataframe thead th {\n",
       "        text-align: right;\n",
       "    }\n",
       "</style>\n",
       "<table border=\"1\" class=\"dataframe\">\n",
       "  <thead>\n",
       "    <tr style=\"text-align: right;\">\n",
       "      <th></th>\n",
       "      <th>x_value</th>\n",
       "      <th>y_value</th>\n",
       "      <th>color</th>\n",
       "      <th>d(_, (0, 0))</th>\n",
       "    </tr>\n",
       "  </thead>\n",
       "  <tbody>\n",
       "    <tr>\n",
       "      <th>A</th>\n",
       "      <td>False</td>\n",
       "      <td>False</td>\n",
       "      <td>False</td>\n",
       "      <td>True</td>\n",
       "    </tr>\n",
       "    <tr>\n",
       "      <th>B</th>\n",
       "      <td>False</td>\n",
       "      <td>False</td>\n",
       "      <td>False</td>\n",
       "      <td>True</td>\n",
       "    </tr>\n",
       "    <tr>\n",
       "      <th>C</th>\n",
       "      <td>False</td>\n",
       "      <td>False</td>\n",
       "      <td>False</td>\n",
       "      <td>True</td>\n",
       "    </tr>\n",
       "    <tr>\n",
       "      <th>D</th>\n",
       "      <td>False</td>\n",
       "      <td>False</td>\n",
       "      <td>False</td>\n",
       "      <td>True</td>\n",
       "    </tr>\n",
       "    <tr>\n",
       "      <th>F</th>\n",
       "      <td>True</td>\n",
       "      <td>True</td>\n",
       "      <td>True</td>\n",
       "      <td>True</td>\n",
       "    </tr>\n",
       "  </tbody>\n",
       "</table>\n",
       "</div>"
      ],
      "text/plain": [
       "   x_value  y_value  color  d(_, (0, 0))\n",
       "A    False    False  False          True\n",
       "B    False    False  False          True\n",
       "C    False    False  False          True\n",
       "D    False    False  False          True\n",
       "F     True     True   True          True"
      ]
     },
     "execution_count": 73,
     "metadata": {},
     "output_type": "execute_result"
    }
   ],
   "source": [
    "pd.isna(data)"
   ]
  },
  {
   "cell_type": "markdown",
   "id": "caa5985c",
   "metadata": {},
   "source": [
    "Važno je napomenuti da se za pronalaženje <code>NaN</code> vrednosti ne mogu koristiti operatori poređenja zato što je prema standardu <code>NaN</code> vrednost jedina vrednost za koju poređenje nejednakosti sa samom sobom vraća <code>True</code>. Za poređenje sa <code>NaN</code> vrednostima umesto operatora poređenja koriste se funkcije <code>pd.isna()</code>, <code>pd.isnull()</code>, <code>pd.notna()</code>, <code>pd.notnull</code> i <code>np.isnan()</code>."
   ]
  },
  {
   "cell_type": "code",
   "execution_count": 74,
   "id": "c56e1bd0",
   "metadata": {},
   "outputs": [
    {
     "data": {
      "text/plain": [
       "True"
      ]
     },
     "execution_count": 74,
     "metadata": {},
     "output_type": "execute_result"
    }
   ],
   "source": [
    "np.nan != np.nan"
   ]
  },
  {
   "cell_type": "code",
   "execution_count": 75,
   "id": "71ba07e1",
   "metadata": {},
   "outputs": [
    {
     "data": {
      "text/html": [
       "<div>\n",
       "<style scoped>\n",
       "    .dataframe tbody tr th:only-of-type {\n",
       "        vertical-align: middle;\n",
       "    }\n",
       "\n",
       "    .dataframe tbody tr th {\n",
       "        vertical-align: top;\n",
       "    }\n",
       "\n",
       "    .dataframe thead th {\n",
       "        text-align: right;\n",
       "    }\n",
       "</style>\n",
       "<table border=\"1\" class=\"dataframe\">\n",
       "  <thead>\n",
       "    <tr style=\"text-align: right;\">\n",
       "      <th></th>\n",
       "      <th>x_value</th>\n",
       "      <th>y_value</th>\n",
       "      <th>color</th>\n",
       "      <th>d(_, (0, 0))</th>\n",
       "    </tr>\n",
       "  </thead>\n",
       "  <tbody>\n",
       "    <tr>\n",
       "      <th>A</th>\n",
       "      <td>True</td>\n",
       "      <td>True</td>\n",
       "      <td>True</td>\n",
       "      <td>True</td>\n",
       "    </tr>\n",
       "    <tr>\n",
       "      <th>B</th>\n",
       "      <td>True</td>\n",
       "      <td>True</td>\n",
       "      <td>True</td>\n",
       "      <td>True</td>\n",
       "    </tr>\n",
       "    <tr>\n",
       "      <th>C</th>\n",
       "      <td>True</td>\n",
       "      <td>True</td>\n",
       "      <td>True</td>\n",
       "      <td>True</td>\n",
       "    </tr>\n",
       "    <tr>\n",
       "      <th>D</th>\n",
       "      <td>True</td>\n",
       "      <td>True</td>\n",
       "      <td>True</td>\n",
       "      <td>True</td>\n",
       "    </tr>\n",
       "    <tr>\n",
       "      <th>F</th>\n",
       "      <td>True</td>\n",
       "      <td>True</td>\n",
       "      <td>True</td>\n",
       "      <td>True</td>\n",
       "    </tr>\n",
       "  </tbody>\n",
       "</table>\n",
       "</div>"
      ],
      "text/plain": [
       "   x_value  y_value  color  d(_, (0, 0))\n",
       "A     True     True   True          True\n",
       "B     True     True   True          True\n",
       "C     True     True   True          True\n",
       "D     True     True   True          True\n",
       "F     True     True   True          True"
      ]
     },
     "execution_count": 75,
     "metadata": {},
     "output_type": "execute_result"
    }
   ],
   "source": [
    "data != np.nan"
   ]
  },
  {
   "cell_type": "markdown",
   "id": "1f73cf95",
   "metadata": {},
   "source": [
    "Zamena nedostajućih vrednosti konkretnim vrednostima se vrši funkcijom `fillna`. U sledećem primeru u svakoj koloni je korišćena zasebna vrednost za zamenu."
   ]
  },
  {
   "cell_type": "code",
   "execution_count": 76,
   "id": "546e80ee",
   "metadata": {},
   "outputs": [
    {
     "data": {
      "text/html": [
       "<div>\n",
       "<style scoped>\n",
       "    .dataframe tbody tr th:only-of-type {\n",
       "        vertical-align: middle;\n",
       "    }\n",
       "\n",
       "    .dataframe tbody tr th {\n",
       "        vertical-align: top;\n",
       "    }\n",
       "\n",
       "    .dataframe thead th {\n",
       "        text-align: right;\n",
       "    }\n",
       "</style>\n",
       "<table border=\"1\" class=\"dataframe\">\n",
       "  <thead>\n",
       "    <tr style=\"text-align: right;\">\n",
       "      <th></th>\n",
       "      <th>x_value</th>\n",
       "      <th>y_value</th>\n",
       "      <th>color</th>\n",
       "      <th>d(_, (0, 0))</th>\n",
       "    </tr>\n",
       "  </thead>\n",
       "  <tbody>\n",
       "    <tr>\n",
       "      <th>A</th>\n",
       "      <td>1.0</td>\n",
       "      <td>3.0</td>\n",
       "      <td>blue</td>\n",
       "      <td>0.0</td>\n",
       "    </tr>\n",
       "    <tr>\n",
       "      <th>B</th>\n",
       "      <td>2.0</td>\n",
       "      <td>4.0</td>\n",
       "      <td>red</td>\n",
       "      <td>0.0</td>\n",
       "    </tr>\n",
       "    <tr>\n",
       "      <th>C</th>\n",
       "      <td>6.0</td>\n",
       "      <td>4.0</td>\n",
       "      <td>blue</td>\n",
       "      <td>0.0</td>\n",
       "    </tr>\n",
       "    <tr>\n",
       "      <th>D</th>\n",
       "      <td>5.0</td>\n",
       "      <td>7.0</td>\n",
       "      <td>blue</td>\n",
       "      <td>0.0</td>\n",
       "    </tr>\n",
       "    <tr>\n",
       "      <th>F</th>\n",
       "      <td>0.0</td>\n",
       "      <td>0.0</td>\n",
       "      <td>black</td>\n",
       "      <td>0.0</td>\n",
       "    </tr>\n",
       "  </tbody>\n",
       "</table>\n",
       "</div>"
      ],
      "text/plain": [
       "   x_value  y_value  color  d(_, (0, 0))\n",
       "A      1.0      3.0   blue           0.0\n",
       "B      2.0      4.0    red           0.0\n",
       "C      6.0      4.0   blue           0.0\n",
       "D      5.0      7.0   blue           0.0\n",
       "F      0.0      0.0  black           0.0"
      ]
     },
     "execution_count": 76,
     "metadata": {},
     "output_type": "execute_result"
    }
   ],
   "source": [
    "data.fillna({'x_value' : 0, 'y_value' : 0, 'color' : 'black', 'd(_, (0, 0))' : 0})"
   ]
  },
  {
   "cell_type": "markdown",
   "id": "9c30b55c",
   "metadata": {},
   "source": [
    "Za brisanje vrsta tj. kolona koje sadrže nedostajuće vrednosti koristi se funkcija `dropna`."
   ]
  },
  {
   "cell_type": "code",
   "execution_count": 77,
   "id": "6673917b",
   "metadata": {},
   "outputs": [
    {
     "data": {
      "text/html": [
       "<div>\n",
       "<style scoped>\n",
       "    .dataframe tbody tr th:only-of-type {\n",
       "        vertical-align: middle;\n",
       "    }\n",
       "\n",
       "    .dataframe tbody tr th {\n",
       "        vertical-align: top;\n",
       "    }\n",
       "\n",
       "    .dataframe thead th {\n",
       "        text-align: right;\n",
       "    }\n",
       "</style>\n",
       "<table border=\"1\" class=\"dataframe\">\n",
       "  <thead>\n",
       "    <tr style=\"text-align: right;\">\n",
       "      <th></th>\n",
       "      <th>x_value</th>\n",
       "      <th>y_value</th>\n",
       "      <th>color</th>\n",
       "      <th>d(_, (0, 0))</th>\n",
       "    </tr>\n",
       "  </thead>\n",
       "  <tbody>\n",
       "    <tr>\n",
       "      <th>A</th>\n",
       "      <td>1.0</td>\n",
       "      <td>3.0</td>\n",
       "      <td>blue</td>\n",
       "      <td>NaN</td>\n",
       "    </tr>\n",
       "    <tr>\n",
       "      <th>B</th>\n",
       "      <td>2.0</td>\n",
       "      <td>4.0</td>\n",
       "      <td>red</td>\n",
       "      <td>NaN</td>\n",
       "    </tr>\n",
       "    <tr>\n",
       "      <th>C</th>\n",
       "      <td>6.0</td>\n",
       "      <td>4.0</td>\n",
       "      <td>blue</td>\n",
       "      <td>NaN</td>\n",
       "    </tr>\n",
       "    <tr>\n",
       "      <th>D</th>\n",
       "      <td>5.0</td>\n",
       "      <td>7.0</td>\n",
       "      <td>blue</td>\n",
       "      <td>NaN</td>\n",
       "    </tr>\n",
       "  </tbody>\n",
       "</table>\n",
       "</div>"
      ],
      "text/plain": [
       "   x_value  y_value color  d(_, (0, 0))\n",
       "A      1.0      3.0  blue           NaN\n",
       "B      2.0      4.0   red           NaN\n",
       "C      6.0      4.0  blue           NaN\n",
       "D      5.0      7.0  blue           NaN"
      ]
     },
     "execution_count": 77,
     "metadata": {},
     "output_type": "execute_result"
    }
   ],
   "source": [
    "data.dropna(how='all')"
   ]
  },
  {
   "cell_type": "code",
   "execution_count": 78,
   "id": "28a797a6",
   "metadata": {},
   "outputs": [
    {
     "data": {
      "text/html": [
       "<div>\n",
       "<style scoped>\n",
       "    .dataframe tbody tr th:only-of-type {\n",
       "        vertical-align: middle;\n",
       "    }\n",
       "\n",
       "    .dataframe tbody tr th {\n",
       "        vertical-align: top;\n",
       "    }\n",
       "\n",
       "    .dataframe thead th {\n",
       "        text-align: right;\n",
       "    }\n",
       "</style>\n",
       "<table border=\"1\" class=\"dataframe\">\n",
       "  <thead>\n",
       "    <tr style=\"text-align: right;\">\n",
       "      <th></th>\n",
       "      <th>x_value</th>\n",
       "      <th>y_value</th>\n",
       "      <th>color</th>\n",
       "    </tr>\n",
       "  </thead>\n",
       "  <tbody>\n",
       "    <tr>\n",
       "      <th>A</th>\n",
       "      <td>1.0</td>\n",
       "      <td>3.0</td>\n",
       "      <td>blue</td>\n",
       "    </tr>\n",
       "    <tr>\n",
       "      <th>B</th>\n",
       "      <td>2.0</td>\n",
       "      <td>4.0</td>\n",
       "      <td>red</td>\n",
       "    </tr>\n",
       "    <tr>\n",
       "      <th>C</th>\n",
       "      <td>6.0</td>\n",
       "      <td>4.0</td>\n",
       "      <td>blue</td>\n",
       "    </tr>\n",
       "    <tr>\n",
       "      <th>D</th>\n",
       "      <td>5.0</td>\n",
       "      <td>7.0</td>\n",
       "      <td>blue</td>\n",
       "    </tr>\n",
       "    <tr>\n",
       "      <th>F</th>\n",
       "      <td>NaN</td>\n",
       "      <td>NaN</td>\n",
       "      <td>NaN</td>\n",
       "    </tr>\n",
       "  </tbody>\n",
       "</table>\n",
       "</div>"
      ],
      "text/plain": [
       "   x_value  y_value color\n",
       "A      1.0      3.0  blue\n",
       "B      2.0      4.0   red\n",
       "C      6.0      4.0  blue\n",
       "D      5.0      7.0  blue\n",
       "F      NaN      NaN   NaN"
      ]
     },
     "execution_count": 78,
     "metadata": {},
     "output_type": "execute_result"
    }
   ],
   "source": [
    "data.dropna(how='all', axis=1)"
   ]
  },
  {
   "cell_type": "code",
   "execution_count": 79,
   "id": "f84b8bd2",
   "metadata": {},
   "outputs": [
    {
     "data": {
      "text/html": [
       "<div>\n",
       "<style scoped>\n",
       "    .dataframe tbody tr th:only-of-type {\n",
       "        vertical-align: middle;\n",
       "    }\n",
       "\n",
       "    .dataframe tbody tr th {\n",
       "        vertical-align: top;\n",
       "    }\n",
       "\n",
       "    .dataframe thead th {\n",
       "        text-align: right;\n",
       "    }\n",
       "</style>\n",
       "<table border=\"1\" class=\"dataframe\">\n",
       "  <thead>\n",
       "    <tr style=\"text-align: right;\">\n",
       "      <th></th>\n",
       "      <th>x_value</th>\n",
       "      <th>y_value</th>\n",
       "      <th>color</th>\n",
       "      <th>d(_, (0, 0))</th>\n",
       "    </tr>\n",
       "  </thead>\n",
       "  <tbody>\n",
       "  </tbody>\n",
       "</table>\n",
       "</div>"
      ],
      "text/plain": [
       "Empty DataFrame\n",
       "Columns: [x_value, y_value, color, d(_, (0, 0))]\n",
       "Index: []"
      ]
     },
     "execution_count": 79,
     "metadata": {},
     "output_type": "execute_result"
    }
   ],
   "source": [
    "data.dropna(how='any')"
   ]
  },
  {
   "cell_type": "markdown",
   "id": "de24addf",
   "metadata": {},
   "source": [
    "## Primena funkcija nad elementima DataFrame objekta"
   ]
  },
  {
   "cell_type": "markdown",
   "id": "4d961e69",
   "metadata": {},
   "source": [
    "###  Skalarne funkcije "
   ]
  },
  {
   "cell_type": "markdown",
   "id": "7e2b2303",
   "metadata": {},
   "source": [
    "Primenom skalarnih funkcija nad Pandas objektom dobija se novi Pandas objekat sa izvršenom odgovarajućom funkcijom po elementima, uz očuvanje indeksa u rezultujućem Pandas objektu."
   ]
  },
  {
   "cell_type": "code",
   "execution_count": 80,
   "id": "fbe0d8e2",
   "metadata": {},
   "outputs": [
    {
     "data": {
      "text/html": [
       "<div>\n",
       "<style scoped>\n",
       "    .dataframe tbody tr th:only-of-type {\n",
       "        vertical-align: middle;\n",
       "    }\n",
       "\n",
       "    .dataframe tbody tr th {\n",
       "        vertical-align: top;\n",
       "    }\n",
       "\n",
       "    .dataframe thead th {\n",
       "        text-align: right;\n",
       "    }\n",
       "</style>\n",
       "<table border=\"1\" class=\"dataframe\">\n",
       "  <thead>\n",
       "    <tr style=\"text-align: right;\">\n",
       "      <th></th>\n",
       "      <th>x_value</th>\n",
       "      <th>y_value</th>\n",
       "      <th>color</th>\n",
       "      <th>d(_, (0, 0))</th>\n",
       "    </tr>\n",
       "  </thead>\n",
       "  <tbody>\n",
       "    <tr>\n",
       "      <th>A</th>\n",
       "      <td>False</td>\n",
       "      <td>False</td>\n",
       "      <td>False</td>\n",
       "      <td>True</td>\n",
       "    </tr>\n",
       "    <tr>\n",
       "      <th>B</th>\n",
       "      <td>False</td>\n",
       "      <td>False</td>\n",
       "      <td>False</td>\n",
       "      <td>True</td>\n",
       "    </tr>\n",
       "    <tr>\n",
       "      <th>C</th>\n",
       "      <td>False</td>\n",
       "      <td>False</td>\n",
       "      <td>False</td>\n",
       "      <td>True</td>\n",
       "    </tr>\n",
       "    <tr>\n",
       "      <th>D</th>\n",
       "      <td>False</td>\n",
       "      <td>False</td>\n",
       "      <td>False</td>\n",
       "      <td>True</td>\n",
       "    </tr>\n",
       "    <tr>\n",
       "      <th>F</th>\n",
       "      <td>True</td>\n",
       "      <td>True</td>\n",
       "      <td>True</td>\n",
       "      <td>True</td>\n",
       "    </tr>\n",
       "  </tbody>\n",
       "</table>\n",
       "</div>"
      ],
      "text/plain": [
       "   x_value  y_value  color  d(_, (0, 0))\n",
       "A    False    False  False          True\n",
       "B    False    False  False          True\n",
       "C    False    False  False          True\n",
       "D    False    False  False          True\n",
       "F     True     True   True          True"
      ]
     },
     "execution_count": 80,
     "metadata": {},
     "output_type": "execute_result"
    }
   ],
   "source": [
    "pd.isna(data)"
   ]
  },
  {
   "cell_type": "code",
   "execution_count": 81,
   "id": "340cb6c1",
   "metadata": {},
   "outputs": [
    {
     "data": {
      "text/html": [
       "<div>\n",
       "<style scoped>\n",
       "    .dataframe tbody tr th:only-of-type {\n",
       "        vertical-align: middle;\n",
       "    }\n",
       "\n",
       "    .dataframe tbody tr th {\n",
       "        vertical-align: top;\n",
       "    }\n",
       "\n",
       "    .dataframe thead th {\n",
       "        text-align: right;\n",
       "    }\n",
       "</style>\n",
       "<table border=\"1\" class=\"dataframe\">\n",
       "  <thead>\n",
       "    <tr style=\"text-align: right;\">\n",
       "      <th></th>\n",
       "      <th>x_value</th>\n",
       "      <th>y_value</th>\n",
       "    </tr>\n",
       "  </thead>\n",
       "  <tbody>\n",
       "    <tr>\n",
       "      <th>A</th>\n",
       "      <td>1.0</td>\n",
       "      <td>9.0</td>\n",
       "    </tr>\n",
       "    <tr>\n",
       "      <th>B</th>\n",
       "      <td>4.0</td>\n",
       "      <td>16.0</td>\n",
       "    </tr>\n",
       "    <tr>\n",
       "      <th>C</th>\n",
       "      <td>36.0</td>\n",
       "      <td>16.0</td>\n",
       "    </tr>\n",
       "    <tr>\n",
       "      <th>D</th>\n",
       "      <td>25.0</td>\n",
       "      <td>49.0</td>\n",
       "    </tr>\n",
       "    <tr>\n",
       "      <th>F</th>\n",
       "      <td>NaN</td>\n",
       "      <td>NaN</td>\n",
       "    </tr>\n",
       "  </tbody>\n",
       "</table>\n",
       "</div>"
      ],
      "text/plain": [
       "   x_value  y_value\n",
       "A      1.0      9.0\n",
       "B      4.0     16.0\n",
       "C     36.0     16.0\n",
       "D     25.0     49.0\n",
       "F      NaN      NaN"
      ]
     },
     "execution_count": 81,
     "metadata": {},
     "output_type": "execute_result"
    }
   ],
   "source": [
    "np.power(data[['x_value', 'y_value']], 2)"
   ]
  },
  {
   "cell_type": "code",
   "execution_count": 82,
   "id": "46a20e5c",
   "metadata": {},
   "outputs": [],
   "source": [
    "def f(x):\n",
    "    return x + 5"
   ]
  },
  {
   "cell_type": "code",
   "execution_count": 83,
   "id": "6e413b4b",
   "metadata": {},
   "outputs": [
    {
     "data": {
      "text/html": [
       "<div>\n",
       "<style scoped>\n",
       "    .dataframe tbody tr th:only-of-type {\n",
       "        vertical-align: middle;\n",
       "    }\n",
       "\n",
       "    .dataframe tbody tr th {\n",
       "        vertical-align: top;\n",
       "    }\n",
       "\n",
       "    .dataframe thead th {\n",
       "        text-align: right;\n",
       "    }\n",
       "</style>\n",
       "<table border=\"1\" class=\"dataframe\">\n",
       "  <thead>\n",
       "    <tr style=\"text-align: right;\">\n",
       "      <th></th>\n",
       "      <th>x_value</th>\n",
       "      <th>y_value</th>\n",
       "    </tr>\n",
       "  </thead>\n",
       "  <tbody>\n",
       "    <tr>\n",
       "      <th>A</th>\n",
       "      <td>6.0</td>\n",
       "      <td>8.0</td>\n",
       "    </tr>\n",
       "    <tr>\n",
       "      <th>B</th>\n",
       "      <td>7.0</td>\n",
       "      <td>9.0</td>\n",
       "    </tr>\n",
       "    <tr>\n",
       "      <th>C</th>\n",
       "      <td>11.0</td>\n",
       "      <td>9.0</td>\n",
       "    </tr>\n",
       "    <tr>\n",
       "      <th>D</th>\n",
       "      <td>10.0</td>\n",
       "      <td>12.0</td>\n",
       "    </tr>\n",
       "    <tr>\n",
       "      <th>F</th>\n",
       "      <td>NaN</td>\n",
       "      <td>NaN</td>\n",
       "    </tr>\n",
       "  </tbody>\n",
       "</table>\n",
       "</div>"
      ],
      "text/plain": [
       "   x_value  y_value\n",
       "A      6.0      8.0\n",
       "B      7.0      9.0\n",
       "C     11.0      9.0\n",
       "D     10.0     12.0\n",
       "F      NaN      NaN"
      ]
     },
     "execution_count": 83,
     "metadata": {},
     "output_type": "execute_result"
    }
   ],
   "source": [
    "f(data[['x_value', 'y_value']])"
   ]
  },
  {
   "cell_type": "code",
   "execution_count": 84,
   "id": "897063d9",
   "metadata": {},
   "outputs": [
    {
     "data": {
      "text/html": [
       "<div>\n",
       "<style scoped>\n",
       "    .dataframe tbody tr th:only-of-type {\n",
       "        vertical-align: middle;\n",
       "    }\n",
       "\n",
       "    .dataframe tbody tr th {\n",
       "        vertical-align: top;\n",
       "    }\n",
       "\n",
       "    .dataframe thead th {\n",
       "        text-align: right;\n",
       "    }\n",
       "</style>\n",
       "<table border=\"1\" class=\"dataframe\">\n",
       "  <thead>\n",
       "    <tr style=\"text-align: right;\">\n",
       "      <th></th>\n",
       "      <th>x_value</th>\n",
       "      <th>y_value</th>\n",
       "    </tr>\n",
       "  </thead>\n",
       "  <tbody>\n",
       "    <tr>\n",
       "      <th>A</th>\n",
       "      <td>6.0</td>\n",
       "      <td>8.0</td>\n",
       "    </tr>\n",
       "    <tr>\n",
       "      <th>B</th>\n",
       "      <td>7.0</td>\n",
       "      <td>9.0</td>\n",
       "    </tr>\n",
       "    <tr>\n",
       "      <th>C</th>\n",
       "      <td>11.0</td>\n",
       "      <td>9.0</td>\n",
       "    </tr>\n",
       "    <tr>\n",
       "      <th>D</th>\n",
       "      <td>10.0</td>\n",
       "      <td>12.0</td>\n",
       "    </tr>\n",
       "    <tr>\n",
       "      <th>F</th>\n",
       "      <td>NaN</td>\n",
       "      <td>NaN</td>\n",
       "    </tr>\n",
       "  </tbody>\n",
       "</table>\n",
       "</div>"
      ],
      "text/plain": [
       "   x_value  y_value\n",
       "A      6.0      8.0\n",
       "B      7.0      9.0\n",
       "C     11.0      9.0\n",
       "D     10.0     12.0\n",
       "F      NaN      NaN"
      ]
     },
     "execution_count": 84,
     "metadata": {},
     "output_type": "execute_result"
    }
   ],
   "source": [
    "data[['x_value', 'y_value']].map(f)"
   ]
  },
  {
   "cell_type": "code",
   "execution_count": 85,
   "id": "576c8d84",
   "metadata": {},
   "outputs": [
    {
     "data": {
      "text/html": [
       "<div>\n",
       "<style scoped>\n",
       "    .dataframe tbody tr th:only-of-type {\n",
       "        vertical-align: middle;\n",
       "    }\n",
       "\n",
       "    .dataframe tbody tr th {\n",
       "        vertical-align: top;\n",
       "    }\n",
       "\n",
       "    .dataframe thead th {\n",
       "        text-align: right;\n",
       "    }\n",
       "</style>\n",
       "<table border=\"1\" class=\"dataframe\">\n",
       "  <thead>\n",
       "    <tr style=\"text-align: right;\">\n",
       "      <th></th>\n",
       "      <th>x_value</th>\n",
       "      <th>y_value</th>\n",
       "    </tr>\n",
       "  </thead>\n",
       "  <tbody>\n",
       "    <tr>\n",
       "      <th>A</th>\n",
       "      <td>6.0</td>\n",
       "      <td>8.0</td>\n",
       "    </tr>\n",
       "    <tr>\n",
       "      <th>B</th>\n",
       "      <td>7.0</td>\n",
       "      <td>9.0</td>\n",
       "    </tr>\n",
       "    <tr>\n",
       "      <th>C</th>\n",
       "      <td>11.0</td>\n",
       "      <td>9.0</td>\n",
       "    </tr>\n",
       "    <tr>\n",
       "      <th>D</th>\n",
       "      <td>10.0</td>\n",
       "      <td>12.0</td>\n",
       "    </tr>\n",
       "    <tr>\n",
       "      <th>F</th>\n",
       "      <td>NaN</td>\n",
       "      <td>NaN</td>\n",
       "    </tr>\n",
       "  </tbody>\n",
       "</table>\n",
       "</div>"
      ],
      "text/plain": [
       "   x_value  y_value\n",
       "A      6.0      8.0\n",
       "B      7.0      9.0\n",
       "C     11.0      9.0\n",
       "D     10.0     12.0\n",
       "F      NaN      NaN"
      ]
     },
     "execution_count": 85,
     "metadata": {},
     "output_type": "execute_result"
    }
   ],
   "source": [
    "data[['x_value', 'y_value']].map(lambda x : x + 5)"
   ]
  },
  {
   "cell_type": "markdown",
   "id": "2d433b35",
   "metadata": {},
   "source": [
    "### Redukcione funkcije"
   ]
  },
  {
   "cell_type": "markdown",
   "id": "6e6748e9",
   "metadata": {},
   "source": [
    "Primenom redukcionih funkcija nad Pandas objektom dobija se objekat manje dimenzije sa vrednostima odgovarajuće redukcione funkcije izvršene po jednoj dimenziji (vrstama ili kolonama)."
   ]
  },
  {
   "cell_type": "code",
   "execution_count": 86,
   "id": "15d17366",
   "metadata": {},
   "outputs": [
    {
     "data": {
      "text/plain": [
       "6.0"
      ]
     },
     "execution_count": 86,
     "metadata": {},
     "output_type": "execute_result"
    }
   ],
   "source": [
    "np.max(data.x_value)"
   ]
  },
  {
   "cell_type": "code",
   "execution_count": 87,
   "id": "5e551df0",
   "metadata": {},
   "outputs": [
    {
     "data": {
      "text/plain": [
       "A    3.0\n",
       "B    4.0\n",
       "C    6.0\n",
       "D    7.0\n",
       "F    NaN\n",
       "dtype: float64"
      ]
     },
     "execution_count": 87,
     "metadata": {},
     "output_type": "execute_result"
    }
   ],
   "source": [
    "np.max(data[['x_value', 'y_value', 'd(_, (0, 0))']], axis=1)"
   ]
  },
  {
   "cell_type": "code",
   "execution_count": 88,
   "id": "7b41edc8",
   "metadata": {},
   "outputs": [
    {
     "data": {
      "text/plain": [
       "7.0"
      ]
     },
     "execution_count": 88,
     "metadata": {},
     "output_type": "execute_result"
    }
   ],
   "source": [
    "np.max(data[['x_value', 'y_value', 'd(_, (0, 0))']])"
   ]
  },
  {
   "cell_type": "code",
   "execution_count": 89,
   "id": "6362e9b0",
   "metadata": {},
   "outputs": [],
   "source": [
    "def f(row):\n",
    "    return np.sqrt(row.x_value**2 + row.y_value**2)"
   ]
  },
  {
   "cell_type": "code",
   "execution_count": 90,
   "id": "3bd27d32",
   "metadata": {},
   "outputs": [
    {
     "data": {
      "text/plain": [
       "A    3.162278\n",
       "B    4.472136\n",
       "C    7.211103\n",
       "D    8.602325\n",
       "F         NaN\n",
       "dtype: float64"
      ]
     },
     "execution_count": 90,
     "metadata": {},
     "output_type": "execute_result"
    }
   ],
   "source": [
    "f(data)"
   ]
  },
  {
   "cell_type": "code",
   "execution_count": 91,
   "id": "3b6b2c58",
   "metadata": {},
   "outputs": [
    {
     "data": {
      "text/plain": [
       "A    3.162278\n",
       "B    4.472136\n",
       "C    7.211103\n",
       "D    8.602325\n",
       "F         NaN\n",
       "dtype: float64"
      ]
     },
     "execution_count": 91,
     "metadata": {},
     "output_type": "execute_result"
    }
   ],
   "source": [
    "data.apply(f, axis=1)"
   ]
  },
  {
   "cell_type": "code",
   "execution_count": 92,
   "id": "fb7eca61",
   "metadata": {},
   "outputs": [
    {
     "data": {
      "text/html": [
       "<div>\n",
       "<style scoped>\n",
       "    .dataframe tbody tr th:only-of-type {\n",
       "        vertical-align: middle;\n",
       "    }\n",
       "\n",
       "    .dataframe tbody tr th {\n",
       "        vertical-align: top;\n",
       "    }\n",
       "\n",
       "    .dataframe thead th {\n",
       "        text-align: right;\n",
       "    }\n",
       "</style>\n",
       "<table border=\"1\" class=\"dataframe\">\n",
       "  <thead>\n",
       "    <tr style=\"text-align: right;\">\n",
       "      <th></th>\n",
       "      <th>x_value</th>\n",
       "      <th>y_value</th>\n",
       "      <th>color</th>\n",
       "      <th>d(_, (0, 0))</th>\n",
       "    </tr>\n",
       "  </thead>\n",
       "  <tbody>\n",
       "    <tr>\n",
       "      <th>A</th>\n",
       "      <td>1.0</td>\n",
       "      <td>3.0</td>\n",
       "      <td>blue</td>\n",
       "      <td>3.162278</td>\n",
       "    </tr>\n",
       "    <tr>\n",
       "      <th>B</th>\n",
       "      <td>2.0</td>\n",
       "      <td>4.0</td>\n",
       "      <td>red</td>\n",
       "      <td>4.472136</td>\n",
       "    </tr>\n",
       "    <tr>\n",
       "      <th>C</th>\n",
       "      <td>6.0</td>\n",
       "      <td>4.0</td>\n",
       "      <td>blue</td>\n",
       "      <td>7.211103</td>\n",
       "    </tr>\n",
       "    <tr>\n",
       "      <th>D</th>\n",
       "      <td>5.0</td>\n",
       "      <td>7.0</td>\n",
       "      <td>blue</td>\n",
       "      <td>8.602325</td>\n",
       "    </tr>\n",
       "    <tr>\n",
       "      <th>F</th>\n",
       "      <td>NaN</td>\n",
       "      <td>NaN</td>\n",
       "      <td>NaN</td>\n",
       "      <td>NaN</td>\n",
       "    </tr>\n",
       "  </tbody>\n",
       "</table>\n",
       "</div>"
      ],
      "text/plain": [
       "   x_value  y_value color  d(_, (0, 0))\n",
       "A      1.0      3.0  blue      3.162278\n",
       "B      2.0      4.0   red      4.472136\n",
       "C      6.0      4.0  blue      7.211103\n",
       "D      5.0      7.0  blue      8.602325\n",
       "F      NaN      NaN   NaN           NaN"
      ]
     },
     "execution_count": 92,
     "metadata": {},
     "output_type": "execute_result"
    }
   ],
   "source": [
    "data['d(_, (0, 0))'] = data.apply(\n",
    "    lambda row: np.sqrt(row.x_value**2 + row.y_value**2), axis=1)\n",
    "data"
   ]
  },
  {
   "cell_type": "markdown",
   "id": "e2cbc82a",
   "metadata": {},
   "source": [
    "#### Agregatne funkcije"
   ]
  },
  {
   "cell_type": "markdown",
   "id": "a245cb3e",
   "metadata": {},
   "source": [
    "Agregatne funkcije su vrsta redukcionih funkcija koje se koriste za agregaciju (ukrupnjavanje, sumarizaciju) informacija iz podataka. Agregatne fukcije se primenjuju nad grupama podataka (celim kolonama ili podgrupama kolona) i vraćaju jednu vrednost za svaku od grupa podataka. Za neke od najčešće korišćenih agregacionih funkcija (npr. minimum, maksimum, prosek, medijana,...) definisani su odgovarajući metodi u Pandas biblioteci."
   ]
  },
  {
   "cell_type": "code",
   "execution_count": 93,
   "id": "712bb93e",
   "metadata": {},
   "outputs": [
    {
     "data": {
      "text/plain": [
       "x_value         6.000000\n",
       "y_value         7.000000\n",
       "d(_, (0, 0))    8.602325\n",
       "dtype: float64"
      ]
     },
     "execution_count": 93,
     "metadata": {},
     "output_type": "execute_result"
    }
   ],
   "source": [
    "data[['x_value', 'y_value', 'd(_, (0, 0))']].max()"
   ]
  },
  {
   "cell_type": "code",
   "execution_count": 94,
   "id": "33a88e01",
   "metadata": {},
   "outputs": [
    {
     "data": {
      "text/plain": [
       "3.5"
      ]
     },
     "execution_count": 94,
     "metadata": {},
     "output_type": "execute_result"
    }
   ],
   "source": [
    "data['x_value'].mean()"
   ]
  },
  {
   "cell_type": "code",
   "execution_count": 95,
   "id": "f1490871",
   "metadata": {},
   "outputs": [
    {
     "data": {
      "text/plain": [
       "23.447841433138564"
      ]
     },
     "execution_count": 95,
     "metadata": {},
     "output_type": "execute_result"
    }
   ],
   "source": [
    "data['d(_, (0, 0))'].sum()"
   ]
  },
  {
   "cell_type": "code",
   "execution_count": 96,
   "id": "813d095d",
   "metadata": {},
   "outputs": [
    {
     "data": {
      "text/plain": [
       "A    2.387426\n",
       "B    3.490712\n",
       "C    5.737034\n",
       "D    6.867442\n",
       "F         NaN\n",
       "dtype: float64"
      ]
     },
     "execution_count": 96,
     "metadata": {},
     "output_type": "execute_result"
    }
   ],
   "source": [
    "data[['x_value', 'y_value', 'd(_, (0, 0))']].mean(axis=1)"
   ]
  },
  {
   "cell_type": "markdown",
   "id": "d6f4545d",
   "metadata": {},
   "source": [
    "## Grupisanje "
   ]
  },
  {
   "cell_type": "markdown",
   "id": "d9a63bd0",
   "metadata": {},
   "source": [
    "Prilikom analiziranja podataka često se ispostavi da postoje određene grupe pa je potrebno izračunati sumarne statistike za svaku od tih grupa pojedinačno."
   ]
  },
  {
   "cell_type": "markdown",
   "id": "b35fb144",
   "metadata": {},
   "source": [
    "U našem primeru DataFrame sadrži kolonu <code>'color'</code> koja ima dve moguće vrednosti - <code>'blue'</code> i <code>'red'</code>. Pretpostavimo da želimo da izračunamo prosečne vrednosti po ostalim kolonama za svaku od grupa sa istom vrednošću kolone <code>'color'</code>. To možemo uraditi pomoću <code>for</code> petlje na sledeći način:"
   ]
  },
  {
   "cell_type": "code",
   "execution_count": 97,
   "id": "923ad5c8",
   "metadata": {},
   "outputs": [
    {
     "name": "stdout",
     "output_type": "stream",
     "text": [
      "blue\n",
      "\t x_value 4.0\n",
      "\t y_value 4.666666666666667\n",
      "\t d(_, (0, 0)) 6.325235159379662\n",
      "red\n",
      "\t x_value 2.0\n",
      "\t y_value 4.0\n",
      "\t d(_, (0, 0)) 4.47213595499958\n"
     ]
    }
   ],
   "source": [
    "for color in ['blue', 'red']:\n",
    "    print(color)\n",
    "    for column in data.columns:\n",
    "        if column != 'color':\n",
    "            print('\\t', column, data[data['color'] == color][column].mean())"
   ]
  },
  {
   "cell_type": "markdown",
   "id": "756dede5",
   "metadata": {},
   "source": [
    "Poželjno bi bilo da ne moramo eksplicitno da iteriramo kroz grupe, a samim tim ni da razmišljamo o tome koje su sve to moguće vrednosti tih podataka.\n",
    "\n",
    "Metod <code>groupby()</code> omogućava primenu iste funkcije na podskupovima podataka koji su dobijeni na osnovu nekog parametra za grupisanje podataka. Ova operacija  se još naziva **split-apply-combine** operacija zato što se sastoji iz sledećih koraka:\n",
    "\n",
    "- **split** - razdvajanje podataka u grupe na osnovu nekog kriterijuma\n",
    "- **apply** - primena neke funkcije nad grupama (najšešće neke agregatne funkcije)\n",
    "- **combine** - objedinjavanje dobijenih rezultata u novi DataFrame objekat"
   ]
  },
  {
   "cell_type": "code",
   "execution_count": 98,
   "id": "292df418",
   "metadata": {},
   "outputs": [
    {
     "data": {
      "text/plain": [
       "<pandas.core.groupby.generic.DataFrameGroupBy object at 0x7f7ddea7a4d0>"
      ]
     },
     "execution_count": 98,
     "metadata": {},
     "output_type": "execute_result"
    }
   ],
   "source": [
    "data.groupby('color')"
   ]
  },
  {
   "cell_type": "markdown",
   "id": "40b8ea28",
   "metadata": {},
   "source": [
    "Povratna vrednost <code>groupby</code> metoda je <code>DataFrameGroupBy</code> objekat koji sadrži informacije o grupama."
   ]
  },
  {
   "cell_type": "code",
   "execution_count": 99,
   "id": "b801de2b",
   "metadata": {},
   "outputs": [
    {
     "data": {
      "text/html": [
       "<div>\n",
       "<style scoped>\n",
       "    .dataframe tbody tr th:only-of-type {\n",
       "        vertical-align: middle;\n",
       "    }\n",
       "\n",
       "    .dataframe tbody tr th {\n",
       "        vertical-align: top;\n",
       "    }\n",
       "\n",
       "    .dataframe thead th {\n",
       "        text-align: right;\n",
       "    }\n",
       "</style>\n",
       "<table border=\"1\" class=\"dataframe\">\n",
       "  <thead>\n",
       "    <tr style=\"text-align: right;\">\n",
       "      <th></th>\n",
       "      <th>x_value</th>\n",
       "      <th>y_value</th>\n",
       "      <th>d(_, (0, 0))</th>\n",
       "    </tr>\n",
       "    <tr>\n",
       "      <th>color</th>\n",
       "      <th></th>\n",
       "      <th></th>\n",
       "      <th></th>\n",
       "    </tr>\n",
       "  </thead>\n",
       "  <tbody>\n",
       "    <tr>\n",
       "      <th>blue</th>\n",
       "      <td>4.0</td>\n",
       "      <td>4.666667</td>\n",
       "      <td>6.325235</td>\n",
       "    </tr>\n",
       "    <tr>\n",
       "      <th>red</th>\n",
       "      <td>2.0</td>\n",
       "      <td>4.000000</td>\n",
       "      <td>4.472136</td>\n",
       "    </tr>\n",
       "  </tbody>\n",
       "</table>\n",
       "</div>"
      ],
      "text/plain": [
       "       x_value   y_value  d(_, (0, 0))\n",
       "color                                 \n",
       "blue       4.0  4.666667      6.325235\n",
       "red        2.0  4.000000      4.472136"
      ]
     },
     "execution_count": 99,
     "metadata": {},
     "output_type": "execute_result"
    }
   ],
   "source": [
    "# I nacin\n",
    "data.groupby('color').mean()"
   ]
  },
  {
   "cell_type": "code",
   "execution_count": 100,
   "id": "c2f6209b",
   "metadata": {},
   "outputs": [
    {
     "data": {
      "text/html": [
       "<div>\n",
       "<style scoped>\n",
       "    .dataframe tbody tr th:only-of-type {\n",
       "        vertical-align: middle;\n",
       "    }\n",
       "\n",
       "    .dataframe tbody tr th {\n",
       "        vertical-align: top;\n",
       "    }\n",
       "\n",
       "    .dataframe thead th {\n",
       "        text-align: right;\n",
       "    }\n",
       "</style>\n",
       "<table border=\"1\" class=\"dataframe\">\n",
       "  <thead>\n",
       "    <tr style=\"text-align: right;\">\n",
       "      <th></th>\n",
       "      <th>x_value</th>\n",
       "      <th>y_value</th>\n",
       "      <th>d(_, (0, 0))</th>\n",
       "    </tr>\n",
       "    <tr>\n",
       "      <th>color</th>\n",
       "      <th></th>\n",
       "      <th></th>\n",
       "      <th></th>\n",
       "    </tr>\n",
       "  </thead>\n",
       "  <tbody>\n",
       "    <tr>\n",
       "      <th>blue</th>\n",
       "      <td>4.0</td>\n",
       "      <td>4.666667</td>\n",
       "      <td>6.325235</td>\n",
       "    </tr>\n",
       "    <tr>\n",
       "      <th>red</th>\n",
       "      <td>2.0</td>\n",
       "      <td>4.000000</td>\n",
       "      <td>4.472136</td>\n",
       "    </tr>\n",
       "  </tbody>\n",
       "</table>\n",
       "</div>"
      ],
      "text/plain": [
       "       x_value   y_value  d(_, (0, 0))\n",
       "color                                 \n",
       "blue       4.0  4.666667      6.325235\n",
       "red        2.0  4.000000      4.472136"
      ]
     },
     "execution_count": 100,
     "metadata": {},
     "output_type": "execute_result"
    }
   ],
   "source": [
    "# II nacin\n",
    "data.groupby('color').aggregate(\"mean\")"
   ]
  },
  {
   "cell_type": "markdown",
   "id": "147aa238",
   "metadata": {},
   "source": [
    "Metod <code>aggregate()</code> omogućava da se kao funkcija za agregiranje podataka na grupama, osim ugrađenih, mogu proslediti i korisnički definisane funkcije. Metodi <code>aggregate()</code> se može proslediti i više agregatnih funkcija odjednom u okviru liste."
   ]
  },
  {
   "cell_type": "code",
   "execution_count": 101,
   "id": "4531ae48",
   "metadata": {},
   "outputs": [
    {
     "data": {
      "text/html": [
       "<div>\n",
       "<style scoped>\n",
       "    .dataframe tbody tr th:only-of-type {\n",
       "        vertical-align: middle;\n",
       "    }\n",
       "\n",
       "    .dataframe tbody tr th {\n",
       "        vertical-align: top;\n",
       "    }\n",
       "\n",
       "    .dataframe thead th {\n",
       "        text-align: right;\n",
       "    }\n",
       "</style>\n",
       "<table border=\"1\" class=\"dataframe\">\n",
       "  <thead>\n",
       "    <tr style=\"text-align: right;\">\n",
       "      <th></th>\n",
       "      <th>x_value</th>\n",
       "      <th>y_value</th>\n",
       "      <th>d(_, (0, 0))</th>\n",
       "    </tr>\n",
       "    <tr>\n",
       "      <th>color</th>\n",
       "      <th></th>\n",
       "      <th></th>\n",
       "      <th></th>\n",
       "    </tr>\n",
       "  </thead>\n",
       "  <tbody>\n",
       "    <tr>\n",
       "      <th>blue</th>\n",
       "      <td>4.0</td>\n",
       "      <td>4.666667</td>\n",
       "      <td>6.325235</td>\n",
       "    </tr>\n",
       "    <tr>\n",
       "      <th>red</th>\n",
       "      <td>2.0</td>\n",
       "      <td>4.000000</td>\n",
       "      <td>4.472136</td>\n",
       "    </tr>\n",
       "  </tbody>\n",
       "</table>\n",
       "</div>"
      ],
      "text/plain": [
       "       x_value   y_value  d(_, (0, 0))\n",
       "color                                 \n",
       "blue       4.0  4.666667      6.325235\n",
       "red        2.0  4.000000      4.472136"
      ]
     },
     "execution_count": 101,
     "metadata": {},
     "output_type": "execute_result"
    }
   ],
   "source": [
    "data.groupby('color').aggregate(lambda x : x.sum() / len(x))"
   ]
  },
  {
   "cell_type": "code",
   "execution_count": 102,
   "id": "72eee765",
   "metadata": {},
   "outputs": [
    {
     "data": {
      "text/html": [
       "<div>\n",
       "<style scoped>\n",
       "    .dataframe tbody tr th:only-of-type {\n",
       "        vertical-align: middle;\n",
       "    }\n",
       "\n",
       "    .dataframe tbody tr th {\n",
       "        vertical-align: top;\n",
       "    }\n",
       "\n",
       "    .dataframe thead tr th {\n",
       "        text-align: left;\n",
       "    }\n",
       "\n",
       "    .dataframe thead tr:last-of-type th {\n",
       "        text-align: right;\n",
       "    }\n",
       "</style>\n",
       "<table border=\"1\" class=\"dataframe\">\n",
       "  <thead>\n",
       "    <tr>\n",
       "      <th></th>\n",
       "      <th colspan=\"2\" halign=\"left\">x_value</th>\n",
       "      <th colspan=\"2\" halign=\"left\">y_value</th>\n",
       "      <th colspan=\"2\" halign=\"left\">d(_, (0, 0))</th>\n",
       "    </tr>\n",
       "    <tr>\n",
       "      <th></th>\n",
       "      <th>mean</th>\n",
       "      <th>median</th>\n",
       "      <th>mean</th>\n",
       "      <th>median</th>\n",
       "      <th>mean</th>\n",
       "      <th>median</th>\n",
       "    </tr>\n",
       "    <tr>\n",
       "      <th>color</th>\n",
       "      <th></th>\n",
       "      <th></th>\n",
       "      <th></th>\n",
       "      <th></th>\n",
       "      <th></th>\n",
       "      <th></th>\n",
       "    </tr>\n",
       "  </thead>\n",
       "  <tbody>\n",
       "    <tr>\n",
       "      <th>blue</th>\n",
       "      <td>4.0</td>\n",
       "      <td>5.0</td>\n",
       "      <td>4.666667</td>\n",
       "      <td>4.0</td>\n",
       "      <td>6.325235</td>\n",
       "      <td>7.211103</td>\n",
       "    </tr>\n",
       "    <tr>\n",
       "      <th>red</th>\n",
       "      <td>2.0</td>\n",
       "      <td>2.0</td>\n",
       "      <td>4.000000</td>\n",
       "      <td>4.0</td>\n",
       "      <td>4.472136</td>\n",
       "      <td>4.472136</td>\n",
       "    </tr>\n",
       "  </tbody>\n",
       "</table>\n",
       "</div>"
      ],
      "text/plain": [
       "      x_value          y_value        d(_, (0, 0))          \n",
       "         mean median      mean median         mean    median\n",
       "color                                                       \n",
       "blue      4.0    5.0  4.666667    4.0     6.325235  7.211103\n",
       "red       2.0    2.0  4.000000    4.0     4.472136  4.472136"
      ]
     },
     "execution_count": 102,
     "metadata": {},
     "output_type": "execute_result"
    }
   ],
   "source": [
    "data.groupby('color').aggregate([\"mean\", \"median\"])"
   ]
  },
  {
   "cell_type": "code",
   "execution_count": 103,
   "id": "2aa1dabc",
   "metadata": {},
   "outputs": [],
   "source": [
    "tmp = data.groupby('color').aggregate([\"mean\", \"median\"])"
   ]
  },
  {
   "cell_type": "code",
   "execution_count": 104,
   "id": "62e2fba7",
   "metadata": {},
   "outputs": [
    {
     "data": {
      "text/plain": [
       "MultiIndex([(     'x_value',   'mean'),\n",
       "            (     'x_value', 'median'),\n",
       "            (     'y_value',   'mean'),\n",
       "            (     'y_value', 'median'),\n",
       "            ('d(_, (0, 0))',   'mean'),\n",
       "            ('d(_, (0, 0))', 'median')],\n",
       "           )"
      ]
     },
     "execution_count": 104,
     "metadata": {},
     "output_type": "execute_result"
    }
   ],
   "source": [
    "tmp.columns"
   ]
  },
  {
   "cell_type": "markdown",
   "id": "05ce19a3",
   "metadata": {},
   "source": [
    "## Vizuelizacija podataka iz DataFrame objekta"
   ]
  },
  {
   "cell_type": "markdown",
   "id": "9f909a41",
   "metadata": {},
   "source": [
    "Pre nego li upoznamo podršku za vizuelizaciju, obrisaćemo poslednji red strukture `data` koji sadrži nedostajuće vrednosti."
   ]
  },
  {
   "cell_type": "code",
   "execution_count": 105,
   "id": "cf4055f9",
   "metadata": {},
   "outputs": [],
   "source": [
    "data.dropna(axis=0, how='any', inplace=True)"
   ]
  },
  {
   "cell_type": "code",
   "execution_count": 106,
   "id": "af398810",
   "metadata": {},
   "outputs": [
    {
     "data": {
      "text/html": [
       "<div>\n",
       "<style scoped>\n",
       "    .dataframe tbody tr th:only-of-type {\n",
       "        vertical-align: middle;\n",
       "    }\n",
       "\n",
       "    .dataframe tbody tr th {\n",
       "        vertical-align: top;\n",
       "    }\n",
       "\n",
       "    .dataframe thead th {\n",
       "        text-align: right;\n",
       "    }\n",
       "</style>\n",
       "<table border=\"1\" class=\"dataframe\">\n",
       "  <thead>\n",
       "    <tr style=\"text-align: right;\">\n",
       "      <th></th>\n",
       "      <th>x_value</th>\n",
       "      <th>y_value</th>\n",
       "      <th>color</th>\n",
       "      <th>d(_, (0, 0))</th>\n",
       "    </tr>\n",
       "  </thead>\n",
       "  <tbody>\n",
       "    <tr>\n",
       "      <th>A</th>\n",
       "      <td>1.0</td>\n",
       "      <td>3.0</td>\n",
       "      <td>blue</td>\n",
       "      <td>3.162278</td>\n",
       "    </tr>\n",
       "    <tr>\n",
       "      <th>B</th>\n",
       "      <td>2.0</td>\n",
       "      <td>4.0</td>\n",
       "      <td>red</td>\n",
       "      <td>4.472136</td>\n",
       "    </tr>\n",
       "    <tr>\n",
       "      <th>C</th>\n",
       "      <td>6.0</td>\n",
       "      <td>4.0</td>\n",
       "      <td>blue</td>\n",
       "      <td>7.211103</td>\n",
       "    </tr>\n",
       "    <tr>\n",
       "      <th>D</th>\n",
       "      <td>5.0</td>\n",
       "      <td>7.0</td>\n",
       "      <td>blue</td>\n",
       "      <td>8.602325</td>\n",
       "    </tr>\n",
       "  </tbody>\n",
       "</table>\n",
       "</div>"
      ],
      "text/plain": [
       "   x_value  y_value color  d(_, (0, 0))\n",
       "A      1.0      3.0  blue      3.162278\n",
       "B      2.0      4.0   red      4.472136\n",
       "C      6.0      4.0  blue      7.211103\n",
       "D      5.0      7.0  blue      8.602325"
      ]
     },
     "execution_count": 106,
     "metadata": {},
     "output_type": "execute_result"
    }
   ],
   "source": [
    "data"
   ]
  },
  {
   "cell_type": "markdown",
   "id": "2abb7a32",
   "metadata": {},
   "source": [
    "Ako se koristi tačkasti grafikon, parametri `x` i `y` predstavljaju koordinate tačaka koje se iscrtavaju, parametar `c` boju ili niz boja, a parametar `s` veličinu tačkica."
   ]
  },
  {
   "cell_type": "code",
   "execution_count": 107,
   "id": "7ee9dd9d",
   "metadata": {},
   "outputs": [
    {
     "data": {
      "text/plain": [
       "<Axes: xlabel='x_value', ylabel='y_value'>"
      ]
     },
     "execution_count": 107,
     "metadata": {},
     "output_type": "execute_result"
    },
    {
     "data": {
      "image/png": "[encoded data removed]",
      "text/plain": [
       "<Figure size 640x480 with 1 Axes>"
      ]
     },
     "metadata": {},
     "output_type": "display_data"
    }
   ],
   "source": [
    "data.plot.scatter(x='x_value', y='y_value', c='color', s=50)"
   ]
  },
  {
   "cell_type": "markdown",
   "id": "51db4069",
   "metadata": {},
   "source": [
    "Tip grafikona za iscrtavanje može se zadati i eksplicitno parametrom `kind`."
   ]
  },
  {
   "cell_type": "code",
   "execution_count": 108,
   "id": "70c77c55",
   "metadata": {},
   "outputs": [
    {
     "data": {
      "text/plain": [
       "<Axes: xlabel='x_value', ylabel='y_value'>"
      ]
     },
     "execution_count": 108,
     "metadata": {},
     "output_type": "execute_result"
    },
    {
     "data": {
      "image/png": "[encoded data removed]",
      "text/plain": [
       "<Figure size 640x480 with 1 Axes>"
      ]
     },
     "metadata": {},
     "output_type": "display_data"
    }
   ],
   "source": [
    "#II nacin\n",
    "data.plot(kind='scatter', x='x_value', y='y_value', c='color', s=50)"
   ]
  },
  {
   "cell_type": "code",
   "execution_count": null,
   "id": "071dd2d1",
   "metadata": {},
   "outputs": [],
   "source": []
  },
  {
   "cell_type": "markdown",
   "id": "0530415c",
   "metadata": {},
   "source": [
    "Prikažimo sada odnos tačaka sa različitim bojama."
   ]
  },
  {
   "cell_type": "code",
   "execution_count": 109,
   "id": "cd445b34",
   "metadata": {},
   "outputs": [
    {
     "data": {
      "text/html": [
       "<div>\n",
       "<style scoped>\n",
       "    .dataframe tbody tr th:only-of-type {\n",
       "        vertical-align: middle;\n",
       "    }\n",
       "\n",
       "    .dataframe tbody tr th {\n",
       "        vertical-align: top;\n",
       "    }\n",
       "\n",
       "    .dataframe thead th {\n",
       "        text-align: right;\n",
       "    }\n",
       "</style>\n",
       "<table border=\"1\" class=\"dataframe\">\n",
       "  <thead>\n",
       "    <tr style=\"text-align: right;\">\n",
       "      <th></th>\n",
       "      <th>x_value</th>\n",
       "      <th>y_value</th>\n",
       "      <th>d(_, (0, 0))</th>\n",
       "    </tr>\n",
       "    <tr>\n",
       "      <th>color</th>\n",
       "      <th></th>\n",
       "      <th></th>\n",
       "      <th></th>\n",
       "    </tr>\n",
       "  </thead>\n",
       "  <tbody>\n",
       "    <tr>\n",
       "      <th>blue</th>\n",
       "      <td>3</td>\n",
       "      <td>3</td>\n",
       "      <td>3</td>\n",
       "    </tr>\n",
       "    <tr>\n",
       "      <th>red</th>\n",
       "      <td>1</td>\n",
       "      <td>1</td>\n",
       "      <td>1</td>\n",
       "    </tr>\n",
       "  </tbody>\n",
       "</table>\n",
       "</div>"
      ],
      "text/plain": [
       "       x_value  y_value  d(_, (0, 0))\n",
       "color                                \n",
       "blue         3        3             3\n",
       "red          1        1             1"
      ]
     },
     "execution_count": 109,
     "metadata": {},
     "output_type": "execute_result"
    }
   ],
   "source": [
    "# I nacin\n",
    "data.groupby('color').count()"
   ]
  },
  {
   "cell_type": "code",
   "execution_count": 110,
   "id": "421b04a6",
   "metadata": {},
   "outputs": [
    {
     "data": {
      "text/plain": [
       "color\n",
       "blue    3\n",
       "red     1\n",
       "Name: count, dtype: int64"
      ]
     },
     "execution_count": 110,
     "metadata": {},
     "output_type": "execute_result"
    }
   ],
   "source": [
    "# II nacin\n",
    "data['color'].value_counts()"
   ]
  },
  {
   "cell_type": "markdown",
   "id": "45cdfda0",
   "metadata": {},
   "source": [
    "Metod <code>value_counts()</code> broji koliko puta se svaka od različitih vrednosti pojavljuje u DataFrame ili Series objektu, stoga je veoma zgodan za izračunavanje raspodele kategoričkih atributa."
   ]
  },
  {
   "cell_type": "code",
   "execution_count": null,
   "id": "ac8d42a8",
   "metadata": {},
   "outputs": [],
   "source": []
  },
  {
   "cell_type": "code",
   "execution_count": 111,
   "id": "8877f905",
   "metadata": {},
   "outputs": [
    {
     "data": {
      "text/plain": [
       "<Axes: ylabel='color'>"
      ]
     },
     "execution_count": 111,
     "metadata": {},
     "output_type": "execute_result"
    },
    {
     "data": {
      "image/png": "[encoded data removed]",
      "text/plain": [
       "<Figure size 640x480 with 1 Axes>"
      ]
     },
     "metadata": {},
     "output_type": "display_data"
    }
   ],
   "source": [
    "data['color'].value_counts().plot.barh(color='orange')"
   ]
  },
  {
   "cell_type": "code",
   "execution_count": null,
   "id": "fbad8f07",
   "metadata": {},
   "outputs": [],
   "source": []
  },
  {
   "cell_type": "markdown",
   "id": "d35e8c5a",
   "metadata": {},
   "source": [
    "Odnos broja tačaka je moguće prikazati i grafikonom u obliku pitice."
   ]
  },
  {
   "cell_type": "code",
   "execution_count": 112,
   "id": "7d59309e",
   "metadata": {},
   "outputs": [
    {
     "data": {
      "text/plain": [
       "<Axes: ylabel='count'>"
      ]
     },
     "execution_count": 112,
     "metadata": {},
     "output_type": "execute_result"
    },
    {
     "data": {
      "image/png": "[encoded data removed]",
      "text/plain": [
       "<Figure size 640x480 with 1 Axes>"
      ]
     },
     "metadata": {},
     "output_type": "display_data"
    }
   ],
   "source": [
    "data['color'].value_counts().plot.pie(y='x_value', colors=['blue', 'red'], autopct='%1.1f%%')"
   ]
  },
  {
   "cell_type": "code",
   "execution_count": 113,
   "id": "e0f86a60",
   "metadata": {},
   "outputs": [
    {
     "data": {
      "text/plain": [
       "<Axes: ylabel='count'>"
      ]
     },
     "execution_count": 113,
     "metadata": {},
     "output_type": "execute_result"
    },
    {
     "data": {
      "image/png": "[encoded data removed]",
      "text/plain": [
       "<Figure size 640x480 with 1 Axes>"
      ]
     },
     "metadata": {},
     "output_type": "display_data"
    }
   ],
   "source": [
    "#II nacin\n",
    "data['color'].value_counts().plot(kind='pie', y='x_value', colors=['blue', 'red'], autopct='%1.1f%%')"
   ]
  },
  {
   "cell_type": "markdown",
   "id": "c59d581a",
   "metadata": {},
   "source": [
    "Naravno, moguće je kombinovati iscrtavanja koja nudi biblioteka `matplotlib` i sadržaje Pandas struktura. Sledeći primer to ilustruje."
   ]
  },
  {
   "cell_type": "code",
   "execution_count": 114,
   "id": "d3087cac",
   "metadata": {},
   "outputs": [
    {
     "data": {
      "image/png": "[encoded data removed]",
      "text/plain": [
       "<Figure size 640x480 with 1 Axes>"
      ]
     },
     "metadata": {},
     "output_type": "display_data"
    }
   ],
   "source": [
    "plt.scatter(data['x_value'], data['y_value'], color=data['color'])\n",
    "plt.title('Tačke sadržane u skupu')\n",
    "plt.show()"
   ]
  }
 ],
 "metadata": {
  "kernelspec": {
   "display_name": "Python 3 (ipykernel)",
   "language": "python",
   "name": "python3"
  },
  "language_info": {
   "codemirror_mode": {
    "name": "ipython",
    "version": 3
   },
   "file_extension": ".py",
   "mimetype": "text/x-python",
   "name": "python",
   "nbconvert_exporter": "python",
   "pygments_lexer": "ipython3",
   "version": "3.10.13"
  }
 },
 "nbformat": 4,
 "nbformat_minor": 5
}
