{
 "cells": [
  {
   "cell_type": "markdown",
   "metadata": {},
   "source": [
    "# Autoenkoderi"
   ]
  },
  {
   "cell_type": "markdown",
   "metadata": {},
   "source": [
    "U ovoj svesci biće prikazano kako se autoenkoderi mogu kreirati korišćenjem objektne podrške Keras biblioteke."
   ]
  },
  {
   "cell_type": "code",
   "execution_count": 1,
   "metadata": {},
   "outputs": [],
   "source": [
    "import torch\n",
    "import torch.nn as nn"
   ]
  },
  {
   "cell_type": "code",
   "execution_count": 2,
   "metadata": {},
   "outputs": [],
   "source": [
    "from tensorflow.keras.models import Model\n",
    "from tensorflow.keras.layers import Activation, Dense, Input\n",
    "from tensorflow.keras.layers import Conv2D, Flatten\n",
    "from tensorflow.keras.layers import Reshape, Conv2DTranspose\n",
    "from tensorflow.keras import backend as K"
   ]
  },
  {
   "cell_type": "code",
   "execution_count": null,
   "metadata": {},
   "outputs": [],
   "source": []
  },
  {
   "cell_type": "markdown",
   "metadata": {},
   "source": [
    "Specifični model dobija se nasleđivanjem `Model` objekta biblioteke Keras. Slojevi koje model objedinjuje se kreiraju u konstruktorskoj metodi `__init__`, a propagacija unapred kroz mrežu se definiše metodom `call`. "
   ]
  },
  {
   "cell_type": "markdown",
   "metadata": {},
   "source": [
    "Model koji ćemo kreirati odgovara autoenkoderu konstruisanom u prethodnom primeru. "
   ]
  },
  {
   "cell_type": "code",
   "execution_count": 3,
   "metadata": {},
   "outputs": [],
   "source": [
    "class Autoencoder(nn.Module):\n",
    "    def __init__(self, latent_dim, kernel_size, layer_filters):\n",
    "        super().__init__()\n",
    "        \n",
    "        self.image_size = 28\n",
    "        \n",
    "        self.latent_dim = latent_dim\n",
    "        self.kernel_size = kernel_size\n",
    "        self.layer_filters = layer_filters\n",
    "        \n",
    "        self.encoder = self.__create_encoder(self.image_size)\n",
    "        \n",
    "        self.decoder = self.__create_decoder(self.image_size)\n",
    "        \n",
    "    def __create_encoder(self, image_size):\n",
    "        num_channels = 1\n",
    "        layers = []\n",
    "        for filters in self.layer_filters:\n",
    "            layers.append(\n",
    "                nn.Conv2d(num_channels, filters, kernel_size=self.kernel_size, stride=2, padding='same')\n",
    "            )\n",
    "            num_channels = filters\n",
    "            layers.append(nn.ReLU())\n",
    "        layers.append(nn.Flatten())\n",
    "        H, W = image_size\n",
    "\n",
    "        layers.append(nn.Linear(H * W * num_channels, self.latent_dim))        \n",
    "        return nn.Sequential(*layers)\n",
    "        \n",
    "    def __create_decoder(self, image_size):\n",
    "        \n",
    "        H, W = image_size\n",
    "        layers = [\n",
    "            nn.Linear(self.latent_dim, H * W * self.layer_filters[-1]),\n",
    "            nn.ReLU()\n",
    "        ]\n",
    "        num_channels = self.layer_filters[-1]\n",
    "        layers.append(\n",
    "            nn.Unflatten(1, (num_channels, H, W))\n",
    "        )\n",
    "        for filters in reversed(self.layer_filters):\n",
    "            layers.append(\n",
    "                nn.ConvTranspose2d(filters, filters, kernel_size=self.kernel_size, stride=2, padding='same')\n",
    "            )\n",
    "            layers.append(nn.ReLU())\n",
    "        layers.append(\n",
    "            nn.ConvTranspose2d(filters, 1, kernel_size=self.kernel_size, padding='same')\n",
    "        )\n",
    "        layers.append(nn.Sigmoid())\n",
    "        return nn.Sequential(*layers)\n",
    "        \n",
    "    def forward(self, x):\n",
    "        encoded = self.encoder(x)\n",
    "        decoded = self.decoder(encoded)\n",
    "        return decoded"
   ]
  },
  {
   "cell_type": "code",
   "execution_count": 4,
   "metadata": {},
   "outputs": [],
   "source": [
    "latent_dim = 16\n",
    "kernel_size = 3\n",
    "layer_filters = [32, 64]"
   ]
  },
  {
   "cell_type": "code",
   "execution_count": 5,
   "metadata": {},
   "outputs": [],
   "source": [
    "autoencoder = Autoencoder(latent_dim, kernel_size, layer_filters)"
   ]
  },
  {
   "cell_type": "markdown",
   "metadata": {},
   "source": [
    "Samo kompajliranje modela, treniranje i testiranje mreže se sprovesti na uobičajen način tj. korišćenjem `compile`, `fit` i `predict` funkcija."
   ]
  },
  {
   "cell_type": "code",
   "execution_count": null,
   "metadata": {},
   "outputs": [],
   "source": []
  }
 ],
 "metadata": {
  "kernelspec": {
   "display_name": "Python 3",
   "language": "python",
   "name": "python3"
  },
  "language_info": {
   "codemirror_mode": {
    "name": "ipython",
    "version": 3
   },
   "file_extension": ".py",
   "mimetype": "text/x-python",
   "name": "python",
   "nbconvert_exporter": "python",
   "pygments_lexer": "ipython3",
   "version": "3.8.3"
  }
 },
 "nbformat": 4,
 "nbformat_minor": 4
}
