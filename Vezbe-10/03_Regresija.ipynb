{
 "cells": [
  {
   "cell_type": "markdown",
   "metadata": {},
   "source": [
    "# Korišćenje neuronskih mreža u regresionim zadacima"
   ]
  },
  {
   "cell_type": "markdown",
   "metadata": {},
   "source": [
    "Zadatak:\n",
    " - dizajnirati i istrenirati neuronsku mrežu za predikciju cena nekretnina\n",
    " - skup podataka: Boston Housing dataset\n",
    " - dizajn rešenja: neuronska mreža sa propagacijom unapred"
   ]
  },
  {
   "cell_type": "code",
   "execution_count": 1,
   "metadata": {},
   "outputs": [],
   "source": [
    "import torch\n",
    "import numpy as np\n",
    "\n",
    "SEED = 7\n",
    "# za determinističko izvršavanje sveske:\n",
    "np.random.seed(SEED)\n",
    "torch.manual_seed(SEED)\n",
    "if torch.cuda.is_available():\n",
    "    torch.cuda.manual_seed_all(SEED)"
   ]
  },
  {
   "cell_type": "markdown",
   "metadata": {},
   "source": [
    "## Priprema skupa podataka"
   ]
  },
  {
   "cell_type": "markdown",
   "metadata": {},
   "source": [
    "*Boston housing* je skup podataka namenjen razviju modele za predviđanje cena nekretnina u Bostonu. Sadrži 13 različitih atributa koji obuhvataju različite aspekte stambenih objekata i njihovih okolina. Atributi uključuju, između ostalog, površinu nekretnine, broj soba, stopu kriminala u oblasti, pristup putevima i poreze. Više o ovom skupu podataka možete pročitati [ovde](https://www.cs.toronto.edu/~delve/data/boston/bostonDetail.html)."
   ]
  },
  {
   "cell_type": "code",
   "execution_count": 2,
   "metadata": {},
   "outputs": [],
   "source": [
    "import pandas as pd\n",
    "\n",
    "data = pd.read_csv('data/boston.csv')"
   ]
  },
  {
   "cell_type": "code",
   "execution_count": 3,
   "metadata": {},
   "outputs": [
    {
     "data": {
      "text/html": [
       "<div>\n",
       "<style scoped>\n",
       "    .dataframe tbody tr th:only-of-type {\n",
       "        vertical-align: middle;\n",
       "    }\n",
       "\n",
       "    .dataframe tbody tr th {\n",
       "        vertical-align: top;\n",
       "    }\n",
       "\n",
       "    .dataframe thead th {\n",
       "        text-align: right;\n",
       "    }\n",
       "</style>\n",
       "<table border=\"1\" class=\"dataframe\">\n",
       "  <thead>\n",
       "    <tr style=\"text-align: right;\">\n",
       "      <th></th>\n",
       "      <th>CRIM</th>\n",
       "      <th>ZN</th>\n",
       "      <th>INDUS</th>\n",
       "      <th>CHAS</th>\n",
       "      <th>NOX</th>\n",
       "      <th>RM</th>\n",
       "      <th>AGE</th>\n",
       "      <th>DIS</th>\n",
       "      <th>RAD</th>\n",
       "      <th>TAX</th>\n",
       "      <th>PTRATIO</th>\n",
       "      <th>B</th>\n",
       "      <th>LSTAT</th>\n",
       "      <th>MEDV</th>\n",
       "    </tr>\n",
       "  </thead>\n",
       "  <tbody>\n",
       "    <tr>\n",
       "      <th>0</th>\n",
       "      <td>0.00632</td>\n",
       "      <td>18.0</td>\n",
       "      <td>2.31</td>\n",
       "      <td>0</td>\n",
       "      <td>0.538</td>\n",
       "      <td>6.575</td>\n",
       "      <td>65.2</td>\n",
       "      <td>4.0900</td>\n",
       "      <td>1</td>\n",
       "      <td>296.0</td>\n",
       "      <td>15.3</td>\n",
       "      <td>396.90</td>\n",
       "      <td>4.98</td>\n",
       "      <td>24.0</td>\n",
       "    </tr>\n",
       "    <tr>\n",
       "      <th>1</th>\n",
       "      <td>0.02731</td>\n",
       "      <td>0.0</td>\n",
       "      <td>7.07</td>\n",
       "      <td>0</td>\n",
       "      <td>0.469</td>\n",
       "      <td>6.421</td>\n",
       "      <td>78.9</td>\n",
       "      <td>4.9671</td>\n",
       "      <td>2</td>\n",
       "      <td>242.0</td>\n",
       "      <td>17.8</td>\n",
       "      <td>396.90</td>\n",
       "      <td>9.14</td>\n",
       "      <td>21.6</td>\n",
       "    </tr>\n",
       "    <tr>\n",
       "      <th>2</th>\n",
       "      <td>0.02729</td>\n",
       "      <td>0.0</td>\n",
       "      <td>7.07</td>\n",
       "      <td>0</td>\n",
       "      <td>0.469</td>\n",
       "      <td>7.185</td>\n",
       "      <td>61.1</td>\n",
       "      <td>4.9671</td>\n",
       "      <td>2</td>\n",
       "      <td>242.0</td>\n",
       "      <td>17.8</td>\n",
       "      <td>392.83</td>\n",
       "      <td>4.03</td>\n",
       "      <td>34.7</td>\n",
       "    </tr>\n",
       "    <tr>\n",
       "      <th>3</th>\n",
       "      <td>0.03237</td>\n",
       "      <td>0.0</td>\n",
       "      <td>2.18</td>\n",
       "      <td>0</td>\n",
       "      <td>0.458</td>\n",
       "      <td>6.998</td>\n",
       "      <td>45.8</td>\n",
       "      <td>6.0622</td>\n",
       "      <td>3</td>\n",
       "      <td>222.0</td>\n",
       "      <td>18.7</td>\n",
       "      <td>394.63</td>\n",
       "      <td>2.94</td>\n",
       "      <td>33.4</td>\n",
       "    </tr>\n",
       "    <tr>\n",
       "      <th>4</th>\n",
       "      <td>0.06905</td>\n",
       "      <td>0.0</td>\n",
       "      <td>2.18</td>\n",
       "      <td>0</td>\n",
       "      <td>0.458</td>\n",
       "      <td>7.147</td>\n",
       "      <td>54.2</td>\n",
       "      <td>6.0622</td>\n",
       "      <td>3</td>\n",
       "      <td>222.0</td>\n",
       "      <td>18.7</td>\n",
       "      <td>396.90</td>\n",
       "      <td>5.33</td>\n",
       "      <td>36.2</td>\n",
       "    </tr>\n",
       "  </tbody>\n",
       "</table>\n",
       "</div>"
      ],
      "text/plain": [
       "      CRIM    ZN  INDUS  CHAS    NOX     RM   AGE     DIS  RAD    TAX  \\\n",
       "0  0.00632  18.0   2.31     0  0.538  6.575  65.2  4.0900    1  296.0   \n",
       "1  0.02731   0.0   7.07     0  0.469  6.421  78.9  4.9671    2  242.0   \n",
       "2  0.02729   0.0   7.07     0  0.469  7.185  61.1  4.9671    2  242.0   \n",
       "3  0.03237   0.0   2.18     0  0.458  6.998  45.8  6.0622    3  222.0   \n",
       "4  0.06905   0.0   2.18     0  0.458  7.147  54.2  6.0622    3  222.0   \n",
       "\n",
       "   PTRATIO       B  LSTAT  MEDV  \n",
       "0     15.3  396.90   4.98  24.0  \n",
       "1     17.8  396.90   9.14  21.6  \n",
       "2     17.8  392.83   4.03  34.7  \n",
       "3     18.7  394.63   2.94  33.4  \n",
       "4     18.7  396.90   5.33  36.2  "
      ]
     },
     "execution_count": 3,
     "metadata": {},
     "output_type": "execute_result"
    }
   ],
   "source": [
    "data.head()"
   ]
  },
  {
   "cell_type": "code",
   "execution_count": 4,
   "metadata": {},
   "outputs": [
    {
     "data": {
      "text/plain": [
       "(506, 14)"
      ]
     },
     "execution_count": 4,
     "metadata": {},
     "output_type": "execute_result"
    }
   ],
   "source": [
    "data.shape"
   ]
  },
  {
   "cell_type": "code",
   "execution_count": 5,
   "metadata": {},
   "outputs": [],
   "source": [
    "from sklearn import model_selection\n",
    "\n",
    "X = data.drop(columns=['MEDV'])\n",
    "y = data['MEDV']\n",
    "X_train_valid, X_test, y_train_valid, y_test = model_selection.train_test_split(X, y, test_size=0.33, random_state=7)\n",
    "X_train, X_valid, y_train, y_valid = model_selection.train_test_split(X_train_valid, y_train_valid, test_size=0.1, random_state=7)"
   ]
  },
  {
   "cell_type": "code",
   "execution_count": 6,
   "metadata": {},
   "outputs": [
    {
     "name": "stdout",
     "output_type": "stream",
     "text": [
      "X_train (305, 13) <class 'pandas.core.frame.DataFrame'>\n",
      "y_train (305,) <class 'pandas.core.series.Series'>\n",
      "X_valid (34, 13) <class 'pandas.core.frame.DataFrame'>\n",
      "y_valid (34,) <class 'pandas.core.series.Series'>\n",
      "X_test (167, 13) <class 'pandas.core.frame.DataFrame'>\n",
      "y_test (167,) <class 'pandas.core.series.Series'>\n"
     ]
    }
   ],
   "source": [
    "print(\"X_train\", X_train.shape, type(X_train))\n",
    "print(\"y_train\", y_train.shape, type(y_train))\n",
    "print(\"X_valid\", X_valid.shape, type(X_valid))\n",
    "print(\"y_valid\", y_valid.shape, type(y_valid))\n",
    "print(\"X_test\", X_test.shape, type(X_test))\n",
    "print(\"y_test\", y_test.shape, type(y_test))"
   ]
  },
  {
   "cell_type": "markdown",
   "metadata": {},
   "source": [
    "Nakon učitavanja, podatke ćemo i standardizovati."
   ]
  },
  {
   "cell_type": "code",
   "execution_count": 7,
   "metadata": {},
   "outputs": [],
   "source": [
    "from sklearn import preprocessing\n",
    "\n",
    "scaler = preprocessing.StandardScaler()\n",
    "scaler.fit(X_train)\n",
    "X_train = scaler.transform(X_train)\n",
    "X_valid = scaler.transform(X_valid)\n",
    "X_test = scaler.transform(X_test)"
   ]
  },
  {
   "cell_type": "code",
   "execution_count": 8,
   "metadata": {},
   "outputs": [
    {
     "name": "stdout",
     "output_type": "stream",
     "text": [
      "X_train\t(305, 13)\t<class 'numpy.ndarray'>\n",
      "y_train\t(305,)\t<class 'pandas.core.series.Series'>\n",
      "X_valid\t(34, 13)\t<class 'numpy.ndarray'>\n",
      "y_valid\t(34,)\t<class 'pandas.core.series.Series'>\n",
      "X_test\t(167, 13)\t<class 'numpy.ndarray'>\n",
      "y_test\t(167,)\t<class 'pandas.core.series.Series'>\n"
     ]
    }
   ],
   "source": [
    "print(\"X_train\", X_train.shape, type(X_train), sep='\\t')\n",
    "print(\"y_train\", y_train.shape, type(y_train), sep='\\t')\n",
    "print(\"X_valid\", X_valid.shape, type(X_valid), sep='\\t')\n",
    "print(\"y_valid\", y_valid.shape, type(y_valid), sep='\\t')\n",
    "print(\"X_test\", X_test.shape, type(X_test), sep='\\t')\n",
    "print(\"y_test\", y_test.shape, type(y_test), sep='\\t')"
   ]
  },
  {
   "cell_type": "markdown",
   "metadata": {},
   "source": [
    "Kako torch biblioteka ne radi sa pandas objektima, prebacicemo ciljnu promenjivu u numpy"
   ]
  },
  {
   "cell_type": "markdown",
   "metadata": {},
   "source": [
    "### Kreiranje mreže"
   ]
  },
  {
   "cell_type": "markdown",
   "metadata": {},
   "source": [
    "Mreža koju ćemo napraviti će biti mreža sa propagacijom unapred. Ulaz u mrežu biće vektor dimenzije 13. Mreža će imati jedan skriveni sloj sa 100 neurona. Izlazni sloj imaće jedan neuron jer mreža treba da predvidi cenu nekretnine. Za aktivacionu funkciju skrivenog sloja odabraćemo `ReLu`, dok ćemo za drugi, izlazni sloj, izostaviti aktivaionu funkciju što je standardni izbor u slučajevima regresionih zadataka. Aktivaciona funkcija bi ograničavala opseg koje mreža može da nauči što je u suprotnosti sa očekivanjima regresionih zadataka. "
   ]
  },
  {
   "cell_type": "code",
   "execution_count": 9,
   "metadata": {},
   "outputs": [],
   "source": [
    "number_of_features = X_train.shape[1]\n",
    "output_size = 1"
   ]
  },
  {
   "cell_type": "code",
   "execution_count": 10,
   "metadata": {},
   "outputs": [],
   "source": [
    "import torch.nn as nn\n",
    "\n",
    "class RegressionModel(nn.Module):\n",
    "    def __init__(self, input_size, output_size):\n",
    "        super(RegressionModel, self).__init__()\n",
    "        layers = [\n",
    "            nn.Linear(input_size, 100),\n",
    "            nn.ReLU(),\n",
    "            nn.Linear(100, output_size),\n",
    "        ]\n",
    "        self.model = nn.Sequential(*layers)\n",
    "\n",
    "        # self.apply(self.init_weights)\n",
    "\n",
    "    def forward(self, x):     \n",
    "        return self.model(x)\n",
    "    \n",
    "    def init_weights(self, m):\n",
    "        if isinstance(m, nn.Linear):\n",
    "            nn.init.xavier_uniform_(m.weight)"
   ]
  },
  {
   "cell_type": "code",
   "execution_count": 11,
   "metadata": {},
   "outputs": [
    {
     "name": "stdout",
     "output_type": "stream",
     "text": [
      "RegressionModel(\n",
      "  (model): Sequential(\n",
      "    (0): Linear(in_features=13, out_features=100, bias=True)\n",
      "    (1): ReLU()\n",
      "    (2): Linear(in_features=100, out_features=1, bias=True)\n",
      "  )\n",
      ")\n",
      "Broj parametara modela:  1501\n"
     ]
    }
   ],
   "source": [
    "model = RegressionModel(number_of_features, output_size)\n",
    "print(model)\n",
    "print(\"Broj parametara modela: \", sum(p.numel() for p in model.parameters() if p.requires_grad))"
   ]
  },
  {
   "cell_type": "markdown",
   "metadata": {},
   "source": [
    "## Treniranje mreže"
   ]
  },
  {
   "cell_type": "markdown",
   "metadata": {},
   "source": [
    "U regresionim zadacima za funkciju greške najčešće koristimo srednjekvadratnu grešku (engl. mean squared error). Pored nje od interesa nam mogu biti i druge metrike. Jedna od čestih metrika koje pratimo je srednja apsolutna greška (eng. mean absolute error). "
   ]
  },
  {
   "cell_type": "markdown",
   "metadata": {},
   "source": [
    "Mrežu ćemo trenirati u 100 epoha sa paketićima veličine 32 instance. Ovoga puta ćemo postaviti i `verbose` parametar funkcije na vrednost 1 kako bismo mogli da pratimo ispise u toku izvršavanja funkcije."
   ]
  },
  {
   "cell_type": "code",
   "execution_count": 12,
   "metadata": {},
   "outputs": [],
   "source": [
    "N_EPOCHS = 200\n",
    "BATCH_SIZE = 32"
   ]
  },
  {
   "cell_type": "code",
   "execution_count": 13,
   "metadata": {},
   "outputs": [],
   "source": [
    "from torch.utils.data import TensorDataset, DataLoader\n",
    "\n",
    "X_train, y_train = torch.FloatTensor(X_train), torch.FloatTensor(y_train.to_numpy())\n",
    "train_dataset = TensorDataset(X_train, y_train)\n",
    "train_loader = DataLoader(dataset=train_dataset, batch_size=BATCH_SIZE, shuffle=True)\n",
    "\n",
    "X_valid, y_valid = torch.FloatTensor(X_valid), torch.FloatTensor(y_valid.to_numpy())\n",
    "valid_dataset = TensorDataset(X_valid, y_valid)\n",
    "valid_loader = DataLoader(dataset=valid_dataset, batch_size=BATCH_SIZE, shuffle=False)"
   ]
  },
  {
   "cell_type": "code",
   "execution_count": 14,
   "metadata": {},
   "outputs": [
    {
     "data": {
      "application/vnd.jupyter.widget-view+json": {
       "model_id": "2e28163bcaec407287b05780ef47750c",
       "version_major": 2,
       "version_minor": 0
      },
      "text/plain": [
       "Epochs:   0%|          | 0/200 [00:00<?, ?it/s]"
      ]
     },
     "metadata": {},
     "output_type": "display_data"
    }
   ],
   "source": [
    "from torch.optim import Adam\n",
    "from tqdm.notebook import tqdm\n",
    "from collections import defaultdict\n",
    "import matplotlib.pyplot as plt\n",
    "\n",
    "device = 'cuda' if torch.cuda.is_available() else 'cpu'\n",
    "model.to(device)\n",
    "\n",
    "optimizer = Adam(params=model.parameters(), lr=0.001)\n",
    "metrics = defaultdict(lambda: {'train': [], 'valid': []})\n",
    "\n",
    "for epoch in tqdm(range(N_EPOCHS), leave=True, desc='Epochs'):\n",
    "    epoch_train_loss, epoch_train_mae, train_samples = 0, 0, 0\n",
    "    epoch_valid_loss, epoch_valid_mae, valid_samples = 0, 0, 0\n",
    "    \n",
    "    # Koraci treninga\n",
    "    model.train()\n",
    "    for inputs, labels in train_loader:\n",
    "        inputs, labels = inputs.to(device), labels.to(device)\n",
    "        batch_size = inputs.size(0)\n",
    "\n",
    "        optimizer.zero_grad()\n",
    "        \n",
    "        # BITNO: .squeeze je neophodan zbok broadcasting pravila!\n",
    "        predictions = model(inputs).squeeze()\n",
    "        loss = (predictions - labels).pow(2).mean()\n",
    "        mae = (predictions - labels).abs().mean()\n",
    "        \n",
    "        loss.backward()\n",
    "        optimizer.step()\n",
    "        \n",
    "        epoch_train_loss += loss.item() * batch_size\n",
    "        epoch_train_mae += mae.item() * batch_size\n",
    "        train_samples += batch_size\n",
    "\n",
    "    # Računanje metrika na validacionom skupu\n",
    "    model.eval()\n",
    "    with torch.no_grad():\n",
    "        for inputs, labels in valid_loader:\n",
    "            inputs, labels = inputs.to(device), labels.to(device)\n",
    "            batch_size = inputs.size(0)\n",
    "\n",
    "            \n",
    "            predictions = model(inputs).squeeze()\n",
    "            loss = (predictions - labels).pow(2).mean()\n",
    "            mae = (predictions - labels).abs().mean()\n",
    "            \n",
    "            epoch_valid_loss += loss.item() * batch_size\n",
    "            epoch_valid_mae += mae.item() * batch_size\n",
    "            valid_samples += batch_size\n",
    "\n",
    "    # Average metrics for the epoch\n",
    "    avg_train_loss = epoch_train_loss / train_samples\n",
    "    avg_train_mae = epoch_train_mae / train_samples\n",
    "    avg_valid_loss = epoch_valid_loss / valid_samples\n",
    "    avg_valid_mae = epoch_valid_mae / valid_samples\n",
    "    \n",
    "    metrics['loss']['train'].append(avg_train_loss)\n",
    "    metrics['mae']['train'].append(avg_train_mae)\n",
    "    metrics['loss']['valid'].append(avg_valid_loss)\n",
    "    metrics['mae']['valid'].append(avg_valid_mae)"
   ]
  },
  {
   "cell_type": "code",
   "execution_count": null,
   "metadata": {},
   "outputs": [],
   "source": []
  },
  {
   "cell_type": "code",
   "execution_count": 15,
   "metadata": {},
   "outputs": [
    {
     "data": {
      "image/png": "[encoded data removed]",
      "text/plain": [
       "<Figure size 1200x600 with 2 Axes>"
      ]
     },
     "metadata": {},
     "output_type": "display_data"
    }
   ],
   "source": [
    "\n",
    "# Plotting metrics\n",
    "fig, axes = plt.subplots(nrows=1, ncols=2, figsize=(12, 6))\n",
    "axes[0].plot(metrics['loss']['train'], label='Training Loss')\n",
    "axes[0].plot(metrics['loss']['valid'], label='Validation Loss')\n",
    "axes[0].set_title('Loss over Epochs')\n",
    "axes[0].set_xlabel('Epoch')\n",
    "axes[0].set_ylabel('Loss')\n",
    "axes[0].legend()\n",
    "\n",
    "axes[1].plot(metrics['mae']['train'], label='Training MAE')\n",
    "axes[1].plot(metrics['mae']['valid'], label='Validation MAE')\n",
    "axes[1].set_title('MAE over Epochs')\n",
    "axes[1].set_xlabel('Epoch')\n",
    "axes[1].set_ylabel('MAE')\n",
    "axes[1].legend()\n",
    "\n",
    "plt.tight_layout()\n",
    "plt.show()\n"
   ]
  },
  {
   "cell_type": "markdown",
   "metadata": {},
   "source": [
    "## Evaluacija mreže"
   ]
  },
  {
   "cell_type": "code",
   "execution_count": 16,
   "metadata": {},
   "outputs": [],
   "source": [
    "X_test, y_test = torch.FloatTensor(X_test), torch.FloatTensor(y_test.to_numpy())\n",
    "test_dataset = TensorDataset(X_test, y_test)\n",
    "test_loader = DataLoader(dataset=test_dataset, batch_size=BATCH_SIZE, shuffle=True)\n"
   ]
  },
  {
   "cell_type": "code",
   "execution_count": 17,
   "metadata": {},
   "outputs": [
    {
     "data": {
      "application/vnd.jupyter.widget-view+json": {
       "model_id": "b23e54ca504c439ab77a78f453b85cc0",
       "version_major": 2,
       "version_minor": 0
      },
      "text/plain": [
       "  0%|          | 0/6 [00:00<?, ?it/s]"
      ]
     },
     "metadata": {},
     "output_type": "display_data"
    },
    {
     "name": "stdout",
     "output_type": "stream",
     "text": [
      "test_mae=2.4577108899990243\n",
      "test_mse=14.864125217506272\n"
     ]
    }
   ],
   "source": [
    "model.eval()\n",
    "test_mse, test_mae, test_samples = 0, 0, 0\n",
    "\n",
    "with torch.no_grad():\n",
    "    for inputs, labels in tqdm(test_loader):\n",
    "        inputs, labels = inputs.to(device), labels.to(device)\n",
    "        batch_size = inputs.size(0)\n",
    "\n",
    "        \n",
    "        predictions = model(inputs).squeeze()\n",
    "        mse = (predictions - labels).pow(2).mean()\n",
    "        mae = (predictions - labels).abs().mean()\n",
    "        \n",
    "        test_mse += mse.item() * batch_size\n",
    "        test_mae += mae.item() * batch_size\n",
    "        test_samples += batch_size\n",
    "test_mse /= test_samples\n",
    "test_mae /= test_samples\n",
    "print(f\"{test_mae=}\")\n",
    "print(f\"{test_mse=}\")"
   ]
  },
  {
   "cell_type": "markdown",
   "metadata": {},
   "source": [
    "Ukoliko su nam potrebne i druge metrike evaluacije, možemo iskoristiti funkcije biblioteke `scikit-learn`."
   ]
  },
  {
   "cell_type": "code",
   "execution_count": 18,
   "metadata": {},
   "outputs": [],
   "source": [
    "from sklearn import metrics"
   ]
  },
  {
   "cell_type": "code",
   "execution_count": 19,
   "metadata": {},
   "outputs": [],
   "source": [
    "model.eval()\n",
    "with torch.no_grad():\n",
    "    y_predicted = model(X_test.to(device)).cpu().numpy()"
   ]
  },
  {
   "cell_type": "code",
   "execution_count": 20,
   "metadata": {},
   "outputs": [
    {
     "data": {
      "text/plain": [
       "0.8041242774873658"
      ]
     },
     "execution_count": 20,
     "metadata": {},
     "output_type": "execute_result"
    }
   ],
   "source": [
    "metrics.r2_score(y_test, y_predicted)"
   ]
  },
  {
   "cell_type": "markdown",
   "metadata": {},
   "source": [
    "Analizom grafika funkcije greške možemo zaključiti da je došlo do malog preprilagođavanja modela. Greška na trening skupu je nastavila da opada, dok je greška na validacionom skupu stagnirala. \n",
    "\n",
    "Ovo nije poželjno, tako da možemo iskoristiti tehniku ranog zaustavljanja treninga (eng. early stopping). Ukoliko najbolja greška na validacionom skupu prestane da opada možemo zaustaviti trening."
   ]
  },
  {
   "cell_type": "markdown",
   "metadata": {},
   "source": [
    "Modifikovaćemo kod za trening kako bi uveli ovu heuristiku:"
   ]
  },
  {
   "cell_type": "code",
   "execution_count": 21,
   "metadata": {},
   "outputs": [
    {
     "data": {
      "application/vnd.jupyter.widget-view+json": {
       "model_id": "bb48943ab17b4989a0ba37c73cb35bfe",
       "version_major": 2,
       "version_minor": 0
      },
      "text/plain": [
       "Epochs:   0%|          | 0/200 [00:00<?, ?it/s]"
      ]
     },
     "metadata": {},
     "output_type": "display_data"
    },
    {
     "name": "stdout",
     "output_type": "stream",
     "text": [
      "\n",
      "EARLY STOPPING\n",
      "\n"
     ]
    }
   ],
   "source": [
    "model2 = RegressionModel(number_of_features, output_size)\n",
    "model2.to(device)\n",
    "optimizer = Adam(params=model2.parameters(), lr=0.001)\n",
    "metrics2 = defaultdict(lambda: {'train': [], 'valid': []})\n",
    "\n",
    "best_val_loss = float('inf')\n",
    "early_stopping_patience = 10  # broj epoha koji čekamo na poboljšanje\n",
    "eps = 1e-5                    # minimalno poboljšanje koje očekujemo\n",
    "steps_since_improvment = 0\n",
    "\n",
    "for epoch in tqdm(range(N_EPOCHS), leave=True, desc='Epochs'):\n",
    "    epoch_train_loss, epoch_train_mae, train_samples = 0, 0, 0\n",
    "    epoch_valid_loss, epoch_valid_mae, valid_samples = 0, 0, 0\n",
    "    \n",
    "    # Koraci treninga\n",
    "    model2.train()\n",
    "    for inputs, labels in train_loader:\n",
    "        inputs, labels = inputs.to(device), labels.to(device)\n",
    "        batch_size = inputs.size(0)\n",
    "\n",
    "        optimizer.zero_grad()\n",
    "        \n",
    "        # BITNO: .squeeze je neophodan zbok broadcasting pravila!\n",
    "        predictions = model2(inputs).squeeze()\n",
    "        loss = (predictions - labels).pow(2).mean()\n",
    "        mae = (predictions - labels).abs().mean()\n",
    "        \n",
    "        loss.backward()\n",
    "        optimizer.step()\n",
    "        \n",
    "        epoch_train_loss += loss.item() * batch_size\n",
    "        epoch_train_mae += mae.item() * batch_size\n",
    "        train_samples += batch_size\n",
    "\n",
    "    # Računanje metrika na validacionom skupu\n",
    "    model2.eval()\n",
    "    with torch.no_grad():\n",
    "        for inputs, labels in valid_loader:\n",
    "            inputs, labels = inputs.to(device), labels.to(device)\n",
    "            batch_size = inputs.size(0)\n",
    "\n",
    "            \n",
    "            predictions = model2(inputs).squeeze()\n",
    "            loss = (predictions - labels).pow(2).mean()\n",
    "            mae = (predictions - labels).abs().mean()\n",
    "            \n",
    "            epoch_valid_loss += loss.item() * batch_size\n",
    "            epoch_valid_mae += mae.item() * batch_size\n",
    "            valid_samples += batch_size\n",
    "\n",
    "    # Average metrics for the epoch\n",
    "    avg_train_loss = epoch_train_loss / train_samples\n",
    "    avg_train_mae = epoch_train_mae / train_samples\n",
    "    avg_valid_loss = epoch_valid_loss / valid_samples\n",
    "    avg_valid_mae = epoch_valid_mae / valid_samples\n",
    "    \n",
    "    metrics2['loss']['train'].append(avg_train_loss)\n",
    "    metrics2['mae']['train'].append(avg_train_mae)\n",
    "    metrics2['loss']['valid'].append(avg_valid_loss)\n",
    "    metrics2['mae']['valid'].append(avg_valid_mae)\n",
    "\n",
    "    # Deo koda posvećen ranom zaustavljanju:\n",
    "    if best_val_loss > avg_valid_loss + eps:\n",
    "        best_val_loss = avg_valid_loss\n",
    "        steps_since_improvment = 0\n",
    "    else:\n",
    "        steps_since_improvment += 1\n",
    "        if steps_since_improvment == early_stopping_patience:\n",
    "            print(\"\\nEARLY STOPPING\\n\")\n",
    "            break"
   ]
  },
  {
   "cell_type": "code",
   "execution_count": 22,
   "metadata": {},
   "outputs": [
    {
     "data": {
      "image/png": "[encoded data removed]",
      "text/plain": [
       "<Figure size 1200x600 with 2 Axes>"
      ]
     },
     "metadata": {},
     "output_type": "display_data"
    }
   ],
   "source": [
    "\n",
    "# Plotting metrics\n",
    "fig, axes = plt.subplots(nrows=1, ncols=2, figsize=(12, 6))\n",
    "axes[0].plot(metrics2['loss']['train'], label='Training Loss')\n",
    "axes[0].plot(metrics2['loss']['valid'], label='Validation Loss')\n",
    "axes[0].set_title('Loss over Epochs')\n",
    "axes[0].set_xlabel('Epoch')\n",
    "axes[0].set_ylabel('Loss')\n",
    "axes[0].legend()\n",
    "\n",
    "axes[1].plot(metrics2['mae']['train'], label='Training MAE')\n",
    "axes[1].plot(metrics2['mae']['valid'], label='Validation MAE')\n",
    "axes[1].set_title('MAE over Epochs')\n",
    "axes[1].set_xlabel('Epoch')\n",
    "axes[1].set_ylabel('MAE')\n",
    "axes[1].legend()\n",
    "\n",
    "plt.tight_layout()\n",
    "plt.show()\n"
   ]
  },
  {
   "cell_type": "code",
   "execution_count": 23,
   "metadata": {},
   "outputs": [
    {
     "data": {
      "application/vnd.jupyter.widget-view+json": {
       "model_id": "ba41d4301a854b849f7cab4092db57b6",
       "version_major": 2,
       "version_minor": 0
      },
      "text/plain": [
       "  0%|          | 0/6 [00:00<?, ?it/s]"
      ]
     },
     "metadata": {},
     "output_type": "display_data"
    },
    {
     "name": "stdout",
     "output_type": "stream",
     "text": [
      "test_mae=2.669456072196275\n",
      "test_mse=17.11546444750118\n"
     ]
    }
   ],
   "source": [
    "model2.eval()\n",
    "test_mse, test_mae, test_samples = 0, 0, 0\n",
    "\n",
    "with torch.no_grad():\n",
    "    for inputs, labels in tqdm(test_loader):\n",
    "        inputs, labels = inputs.to(device), labels.to(device)\n",
    "        batch_size = inputs.size(0)\n",
    "\n",
    "        \n",
    "        predictions = model2(inputs).squeeze()\n",
    "        mse = (predictions - labels).pow(2).mean()\n",
    "        mae = (predictions - labels).abs().mean()\n",
    "        \n",
    "        test_mse += mse.item() * batch_size\n",
    "        test_mae += mae.item() * batch_size\n",
    "        test_samples += batch_size\n",
    "test_mse /= test_samples\n",
    "test_mae /= test_samples\n",
    "print(f\"{test_mae=}\")\n",
    "print(f\"{test_mse=}\")"
   ]
  },
  {
   "cell_type": "markdown",
   "metadata": {},
   "source": [
    "## Čuvanje modela"
   ]
  },
  {
   "cell_type": "markdown",
   "metadata": {},
   "source": [
    "Kao što smo napomenuli, za svaki sloj mreže postoji matrica parametara i matrica slobodnih članova. Sve parametre modela, kao i njegove slobodne članove možemo dobit pozivom funckije `model.state_dict()`."
   ]
  },
  {
   "cell_type": "code",
   "execution_count": 24,
   "metadata": {},
   "outputs": [
    {
     "name": "stdout",
     "output_type": "stream",
     "text": [
      "odict_keys(['model.0.weight', 'model.0.bias', 'model.2.weight', 'model.2.bias'])\n",
      "<class 'collections.OrderedDict'>\n"
     ]
    }
   ],
   "source": [
    "print(model.state_dict().keys())\n",
    "print(type(model.state_dict()))\n"
   ]
  },
  {
   "cell_type": "code",
   "execution_count": 25,
   "metadata": {},
   "outputs": [
    {
     "name": "stdout",
     "output_type": "stream",
     "text": [
      "model.0.weight torch.Size([100, 13])\n",
      "model.0.bias torch.Size([100])\n",
      "model.2.weight torch.Size([1, 100])\n",
      "model.2.bias torch.Size([1])\n"
     ]
    }
   ],
   "source": [
    "for weight_name in model.state_dict():\n",
    "    print(weight_name, model.state_dict()[weight_name].shape)"
   ]
  },
  {
   "cell_type": "markdown",
   "metadata": {},
   "source": [
    "Pozivom funkcije `torch.save` možemo čuvati vrednosti parametara modela, kao i cele modele. Fajlove koje kreiramo pozivom `torch.save` funkcije se po konvenciji koriste `.pth` ekstenziju."
   ]
  },
  {
   "cell_type": "code",
   "execution_count": 26,
   "metadata": {},
   "outputs": [],
   "source": [
    "torch.save(model.state_dict(), 'saved_models/model.pth')"
   ]
  },
  {
   "cell_type": "code",
   "execution_count": 27,
   "metadata": {},
   "outputs": [],
   "source": [
    "torch.save(model, 'saved_models/model_full.pth')"
   ]
  },
  {
   "cell_type": "markdown",
   "metadata": {},
   "source": [
    "Fajl napravljen `torch.save` funkcijom možemo pročitati funkcijom `torch.load`."
   ]
  },
  {
   "cell_type": "code",
   "execution_count": 28,
   "metadata": {},
   "outputs": [],
   "source": [
    "model_revived = torch.load('saved_models/model_full.pth')"
   ]
  },
  {
   "cell_type": "code",
   "execution_count": 29,
   "metadata": {},
   "outputs": [
    {
     "data": {
      "text/plain": [
       "<All keys matched successfully>"
      ]
     },
     "execution_count": 29,
     "metadata": {},
     "output_type": "execute_result"
    }
   ],
   "source": [
    "model.load_state_dict(torch.load('saved_models/model.pth'))"
   ]
  },
  {
   "cell_type": "markdown",
   "metadata": {},
   "source": [
    "Učitani model se može koristiti na način na koji smo to do sada i radili. "
   ]
  },
  {
   "cell_type": "code",
   "execution_count": null,
   "metadata": {},
   "outputs": [],
   "source": []
  },
  {
   "cell_type": "markdown",
   "metadata": {},
   "source": [
    "Zajednica koja se bavi mašinskim učenjem ulaže napore da standardizuje formate za čuvanje mreža. Jedan od njih je i [ONNX](https://onnx.ai/) za koji torch biblioteka nudi [podršku](https://pytorch.org/docs/stable/onnx.html). O ovim temam će svakako biti više reči i u nastavku kursa. \n",
    "<img src='assets/onnx.png'>"
   ]
  },
  {
   "cell_type": "code",
   "execution_count": 30,
   "metadata": {},
   "outputs": [],
   "source": [
    "torch.onnx.export(model, torch.randn(1, number_of_features, device=device),f=\"model.onnx\")"
   ]
  },
  {
   "cell_type": "markdown",
   "metadata": {},
   "source": [
    "Ukoliko nam je potreban uvid u samu arhitekturu mreže, možemo generisati i grafički prikaz korišćenjem biblioteke torchviz. Za ova generisanja nam je potrebna i bibliteka `graphviz`."
   ]
  },
  {
   "cell_type": "code",
   "execution_count": 31,
   "metadata": {},
   "outputs": [
    {
     "data": {
      "text/plain": [
       "'model_pytorch.png'"
      ]
     },
     "execution_count": 31,
     "metadata": {},
     "output_type": "execute_result"
    }
   ],
   "source": [
    "from torchviz import make_dot \n",
    "\n",
    "dummy_input = torch.randn(1, number_of_features).to(device)\n",
    "output = model(dummy_input)\n",
    "dot = make_dot(output, params=dict(model.named_parameters()))\n",
    "dot.render(\"model_pytorch\", format=\"png\")"
   ]
  },
  {
   "cell_type": "markdown",
   "metadata": {},
   "source": [
    "Vizuelizacije mreže će biti moguće i kroz alat [TensorBoard](https://www.tensorflow.org/tensorboard) koji ćemo, takođe, upoznati na nekom od narednih časova."
   ]
  },
  {
   "cell_type": "code",
   "execution_count": null,
   "metadata": {},
   "outputs": [],
   "source": []
  }
 ],
 "metadata": {
  "kernelspec": {
   "display_name": "Python 3 (ipykernel)",
   "language": "python",
   "name": "python3"
  },
  "language_info": {
   "codemirror_mode": {
    "name": "ipython",
    "version": 3
   },
   "file_extension": ".py",
   "mimetype": "text/x-python",
   "name": "python",
   "nbconvert_exporter": "python",
   "pygments_lexer": "ipython3",
   "version": "3.10.13"
  }
 },
 "nbformat": 4,
 "nbformat_minor": 4
}
